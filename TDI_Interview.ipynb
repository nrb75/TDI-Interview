{
 "cells": [
  {
   "cell_type": "markdown",
   "metadata": {},
   "source": [
    "## This is a general introduction to t-tests and p-values for the TDI interview."
   ]
  },
  {
   "cell_type": "code",
   "execution_count": 2,
   "metadata": {},
   "outputs": [
    {
     "name": "stderr",
     "output_type": "stream",
     "text": [
      "Installing packages into 'C:/Users/Natalie/Documents/R/win-library/3.5'\n",
      "(as 'lib' is unspecified)\n"
     ]
    },
    {
     "name": "stdout",
     "output_type": "stream",
     "text": [
      "package 'ggplot2' successfully unpacked and MD5 sums checked\n",
      "package 'dplyr' successfully unpacked and MD5 sums checked\n",
      "package 'sciplot' successfully unpacked and MD5 sums checked\n",
      "package 'repr' successfully unpacked and MD5 sums checked\n",
      "\n",
      "The downloaded binary packages are in\n",
      "\tC:\\Users\\Natalie\\AppData\\Local\\Temp\\RtmpcheXEM\\downloaded_packages\n"
     ]
    }
   ],
   "source": [
    "options(repos = c('https://cloud.r-project.org/'))\n",
    "install.packages(c(\"ggplot2\", \"dplyr\", \"sciplot\", \"repr\"))"
   ]
  },
  {
   "cell_type": "markdown",
   "metadata": {},
   "source": [
    "Let's say you have two groups of friends, those you met in undergrad and those you met in graduate school. You suspect that the IQ's of these two groups are different, but how do you know for sure? The t-test! \n"
   ]
  },
  {
   "cell_type": "markdown",
   "metadata": {},
   "source": [
    "### You use a t-test to compare the means (averages) between two groups and determine if one group is different than the other. \n",
    "Statistics help us do more than just compare the means. After all, many groups can have the same mean with drastically different individual scores."
   ]
  },
  {
   "cell_type": "markdown",
   "metadata": {},
   "source": [
    "Let's take a look at some of the IQ scores for these two groups:"
   ]
  },
  {
   "cell_type": "code",
   "execution_count": 3,
   "metadata": {},
   "outputs": [
    {
     "data": {
      "text/html": [
       "<table>\n",
       "<thead><tr><th scope=col>undergrad</th><th scope=col>grad</th></tr></thead>\n",
       "<tbody>\n",
       "\t<tr><td>85 </td><td> 94</td></tr>\n",
       "\t<tr><td>88 </td><td> 96</td></tr>\n",
       "\t<tr><td>91 </td><td> 96</td></tr>\n",
       "\t<tr><td>93 </td><td> 97</td></tr>\n",
       "\t<tr><td>97 </td><td> 98</td></tr>\n",
       "\t<tr><td>99 </td><td>102</td></tr>\n",
       "</tbody>\n",
       "</table>\n"
      ],
      "text/latex": [
       "\\begin{tabular}{r|ll}\n",
       " undergrad & grad\\\\\n",
       "\\hline\n",
       "\t 85  &  94\\\\\n",
       "\t 88  &  96\\\\\n",
       "\t 91  &  96\\\\\n",
       "\t 93  &  97\\\\\n",
       "\t 97  &  98\\\\\n",
       "\t 99  & 102\\\\\n",
       "\\end{tabular}\n"
      ],
      "text/markdown": [
       "\n",
       "undergrad | grad | \n",
       "|---|---|---|---|---|---|\n",
       "| 85  |  94 | \n",
       "| 88  |  96 | \n",
       "| 91  |  96 | \n",
       "| 93  |  97 | \n",
       "| 97  |  98 | \n",
       "| 99  | 102 | \n",
       "\n",
       "\n"
      ],
      "text/plain": [
       "  undergrad grad\n",
       "1 85         94 \n",
       "2 88         96 \n",
       "3 91         96 \n",
       "4 93         97 \n",
       "5 97         98 \n",
       "6 99        102 "
      ]
     },
     "metadata": {},
     "output_type": "display_data"
    }
   ],
   "source": [
    "friendIQ=read.csv(\"SampleData/FriendIQ.csv\")\n",
    "head(friendIQ)"
   ]
  },
  {
   "cell_type": "markdown",
   "metadata": {},
   "source": [
    "Let's look at some summary statistics for each group:"
   ]
  },
  {
   "cell_type": "code",
   "execution_count": 4,
   "metadata": {},
   "outputs": [
    {
     "data": {
      "text/html": [
       "<table>\n",
       "<thead><tr><th></th><th scope=col>undergrad</th><th scope=col>grad</th></tr></thead>\n",
       "<tbody>\n",
       "\t<tr><th scope=row>mean</th><td>102.94</td><td>107.69</td></tr>\n",
       "\t<tr><th scope=row>median</th><td>100.00</td><td>106.50</td></tr>\n",
       "\t<tr><th scope=row>sd</th><td> 13.50</td><td> 10.81</td></tr>\n",
       "\t<tr><th scope=row>max</th><td>140.00</td><td>128.00</td></tr>\n",
       "\t<tr><th scope=row>obs</th><td> 16.00</td><td> 16.00</td></tr>\n",
       "</tbody>\n",
       "</table>\n"
      ],
      "text/latex": [
       "\\begin{tabular}{r|ll}\n",
       "  & undergrad & grad\\\\\n",
       "\\hline\n",
       "\tmean & 102.94 & 107.69\\\\\n",
       "\tmedian & 100.00 & 106.50\\\\\n",
       "\tsd &  13.50 &  10.81\\\\\n",
       "\tmax & 140.00 & 128.00\\\\\n",
       "\tobs &  16.00 &  16.00\\\\\n",
       "\\end{tabular}\n"
      ],
      "text/markdown": [
       "\n",
       "| <!--/--> | undergrad | grad | \n",
       "|---|---|---|---|---|\n",
       "| mean | 102.94 | 107.69 | \n",
       "| median | 100.00 | 106.50 | \n",
       "| sd |  13.50 |  10.81 | \n",
       "| max | 140.00 | 128.00 | \n",
       "| obs |  16.00 |  16.00 | \n",
       "\n",
       "\n"
      ],
      "text/plain": [
       "       undergrad grad  \n",
       "mean   102.94    107.69\n",
       "median 100.00    106.50\n",
       "sd      13.50     10.81\n",
       "max    140.00    128.00\n",
       "obs     16.00     16.00"
      ]
     },
     "metadata": {},
     "output_type": "display_data"
    }
   ],
   "source": [
    "sum.stat=function(x) {round(c(mean=mean(x), median=median(x), sd=sd(x), max=max(x), obs=length(x)),2)}\n",
    "sum.data=sapply(friendIQ, sum.stat)\n",
    "sum.data"
   ]
  },
  {
   "cell_type": "markdown",
   "metadata": {},
   "source": [
    "hmmmmm, it seems like the undergrad group has lower IQ scores than the graduate group. If we want to test this, we need to use a t-test. \n",
    "\n",
    "A t-test, like all statistical tests, calculates a $test\\ statistic$ and compares it to a known $critical\\ value$. If the $test\\ statistic$ is $\\textbf{larger}$ than the $critical\\ value$, we then conclude that our result is not due to chance and is a 'real' result. When this occurs we 'reject the null hypothesis'. The null hypothesis is usually benign, for example, \"the treatment had no effect on patient survival\" or \"group A and B lost the same amount of weight\". We are really interested in what happens if we reject the null. For example, we can say \"the treatment did effect patient survival\" and we want to invest more money in this drug development.\n"
   ]
  },
  {
   "cell_type": "markdown",
   "metadata": {},
   "source": [
    "A critical value is calculated with the sample data characterisitics (i.e, degrees of freedom, and distribution) and a selected error rate. An error rate $\\alpha$, is usually set at 0.05, and this means there is a 5% chance the result is due to random error and not a real result. This error rate is called the $p-value$, and the lower the p-value the lower the chance that our result is due to random chance. Small p-values indicate real results, not those from randomness."
   ]
  },
  {
   "cell_type": "markdown",
   "metadata": {},
   "source": [
    "We can visualize this error rate by looking at a normal curve and calculating the area under the cuve, the area to the right of our value is equal to the error rate.\n",
    "##### For 1-tailed test, the area to the right of the critical value = 0.05, shown below in gray."
   ]
  },
  {
   "cell_type": "code",
   "execution_count": 5,
   "metadata": {},
   "outputs": [
    {
     "data": {
      "image/png": "[encoded data removed]",
      "text/plain": [
       "Plot with title \"Normal Distribution\""
      ]
     },
     "metadata": {},
     "output_type": "display_data"
    }
   ],
   "source": [
    "options(repr.plot.width=4, repr.plot.height=3.5)\n",
    "draws <- rnorm(1000000, mean=0, sd=1) #random values from t-distribution\n",
    "dens <- density(draws) #desnity distribution of random draws from t-distribution\n",
    "criticalvaluehigh=quantile(draws, .95) #critical value of upper tail\n",
    "\n",
    "indexhigh=min(which(dens$x >=criticalvaluehigh)) #critical value high\n",
    "right=max(which(dens$x<4)) #end. The area between indexhigh and right should be 0.025\n",
    "\n",
    "plot(dens, xlim=c(-4,4), xlab=\"\", main=\"Normal Distribution\")\n",
    "with(dens, polygon(x=c(x[c(indexhigh,indexhigh:right,right)]), y= c(0, y[indexhigh:right], 0), col=\"gray85\")) #high tail"
   ]
  },
  {
   "cell_type": "markdown",
   "metadata": {},
   "source": [
    "If our data calculates a test statistic larger than the critical value, then the area (or error rate) is less than 5%. This is the error we are able to tolerate, but if you are more conservative you can shrink this error and increase the critical value to ensure an even lower error rate.\n",
    "\n",
    "The dark gray area below represents our data where we are more certain (error rate <0.05) our data is a real result.\n"
   ]
  },
  {
   "cell_type": "code",
   "execution_count": 6,
   "metadata": {},
   "outputs": [
    {
     "data": {
      "image/png": "[encoded data removed]",
      "text/plain": [
       "Plot with title \"Normal Distribution\""
      ]
     },
     "metadata": {},
     "output_type": "display_data"
    }
   ],
   "source": [
    "draws <- rnorm(1000000, mean=0, sd=1) #random values from t-distribution\n",
    "dens <- density(draws) #desnity distribution of random draws from t-distribution\n",
    "criticalvaluehigh=quantile(draws, .95) #critical value of upper tail\n",
    "\n",
    "indexhigh=min(which(dens$x >=criticalvaluehigh)) #critical value high\n",
    "indexhigh2=min(which(dens$x >=criticalvaluehigh+0.5))#new data critical value higher than 0.05 threshold\n",
    "right=max(which(dens$x<4)) #end. The area between indexhigh and right should be 0.025\n",
    "\n",
    "plot(dens, xlim=c(-4,4), xlab=\"\", main=\"Normal Distribution\")\n",
    "with(dens, polygon(x=c(x[c(indexhigh,indexhigh:right,right)]), y= c(0, y[indexhigh:right], 0), col=\"gray85\")) #high tail\n",
    "with(dens, polygon(x=c(x[c(indexhigh2,indexhigh2:right,right)]), y= c(0, y[indexhigh2:right], 0), col=\"gray55\"))#new data with a greater test statistic"
   ]
  },
  {
   "cell_type": "markdown",
   "metadata": {},
   "source": [
    "Conversely, if our data calculates a test statisitc lower than the critical value, then the area is greater than 5%, and we have a larger error rate than we want. The dark gray area below is >0.05 (larger than the light gray area) and this means we are less certain that the results are real, and we would not reject the null hypothesis."
   ]
  },
  {
   "cell_type": "code",
   "execution_count": 7,
   "metadata": {},
   "outputs": [
    {
     "data": {
      "image/png": "[encoded data removed]",
      "text/plain": [
       "Plot with title \"Normal Distribution\""
      ]
     },
     "metadata": {},
     "output_type": "display_data"
    }
   ],
   "source": [
    "draws <- rnorm(1000000, mean=0, sd=1) #random values from t-distribution\n",
    "dens <- density(draws) #desnity distribution of random draws from normal-distribution\n",
    "criticalvaluehigh=quantile(draws, .95) #critical value of upper tail\n",
    "\n",
    "indexhigh=min(which(dens$x >=criticalvaluehigh)) #critical value high\n",
    "indexhigh3=min(which(dens$x >=criticalvaluehigh-0.5))#new data critical value lower than 0.05 threshold\n",
    "right=max(which(dens$x<4)) #end. The area between indexhigh and right should be 0.025\n",
    "\n",
    "plot(dens, xlim=c(-4,4), xlab=\"\", main=\"Normal Distribution\")\n",
    "with(dens, polygon(x=c(x[c(indexhigh3,indexhigh3:right,right)]), y= c(0, y[indexhigh3:right], 0), col=\"gray55\"))#new data with a greater test statistic\n",
    "with(dens, polygon(x=c(x[c(indexhigh,indexhigh:right,right)]), y= c(0, y[indexhigh:right], 0), col=\"gray85\")) #high tail"
   ]
  },
  {
   "cell_type": "markdown",
   "metadata": {},
   "source": [
    "### Now that we know that a t-test is calculating a value we use to assess how likely our results are due to chance (the p-value). It's time to go back to our undergrad vs. grad IQ scores and see which group is smarter!"
   ]
  },
  {
   "cell_type": "markdown",
   "metadata": {},
   "source": [
    "Before we can use this statistical test, we have to first make sure our data satisfies the assumptions of the t-test. The assumptions are:\n",
    "\n",
    "1. The data are continuous\n",
    "2. The data follow a normal distribution\n",
    "3. The samples are independent\n",
    "4. The two groups have approximately equal variance"
   ]
  },
  {
   "cell_type": "markdown",
   "metadata": {},
   "source": [
    "###### Assumption 1 is satisfied because these IQ scores could be any value on the scale. \n",
    "Even though the IQ scores are reported as discrete values (e.g., 100 and not 100.044), the IQ score could be any value and is not constrained as in other situations like a clinical trial with the number of cancer patients (there cannot be half a patient).\n",
    "\n"
   ]
  },
  {
   "cell_type": "markdown",
   "metadata": {},
   "source": [
    "###### Assumption 2 can be checked by examining the data distribution for both groups.\n",
    "A normal distribution follows a bell-curve. Let's look at the histograms of each group:"
   ]
  },
  {
   "cell_type": "code",
   "execution_count": 8,
   "metadata": {},
   "outputs": [
    {
     "data": {
      "image/png": "[encoded data removed]",
      "text/plain": [
       "Plot with title \"Histogram of friendIQ$undergrad\""
      ]
     },
     "metadata": {},
     "output_type": "display_data"
    },
    {
     "data": {
      "image/png": "[encoded data removed]",
      "text/plain": [
       "Plot with title \"Histogram of friendIQ$grad\""
      ]
     },
     "metadata": {},
     "output_type": "display_data"
    }
   ],
   "source": [
    "options(repr.plot.width=4, repr.plot.height=3.5)\n",
    "hist(friendIQ$undergrad)\n",
    "hist(friendIQ$grad)\n",
    "\n",
    "#Important for inference, even when underlying distributions are not\n",
    "#normal, the sampling distribution of the sample mean is\n",
    "#approximately normal"
   ]
  },
  {
   "cell_type": "markdown",
   "metadata": {},
   "source": [
    "If the data were normal, we would expect it to follow the typical bell-shaped curve seen above. However, because our sample size is small, these histograms could actually come from a normal distribution. Here are some histograms generated with 16 observations from the normal distribution:"
   ]
  },
  {
   "cell_type": "code",
   "execution_count": 9,
   "metadata": {},
   "outputs": [
    {
     "data": {
      "image/png": "[encoded data removed]",
      "text/plain": [
       "Plot with title \"Histogram of rnorm(16, 110, 10)\""
      ]
     },
     "metadata": {},
     "output_type": "display_data"
    },
    {
     "data": {
      "image/png": "[encoded data removed]",
      "text/plain": [
       "Plot with title \"Histogram of rnorm(16, 100, 12)\""
      ]
     },
     "metadata": {},
     "output_type": "display_data"
    }
   ],
   "source": [
    "hist(rnorm(16, 110,10))\n",
    "\n",
    "hist(rnorm(16, 100, 12))"
   ]
  },
  {
   "cell_type": "markdown",
   "metadata": {},
   "source": [
    "##### We can test normality by completing shapiro-wilk test (the null hypothesis is that the data is normal):"
   ]
  },
  {
   "cell_type": "code",
   "execution_count": 11,
   "metadata": {},
   "outputs": [
    {
     "data": {
      "text/plain": [
       "\n",
       "\tShapiro-Wilk normality test\n",
       "\n",
       "data:  friendIQ$undergrad\n",
       "W = 0.89207, p-value = 0.06007\n"
      ]
     },
     "metadata": {},
     "output_type": "display_data"
    }
   ],
   "source": [
    "shapiro.test(friendIQ$grad)"
   ]
  },
  {
   "cell_type": "markdown",
   "metadata": {},
   "source": [
    "Because the p-value is large (above the 0.05 threshold), this leads us to conclude the data is normal and not reject the null hypothesis."
   ]
  },
  {
   "cell_type": "markdown",
   "metadata": {},
   "source": [
    "###### Assumption 3, that the data are independent, is true because these are individual results from each person. \n",
    "One person's IQ is not affecting the other person's IQ. If people in the group were related or shared the same high schools, the observations would not be independent. Luckily, all my friends were from different high schools and I wasn't friends with any siblings, so these are independent observations!"
   ]
  },
  {
   "cell_type": "markdown",
   "metadata": {},
   "source": [
    "###### Assumption 4, that the groups have equal variance, is checked by perfroming a F-test (null hypothesis: both groups have equal variance):"
   ]
  },
  {
   "cell_type": "code",
   "execution_count": 14,
   "metadata": {},
   "outputs": [
    {
     "data": {
      "text/plain": [
       "\n",
       "\tF test to compare two variances\n",
       "\n",
       "data:  friendIQ$grad and friendIQ$undergrad\n",
       "F = 0.64086, num df = 15, denom df = 15, p-value = 0.3987\n",
       "alternative hypothesis: true ratio of variances is not equal to 1\n",
       "95 percent confidence interval:\n",
       " 0.223914 1.834208\n",
       "sample estimates:\n",
       "ratio of variances \n",
       "         0.6408626 \n"
      ]
     },
     "metadata": {},
     "output_type": "display_data"
    }
   ],
   "source": [
    "var.test(friendIQ$grad, friendIQ$undergrad, alternative = \"two.sided\")"
   ]
  },
  {
   "cell_type": "markdown",
   "metadata": {},
   "source": [
    "Because the p-value is large (>0.05) we do not reject the null, and conclude that these 2 groups have about equal variance."
   ]
  },
  {
   "cell_type": "markdown",
   "metadata": {},
   "source": [
    "### Now that we satisfied our assumptions to use the t-test, let's find out if our friend groups really do have different IQs! \n",
    "\n",
    "We will use the two sample t-test, where the null hypothesis is that the means of both groups are equal. \n",
    "\n",
    "Ho: mean undergrad IQ = mean grad IQ or\n",
    "    mean undergrad IQ - mean grad IQ = 0"
   ]
  },
  {
   "cell_type": "code",
   "execution_count": 15,
   "metadata": {
    "scrolled": true
   },
   "outputs": [
    {
     "data": {
      "text/plain": [
       "\n",
       "\tTwo Sample t-test\n",
       "\n",
       "data:  friendIQ$undergrad and friendIQ$grad\n",
       "t = -1.0989, df = 30, p-value = 0.2806\n",
       "alternative hypothesis: true difference in means is not equal to 0\n",
       "95 percent confidence interval:\n",
       " -13.577933   4.077933\n",
       "sample estimates:\n",
       "mean of x mean of y \n",
       " 102.9375  107.6875 \n"
      ]
     },
     "metadata": {},
     "output_type": "display_data"
    }
   ],
   "source": [
    "testIQ=t.test(friendIQ$undergrad, friendIQ$grad, var.equal = TRUE)\n",
    "testIQ"
   ]
  },
  {
   "cell_type": "markdown",
   "metadata": {},
   "source": [
    "### Let's walk through these results. First, your burning question is answered: Do my friend groups have different IQs???\n",
    "\n",
    "#### The answer is 'NO'. \n",
    "\n",
    "How do we know this? The p-value is > 0.05, and suggests this observed difference is likely due to chance and not a true difference in the groups. The p-value of 0.28 suggests that there is a 28% chance due to randomness that the mean IQ of the undergrad and grad group are actually different. \n",
    "If each group is a random sampling from the larger population (i.e, the undergraduate school vs the graduate school) and this experiment were repeated many more times, you would likely see no difference in IQ means between the two groups."
   ]
  },
  {
   "cell_type": "markdown",
   "metadata": {},
   "source": [
    "How was this test done? Can I believe it?"
   ]
  },
  {
   "cell_type": "markdown",
   "metadata": {},
   "source": [
    "The t-test calculated the t-value (test statistic) and then calculated the area above this value. This is a two-tailed test, and the two tails are added together for a total area or p-value.\n",
    "\n",
    "##### The t-value is calculated by comparing the two groups:"
   ]
  },
  {
   "cell_type": "markdown",
   "metadata": {},
   "source": [
    "$$t = y_1 - y_2/ \\sqrt{S_1^2/n_1 + S_2^2/n_2}$$"
   ]
  },
  {
   "cell_type": "markdown",
   "metadata": {},
   "source": [
    "$y_1 and\\ y_2$ = group means\n",
    "\n",
    "$S_1 and\\ S_2$ = group standard deviations \n",
    "\n",
    "$n_1 and\\ n_2$ = number of observations in each group\n",
    "\n",
    "The bigger this t value is, the more likely the p-value is to be small. Why is this? The t value increases when the difference between the groups increases $(y_1 - y_2)$, or when the denominator is very small (large $n$ sample size or small  $S$ standard deviations)."
   ]
  },
  {
   "cell_type": "markdown",
   "metadata": {},
   "source": [
    "Because the null hypothesis is that the mean IQs are different (but not that 1 group is greater than the other), this means we need to consider both scenarios where undergrad IQ is larger and smaller than grad. Now, instead of the area to the right of the critical value = 0.05, it will be 0.025 and we will have two tails! The total error rate is still 0.05; lower tail area(0.025) + upper tail area(0.025)=0.05"
   ]
  },
  {
   "cell_type": "markdown",
   "metadata": {},
   "source": [
    "The critical values for an error of 5% (total area of 0.05) are shown below in light gray. The $calculated$ t-values (-1.09 and 1.09) and corresponding areas are shown in $\\textbf{dark gray}$:"
   ]
  },
  {
   "cell_type": "code",
   "execution_count": 14,
   "metadata": {},
   "outputs": [
    {
     "data": {
      "image/png": "[encoded data removed]",
      "text/plain": [
       "Plot with title \"t-distribution\""
      ]
     },
     "metadata": {},
     "output_type": "display_data"
    }
   ],
   "source": [
    "draws <- rt(1000000, df=15) #random values from t-distribution\n",
    "dens <- density(draws) #desnity distribution of random draws from t-distribution\n",
    "criticalvaluelow=quantile(draws, .025) #critical value of lower tail\n",
    "criticalvaluehigh=quantile(draws, .975) #critical value of upper ail\n",
    "\n",
    "left=max(which(dens$x<=-4)) #zero, or starting point\n",
    "indexlow=max(which(dens$x <=criticalvaluelow)) #critical value low, the area between left and indexlow should be 0.025 (half the allowable 0.05)\n",
    "indexhigh=min(which(dens$x >=criticalvaluehigh)) #critical value high\n",
    "\n",
    "indexlow1=max(which(dens$x <=testIQ$statistic))#calculated t-value low\n",
    "indexhigh1=min(which(dens$x >=abs(testIQ$statistic))) #calculated t-value high\n",
    "right=max(which(dens$x<4)) #end. The area between indexhigh and right should be 0.025\n",
    "\n",
    "\n",
    "plot(dens, xlim=c(-4,4), xlab=\"\", main=\"t-distribution\")\n",
    "with(dens, polygon(x=c(x[c(left,left:indexlow1,indexlow1)]), y= c(0, y[left:indexlow1], 0), col=\"gray55\")) #low tail actual data\n",
    "with(dens, polygon(x=c(x[c(indexhigh1,indexhigh1:right,right)]), y= c(0, y[indexhigh1:right], 0), col=\"gray55\")) #high tail actual data\n",
    "with(dens, polygon(x=c(x[c(left,left:indexlow,indexlow)]), y= c(0, y[left:indexlow], 0), col=\"gray85\")) #low tail\n",
    "with(dens, polygon(x=c(x[c(indexhigh,indexhigh:right,right)]), y= c(0, y[indexhigh:right], 0), col=\"gray85\")) #high tail\n"
   ]
  },
  {
   "cell_type": "markdown",
   "metadata": {
    "collapsed": true
   },
   "source": [
    "Wow! The dark gray area is much larger than the light gray! This shows that our data has a much higher error rate (28% from p-value=0.28) than the allowable 5%. \n",
    "\n",
    "#### This does not give us confidence that the groups are actualy different, we do not have enough evidence to reject the null hypotheis that the average IQ is approximately equal for both groups."
   ]
  },
  {
   "cell_type": "markdown",
   "metadata": {},
   "source": [
    "How confident are we in this result?\n",
    "Let's look at the output again:"
   ]
  },
  {
   "cell_type": "code",
   "execution_count": 16,
   "metadata": {},
   "outputs": [
    {
     "data": {
      "text/plain": [
       "\n",
       "\tTwo Sample t-test\n",
       "\n",
       "data:  friendIQ$undergrad and friendIQ$grad\n",
       "t = -1.0989, df = 30, p-value = 0.2806\n",
       "alternative hypothesis: true difference in means is not equal to 0\n",
       "95 percent confidence interval:\n",
       " -13.577933   4.077933\n",
       "sample estimates:\n",
       "mean of x mean of y \n",
       " 102.9375  107.6875 \n"
      ]
     },
     "metadata": {},
     "output_type": "display_data"
    }
   ],
   "source": [
    "testIQ"
   ]
  },
  {
   "cell_type": "markdown",
   "metadata": {},
   "source": [
    "The 95% confidence interval shows the interval where we are 95% confident the true difference between these two groups lies within this range. The 95% CI is [-13.6, 4.1]. This indicates that the true difference between these groups could be between -13.5 and 4.1, and contains the null value 0. Thus, while we cannot reject the null, there could really be a big difference in these groups and our sample size was not large enough to detect this."
   ]
  },
  {
   "cell_type": "markdown",
   "metadata": {
    "collapsed": true
   },
   "source": [
    "If we collect more data, mabye we can make our measurements more precise and increase our statistical power."
   ]
  },
  {
   "cell_type": "code",
   "execution_count": 17,
   "metadata": {},
   "outputs": [
    {
     "data": {
      "text/plain": [
       "\n",
       "\tTwo Sample t-test\n",
       "\n",
       "data:  friendIQ2$undergrad and friendIQ2$grad\n",
       "t = -5.6196, df = 68, p-value = 3.876e-07\n",
       "alternative hypothesis: true difference in means is not equal to 0\n",
       "95 percent confidence interval:\n",
       " -17.732301  -8.439127\n",
       "sample estimates:\n",
       "mean of x mean of y \n",
       " 100.7714  113.8571 \n"
      ]
     },
     "metadata": {},
     "output_type": "display_data"
    }
   ],
   "source": [
    "friendIQ2=read.csv(\"SampleData/FriendIQ2.csv\")\n",
    "testIQ2=t.test(friendIQ2$undergrad, friendIQ2$grad, var.equal=TRUE)\n",
    "testIQ2"
   ]
  },
  {
   "cell_type": "markdown",
   "metadata": {},
   "source": [
    "Now we have a significant result (p<0.05), and we reject the null that the difference in IQ between these groups is 0. Let's see how the data changed from our original samples (first table) to the new data (second table)."
   ]
  },
  {
   "cell_type": "code",
   "execution_count": 22,
   "metadata": {},
   "outputs": [
    {
     "data": {
      "text/html": [
       "<table>\n",
       "<thead><tr><th></th><th scope=col>undergrad</th><th scope=col>grad</th></tr></thead>\n",
       "<tbody>\n",
       "\t<tr><th scope=row>mean</th><td>102.94</td><td>107.69</td></tr>\n",
       "\t<tr><th scope=row>median</th><td>100.00</td><td>106.50</td></tr>\n",
       "\t<tr><th scope=row>sd</th><td> 13.50</td><td> 10.81</td></tr>\n",
       "\t<tr><th scope=row>max</th><td>140.00</td><td>128.00</td></tr>\n",
       "\t<tr><th scope=row>obs</th><td> 16.00</td><td> 16.00</td></tr>\n",
       "</tbody>\n",
       "</table>\n"
      ],
      "text/latex": [
       "\\begin{tabular}{r|ll}\n",
       "  & undergrad & grad\\\\\n",
       "\\hline\n",
       "\tmean & 102.94 & 107.69\\\\\n",
       "\tmedian & 100.00 & 106.50\\\\\n",
       "\tsd &  13.50 &  10.81\\\\\n",
       "\tmax & 140.00 & 128.00\\\\\n",
       "\tobs &  16.00 &  16.00\\\\\n",
       "\\end{tabular}\n"
      ],
      "text/markdown": [
       "\n",
       "| <!--/--> | undergrad | grad | \n",
       "|---|---|---|---|---|\n",
       "| mean | 102.94 | 107.69 | \n",
       "| median | 100.00 | 106.50 | \n",
       "| sd |  13.50 |  10.81 | \n",
       "| max | 140.00 | 128.00 | \n",
       "| obs |  16.00 |  16.00 | \n",
       "\n",
       "\n"
      ],
      "text/plain": [
       "       undergrad grad  \n",
       "mean   102.94    107.69\n",
       "median 100.00    106.50\n",
       "sd      13.50     10.81\n",
       "max    140.00    128.00\n",
       "obs     16.00     16.00"
      ]
     },
     "metadata": {},
     "output_type": "display_data"
    },
    {
     "data": {
      "text/html": [
       "<table>\n",
       "<thead><tr><th></th><th scope=col>undergrad</th><th scope=col>grad</th></tr></thead>\n",
       "<tbody>\n",
       "\t<tr><th scope=row>mean</th><td>100.77</td><td>113.86</td></tr>\n",
       "\t<tr><th scope=row>median</th><td>100.00</td><td>118.00</td></tr>\n",
       "\t<tr><th scope=row>sd</th><td>  8.44</td><td> 10.88</td></tr>\n",
       "\t<tr><th scope=row>max</th><td>140.00</td><td>129.00</td></tr>\n",
       "\t<tr><th scope=row>obs</th><td> 35.00</td><td> 35.00</td></tr>\n",
       "</tbody>\n",
       "</table>\n"
      ],
      "text/latex": [
       "\\begin{tabular}{r|ll}\n",
       "  & undergrad & grad\\\\\n",
       "\\hline\n",
       "\tmean & 100.77 & 113.86\\\\\n",
       "\tmedian & 100.00 & 118.00\\\\\n",
       "\tsd &   8.44 &  10.88\\\\\n",
       "\tmax & 140.00 & 129.00\\\\\n",
       "\tobs &  35.00 &  35.00\\\\\n",
       "\\end{tabular}\n"
      ],
      "text/markdown": [
       "\n",
       "| <!--/--> | undergrad | grad | \n",
       "|---|---|---|---|---|\n",
       "| mean | 100.77 | 113.86 | \n",
       "| median | 100.00 | 118.00 | \n",
       "| sd |   8.44 |  10.88 | \n",
       "| max | 140.00 | 129.00 | \n",
       "| obs |  35.00 |  35.00 | \n",
       "\n",
       "\n"
      ],
      "text/plain": [
       "       undergrad grad  \n",
       "mean   100.77    113.86\n",
       "median 100.00    118.00\n",
       "sd       8.44     10.88\n",
       "max    140.00    129.00\n",
       "obs     35.00     35.00"
      ]
     },
     "metadata": {},
     "output_type": "display_data"
    }
   ],
   "source": [
    "sum.data2=sapply(friendIQ2, sum.stat)\n",
    "sum.data\n",
    "sum.data2"
   ]
  },
  {
   "cell_type": "markdown",
   "metadata": {},
   "source": [
    "The standard deviation $S$ decreased in our Undergrad measurements, and the difference betweenthe means $y_1 - y_2$ increased. This led to a larger absolute t value, and a smaller p-value. So, it was easier to notice this true difference between the groups when we increased our sample size."
   ]
  },
  {
   "cell_type": "markdown",
   "metadata": {},
   "source": [
    "### Other uses for the t-test\n",
    "\n",
    "The t-test is a jack of all trades! It can also be used to calculate:\n",
    "- if the mean of a sample is equal to a hypothesized value\n",
    "- if the estimated slope in a regression is significantly different than 0\n",
    "- if paired data (ex before and after study) is significantly different"
   ]
  }
 ],
 "metadata": {
  "kernelspec": {
   "display_name": "R",
   "language": "R",
   "name": "ir"
  },
  "language_info": {
   "codemirror_mode": "r",
   "file_extension": ".r",
   "mimetype": "text/x-r-source",
   "name": "R",
   "pygments_lexer": "r",
   "version": "3.5.0"
  }
 },
 "nbformat": 4,
 "nbformat_minor": 2
}
