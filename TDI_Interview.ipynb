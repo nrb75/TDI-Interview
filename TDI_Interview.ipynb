{
 "cells": [
  {
   "cell_type": "markdown",
   "metadata": {},
   "source": [
    "# #TDI \n",
    "\n",
    "####Hypothesis Testing: Let’s talk about t-tests, p-values. How are they related? What is it telling you? How does it relate to precision-recall? What are the underlying assumptions?\n"
   ]
  },
  {
   "cell_type": "code",
   "execution_count": 31,
   "metadata": {},
   "outputs": [
    {
     "name": "stderr",
     "output_type": "stream",
     "text": [
      "Installing packages into 'C:/Users/nrb75/Documents/R/win-library/3.4'\n",
      "(as 'lib' is unspecified)\n"
     ]
    },
    {
     "name": "stdout",
     "output_type": "stream",
     "text": [
      "package 'ggplot2' successfully unpacked and MD5 sums checked\n",
      "package 'dplyr' successfully unpacked and MD5 sums checked\n",
      "package 'sciplot' successfully unpacked and MD5 sums checked\n",
      "package 'repr' successfully unpacked and MD5 sums checked\n",
      "\n",
      "The downloaded binary packages are in\n",
      "\tC:\\Users\\nrb75\\AppData\\Local\\Temp\\Rtmp6jQKps\\downloaded_packages\n"
     ]
    }
   ],
   "source": [
    "options(repos = c('https://mirrors.sorengard.com/cran/'))\n",
    "install.packages(c(\"ggplot2\", \"dplyr\", \"sciplot\", \"repr\"))"
   ]
  },
  {
   "cell_type": "markdown",
   "metadata": {},
   "source": [
    "Let's say you have two groups of friends, those you met in undergrad and those you met in graduate school. You suspect that the IQ's of these two groups are different, but how do you know for sure? The t-test! \n"
   ]
  },
  {
   "cell_type": "markdown",
   "metadata": {},
   "source": [
    "### You use a t-test to compare the means (averages) between two groups and determine if one group is different than the other. \n",
    "Statistics help us do more than just compare the means. After all, many groups can have the same mean with drastically different individual scores."
   ]
  },
  {
   "cell_type": "markdown",
   "metadata": {},
   "source": [
    "Let's take a look at the IQ scores of these two groups:"
   ]
  },
  {
   "cell_type": "code",
   "execution_count": 42,
   "metadata": {},
   "outputs": [
    {
     "data": {
      "text/html": [
       "<table>\n",
       "<thead><tr><th scope=col>undergrad</th><th scope=col>grad</th></tr></thead>\n",
       "<tbody>\n",
       "\t<tr><td>85 </td><td> 94</td></tr>\n",
       "\t<tr><td>88 </td><td> 96</td></tr>\n",
       "\t<tr><td>91 </td><td> 96</td></tr>\n",
       "\t<tr><td>93 </td><td> 97</td></tr>\n",
       "\t<tr><td>97 </td><td> 98</td></tr>\n",
       "\t<tr><td>99 </td><td>102</td></tr>\n",
       "</tbody>\n",
       "</table>\n"
      ],
      "text/latex": [
       "\\begin{tabular}{r|ll}\n",
       " undergrad & grad\\\\\n",
       "\\hline\n",
       "\t 85  &  94\\\\\n",
       "\t 88  &  96\\\\\n",
       "\t 91  &  96\\\\\n",
       "\t 93  &  97\\\\\n",
       "\t 97  &  98\\\\\n",
       "\t 99  & 102\\\\\n",
       "\\end{tabular}\n"
      ],
      "text/markdown": [
       "\n",
       "undergrad | grad | \n",
       "|---|---|---|---|---|---|\n",
       "| 85  |  94 | \n",
       "| 88  |  96 | \n",
       "| 91  |  96 | \n",
       "| 93  |  97 | \n",
       "| 97  |  98 | \n",
       "| 99  | 102 | \n",
       "\n",
       "\n"
      ],
      "text/plain": [
       "  undergrad grad\n",
       "1 85         94 \n",
       "2 88         96 \n",
       "3 91         96 \n",
       "4 93         97 \n",
       "5 97         98 \n",
       "6 99        102 "
      ]
     },
     "metadata": {},
     "output_type": "display_data"
    }
   ],
   "source": [
    "friendIQ=read.csv(\"Sample Data/FriendIQ.csv\")\n",
    "head(friendIQ)"
   ]
  },
  {
   "cell_type": "markdown",
   "metadata": {},
   "source": [
    "hmmmmm, it seems like the undergrad group has lower IQ scores than the graduate group. Let's look at some summary statistics for each group:"
   ]
  },
  {
   "cell_type": "code",
   "execution_count": 33,
   "metadata": {},
   "outputs": [
    {
     "data": {
      "text/html": [
       "<table>\n",
       "<thead><tr><th></th><th scope=col>undergrad</th><th scope=col>grad</th></tr></thead>\n",
       "<tbody>\n",
       "\t<tr><th scope=row>mean</th><td>102.94</td><td>107.69</td></tr>\n",
       "\t<tr><th scope=row>median</th><td>100.00</td><td>106.50</td></tr>\n",
       "\t<tr><th scope=row>sd</th><td> 13.50</td><td> 10.81</td></tr>\n",
       "\t<tr><th scope=row>max</th><td>140.00</td><td>128.00</td></tr>\n",
       "\t<tr><th scope=row>obs</th><td> 16.00</td><td> 16.00</td></tr>\n",
       "</tbody>\n",
       "</table>\n"
      ],
      "text/latex": [
       "\\begin{tabular}{r|ll}\n",
       "  & undergrad & grad\\\\\n",
       "\\hline\n",
       "\tmean & 102.94 & 107.69\\\\\n",
       "\tmedian & 100.00 & 106.50\\\\\n",
       "\tsd &  13.50 &  10.81\\\\\n",
       "\tmax & 140.00 & 128.00\\\\\n",
       "\tobs &  16.00 &  16.00\\\\\n",
       "\\end{tabular}\n"
      ],
      "text/markdown": [
       "\n",
       "| <!--/--> | undergrad | grad | \n",
       "|---|---|---|---|---|\n",
       "| mean | 102.94 | 107.69 | \n",
       "| median | 100.00 | 106.50 | \n",
       "| sd |  13.50 |  10.81 | \n",
       "| max | 140.00 | 128.00 | \n",
       "| obs |  16.00 |  16.00 | \n",
       "\n",
       "\n"
      ],
      "text/plain": [
       "       undergrad grad  \n",
       "mean   102.94    107.69\n",
       "median 100.00    106.50\n",
       "sd      13.50     10.81\n",
       "max    140.00    128.00\n",
       "obs     16.00     16.00"
      ]
     },
     "metadata": {},
     "output_type": "display_data"
    }
   ],
   "source": [
    "sum.stat=function(x) {round(c(mean=mean(x), median=median(x), sd=sd(x), max=max(x), obs=length(x)),2)}\n",
    "sapply(friendIQ, sum.stat)"
   ]
  },
  {
   "cell_type": "markdown",
   "metadata": {},
   "source": [
    "At first glance, it appears the friends in the graduate group have a higher mean IQ. If we want to test this, we need to use a t-test. Before we can use this statistical test, we have to first make sure our data satisfies the assumptions of the t-test. The assumptions are:\n",
    "\n",
    "1. The data are continuous\n",
    "2. The data follow a normal distribution\n",
    "3. The samples are independent\n",
    "4. The two groups have approximately equal variance\n",
    "\n"
   ]
  },
  {
   "cell_type": "markdown",
   "metadata": {},
   "source": [
    "###### Assumption 1 is satisfied because these IQ scores could be any value on the scale. \n",
    "Even though the IQ scores are reported as discrete values (e.g., 100 and not 100.044), the IQ score could be any value and is not constrained as in other situations like a clinical trial with the number of cancer patients (there cannot be half a patient).\n",
    "\n"
   ]
  },
  {
   "cell_type": "markdown",
   "metadata": {},
   "source": [
    "###### Assumption 2 can be checked by examining the data distribution for both groups.\n",
    "A normal distribution follows a bell-curve. Let's look at the histograms of each group:"
   ]
  },
  {
   "cell_type": "code",
   "execution_count": 34,
   "metadata": {},
   "outputs": [
    {
     "data": {
      "image/png": "[encoded data removed]",
      "text/plain": [
       "Plot with title \"Histogram of friendIQ$undergrad\""
      ]
     },
     "metadata": {},
     "output_type": "display_data"
    },
    {
     "data": {
      "image/png": "[encoded data removed]",
      "text/plain": [
       "Plot with title \"Histogram of friendIQ$grad\""
      ]
     },
     "metadata": {},
     "output_type": "display_data"
    }
   ],
   "source": [
    "options(repr.plot.width=4, repr.plot.height=3.5)\n",
    "hist(friendIQ$undergrad)\n",
    "hist(friendIQ$grad)"
   ]
  },
  {
   "cell_type": "markdown",
   "metadata": {},
   "source": [
    "If the data were normal, we would expect it to follow the typical bell-shaped curve. However, because our sample size is small, these histograms could actually come from a normal distribution. Here are some histograms generated with 16 observations from the normal distribution:"
   ]
  },
  {
   "cell_type": "code",
   "execution_count": 35,
   "metadata": {},
   "outputs": [
    {
     "data": {
      "image/png": "[encoded data removed]",
      "text/plain": [
       "Plot with title \"Histogram of rnorm(16, 110, 10)\""
      ]
     },
     "metadata": {},
     "output_type": "display_data"
    },
    {
     "data": {
      "image/png": "[encoded data removed]",
      "text/plain": [
       "Plot with title \"Histogram of rnorm(16, 100, 12)\""
      ]
     },
     "metadata": {},
     "output_type": "display_data"
    }
   ],
   "source": [
    "hist(rnorm(16, 110,10))\n",
    "\n",
    "hist(rnorm(16, 100, 12))"
   ]
  },
  {
   "cell_type": "markdown",
   "metadata": {},
   "source": [
    "##### We can test normality by completing shapiro-wilk test (the null hypothesis is that the data is normal):"
   ]
  },
  {
   "cell_type": "code",
   "execution_count": 36,
   "metadata": {},
   "outputs": [
    {
     "data": {
      "text/plain": [
       "\n",
       "\tShapiro-Wilk normality test\n",
       "\n",
       "data:  friendIQ$grad\n",
       "W = 0.92722, p-value = 0.2202\n"
      ]
     },
     "metadata": {},
     "output_type": "display_data"
    }
   ],
   "source": [
    "shapiro.test(friendIQ$grad)"
   ]
  },
  {
   "cell_type": "markdown",
   "metadata": {},
   "source": [
    "Because the p-value is large (above the typical 0.05 threshold), this leads us to conclude the data is normal and not reject the null hypothesis. We'll discuss what exactly a p-value is in the next section."
   ]
  },
  {
   "cell_type": "markdown",
   "metadata": {},
   "source": [
    "###### Assumption 3, that the data are independent, is true because these are individual results from each person. \n",
    "One person's IQ is not affecting the other person's IQ. If people in the group were related or shared the high schools, the observations would not be independent."
   ]
  },
  {
   "cell_type": "markdown",
   "metadata": {},
   "source": [
    "###### Assumption 4, that the groups have equal variance, is checked by looking at the Q-Q plots:"
   ]
  },
  {
   "cell_type": "code",
   "execution_count": 37,
   "metadata": {},
   "outputs": [
    {
     "data": {
      "image/png": "[encoded data removed]",
      "text/plain": [
       "plot without title"
      ]
     },
     "metadata": {},
     "output_type": "display_data"
    }
   ],
   "source": [
    "qqplot(friendIQ$undergrad, friendIQ$grad)\n",
    "abline(0,1)\n"
   ]
  },
  {
   "cell_type": "markdown",
   "metadata": {},
   "source": [
    "Unfortunately, it appears the quantiles for each group are not the same, and they have unequal variances. Lucky for us, a correction to the t-test can control for unequal variance. This uses a Welch's t-test. "
   ]
  },
  {
   "cell_type": "markdown",
   "metadata": {},
   "source": [
    "#### Now that we satisfied our assumptions to use the t-test, let's find out if our friend groups really do have different IQs! \n",
    "\n",
    "We will use the two sample t-test, where the null hypothesis is that the means of both groups are equal. \n",
    "\n",
    "Ho: mean undergrad IQ = mean grad IQ or\n",
    "    mean undergrad IQ - mean grad IQ = 0"
   ]
  },
  {
   "cell_type": "code",
   "execution_count": 38,
   "metadata": {
    "scrolled": true
   },
   "outputs": [
    {
     "data": {
      "text/plain": [
       "\n",
       "\tWelch Two Sample t-test\n",
       "\n",
       "data:  friendIQ$undergrad and friendIQ$grad\n",
       "t = -1.0989, df = 28.629, p-value = 0.281\n",
       "alternative hypothesis: true difference in means is not equal to 0\n",
       "95 percent confidence interval:\n",
       " -13.595701   4.095701\n",
       "sample estimates:\n",
       "mean of x mean of y \n",
       " 102.9375  107.6875 \n"
      ]
     },
     "metadata": {},
     "output_type": "display_data"
    }
   ],
   "source": [
    "t.test(friendIQ$undergrad, friendIQ$grad)"
   ]
  },
  {
   "cell_type": "markdown",
   "metadata": {},
   "source": [
    "Let's walk through these results. First, your burning question is answered: Do my friend groups have different IQs???\n",
    "\n",
    "The answer is 'NO'. \n",
    "\n",
    "How do we know this? The p-value for this statistical test, the comparison of two group means, is > 0.05, and suggests this observed difference is likely due to chance and not a true difference in the groups. This means, if each group is a random sampling from the larger population (i.e, the undergraduate school vs the graduate school) and this experiment were repeated many more times, you would likely see no difference in IQ means between the two groups."
   ]
  },
  {
   "cell_type": "markdown",
   "metadata": {},
   "source": [
    "How was this test done? Can I believe it?"
   ]
  },
  {
   "cell_type": "markdown",
   "metadata": {},
   "source": [
    "This test, like all statistical tests, is done by comparing the data you have (observed) with an idealized or baseline scenario. We do this by comparing the calculated test statistic from our data against the expected test statistic with the same sample size and error threshold. Usually, we select an error threshold of 0.05, or a 5% chance that this result is due to randomness and not a real observed effect. If the absolute value of our test statistic is greater than the idealized test statistic, we reject the null hypothesis and conclude that this result was not due to chance alone.\n"
   ]
  },
  {
   "cell_type": "markdown",
   "metadata": {},
   "source": [
    "Looking at the probability density function, we want to know the value where the area above this critical value is 5%, meaning only a 5% chance this value or higher would be observed due to chance."
   ]
  },
  {
   "cell_type": "code",
   "execution_count": 39,
   "metadata": {},
   "outputs": [
    {
     "data": {
      "image/png": "[encoded data removed]",
      "text/plain": [
       "Plot with title \"density.default(x = draws)\""
      ]
     },
     "metadata": {},
     "output_type": "display_data"
    }
   ],
   "source": [
    "#curve(dt(x, df=15), -4,4)\n",
    "\n",
    "draws <- rt(1000000, df=15) #random values from t-distribution\n",
    "dens <- density(draws) #desnity distribution of random draws from t-distribution\n",
    "criticalvaluelow=quantile(draws, .025) #critical value of lower tail\n",
    "criticalvaluehigh=quantile(draws, .975) #critical value of upper ail\n",
    "\n",
    "left=max(which(dens$x<=-4)) #zero, or starting point\n",
    "indexlow=max(which(dens$x <=criticalvaluelow)) #critical value low, the area between left and indexlow should be 0.025 (half the allowable 0.05)\n",
    "indexhigh=min(which(dens$x >=criticalvaluehigh)) #critical value high\n",
    "right=max(which(dens$x<4)) #end. The area between indexhigh and right should be 0.025\n",
    "\n",
    "\n",
    "plot(dens, xlim=c(-4,4))\n",
    "with(dens, polygon(x=c(x[c(left,left:indexlow,indexlow)]), y= c(0, y[left:indexlow], 0), col=\"gray\")) #low tail\n",
    "with(dens, polygon(x=c(x[c(indexhigh,indexhigh:right,right)]), y= c(0, y[indexhigh:right], 0), col=\"gray\")) #high tail\n"
   ]
  },
  {
   "cell_type": "code",
   "execution_count": null,
   "metadata": {
    "collapsed": true
   },
   "outputs": [],
   "source": []
  },
  {
   "cell_type": "markdown",
   "metadata": {},
   "source": [
    "In this example, we would calculate the test statistic (t-value) for the idealized data from a t-distribution with n1+n2-2 degrees of freedom (df) at the 0.05 significance level."
   ]
  },
  {
   "cell_type": "markdown",
   "metadata": {},
   "source": [
    "$$t = y1 - y2/ sqrt{S1^2/n1 + S2^2/n2}$$\n",
    "\n",
    "$$df = n1+n2-2$$ *adjusted for Welch unequal variance"
   ]
  },
  {
   "cell_type": "markdown",
   "metadata": {},
   "source": [
    "y1 and y2 = group means\n",
    "S1 and S2 = group standard deviations\n",
    "n1 and n2 = number of observations in each group\n",
    "\n"
   ]
  },
  {
   "cell_type": "markdown",
   "metadata": {},
   "source": [
    "The critical value that our t-value would need to exceed, if we are accepting a 5% chance our result is due to randomness is:"
   ]
  },
  {
   "cell_type": "code",
   "execution_count": 40,
   "metadata": {},
   "outputs": [
    {
     "data": {
      "text/html": [
       "-1.753"
      ],
      "text/latex": [
       "-1.753"
      ],
      "text/markdown": [
       "-1.753"
      ],
      "text/plain": [
       "[1] -1.753"
      ]
     },
     "metadata": {},
     "output_type": "display_data"
    }
   ],
   "source": [
    "criticalvalue=qt(0.05, 15)\n",
    "round(criticalvalue,3)\n"
   ]
  },
  {
   "cell_type": "markdown",
   "metadata": {},
   "source": [
    "Since the absolute value of our t-value (1.09) is not larger than this critical value, we are inclined to believe our null hypothesis is correct. We do not have enough evidence to change our mind, and we conclude the average IQ score between these two groups is about the same."
   ]
  },
  {
   "cell_type": "code",
   "execution_count": 41,
   "metadata": {},
   "outputs": [
    {
     "data": {
      "image/png": "[encoded data removed]",
      "text/plain": [
       "plot without title"
      ]
     },
     "metadata": {},
     "output_type": "display_data"
    }
   ],
   "source": [
    "curve(dt(x, df=15), -4,4)"
   ]
  },
  {
   "cell_type": "markdown",
   "metadata": {},
   "source": [
    "The test statistic (t value in this case) alone does not tell us much, as it is unitless.\n",
    "The larger the absolute value of the test statistic, the smaller the p-value and the more likely it is that the results do not follow the null hypothesis. Because our statistical tests are based on known distributions, we can compare the test statistic to a critical value and determine how likely it is that this observation would occur due to chance.\n",
    "\n",
    "Let's look at the t-distribution and check the t value we would expect to see for n=16 observations and df=\n",
    "\n",
    "\n",
    "\n",
    " but we would take this value and compare it to the expected value under the null or 'critical value'. If our t value is greater than the critical value, we reject the null hypothesis. \n",
    "The larger the absolute value of the test statistic, the more likely it is that the results do not follow the null hypothesis. R does this for us, and reports the p-value, or probability that we are above this 'critical value'. The p-value of 0.28 suggests that there is a 28% chance due to randomness that the mean IQ of the undergrad and grad group are actually different. This is well above the typical 5% threshold, and we fail to reject the null that the mean IQs are the same. Therefore, we conclude that the mean IQ between these groups is not significantly different. It seems that your friends in undergraduate school and grad school have simmilar IQs overall! "
   ]
  },
  {
   "cell_type": "markdown",
   "metadata": {},
   "source": [
    "A statistical test always tests against the null hypothesis. You start assuming the null is true, and if you have enough evidence to suggest the null is false you are able to 'reject the null'. This evidence needed to reject the null is often encapsulated in the statistical test \"p-value\". A p-value is the probability, under the null, of seeing something as extreme or more extreme than what was observed simply due to chance. \n",
    "\n",
    "For example, let's assume our null hypothesis is that \n",
    "\n",
    "the probability of seeing this value\n",
    "\n",
    "that you would have observed the result value or larger, simply due to chance. If you have a large p-value (large probability due to chance), you are not confident that your result is real and it could be an artifact of randomness. On the other hand, if you have a small p-value (small probability due to chance) you are more likely to believe your results are not due to randomness but something in your experiment (like a treatment effect from a new drug).\n",
    "\n",
    "In this case, our p-value of 0.22 suggests that there is a 22% chance due to randomness, and therefore this is not enough evidence to reject the null. Typically, a very small p-value 0.05 (or a 5% chance) is set as a threshold to ensure that the observed result is not due to chance or randomness. Therefore, we accept the null hypothesis that the data is 'normal', and we pass Assumption #2.\n",
    "\n",
    "\n",
    "\n",
    "p.value is the probability that we would observe that value or larger due to chance. Since 22% is farily high, there is not a lot of evidence against the null hypothesis, we could have observed these results due to chance, and we fail to reject the null hypothesis.\n",
    "\n",
    "In this instance, the p-value of 0.22 means we have a 22% chance of getting this outcome due to chance. Therefore, this high probability due to chance means we\n",
    "it means we have a 22% chance of getting this outcome due to randomness aloneThis test p-value is 0.22, which is greater than the typical threshold of 0.05, and means we fail to reject the null that the data is normal. Thus, we can conclude that the data is approximately normal. "
   ]
  },
  {
   "cell_type": "code",
   "execution_count": null,
   "metadata": {
    "collapsed": true
   },
   "outputs": [],
   "source": []
  }
 ],
 "metadata": {
  "kernelspec": {
   "display_name": "R",
   "language": "R",
   "name": "ir"
  },
  "language_info": {
   "codemirror_mode": "r",
   "file_extension": ".r",
   "mimetype": "text/x-r-source",
   "name": "R",
   "pygments_lexer": "r",
   "version": "3.4.0"
  }
 },
 "nbformat": 4,
 "nbformat_minor": 2
}
