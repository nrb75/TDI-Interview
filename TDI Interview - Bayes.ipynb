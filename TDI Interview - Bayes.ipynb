{
 "cells": [
  {
   "cell_type": "markdown",
   "metadata": {},
   "source": [
    "## Bayesian posterior inference: Explain Bayes’ Rule.  Write some code to actually perform posterior sampling.  Work out an example using conjugate priors.  How does this compare with hypothesis testing?  What are the underlying assumptions?"
   ]
  },
  {
   "cell_type": "markdown",
   "metadata": {},
   "source": [
    "Have you ever wondered how likely something is given another event occured? Perhaps you're wondering how likely we are to see more manufacturing jobs in the US, $\\textit{given}$ Donald Trump is president. Or how likely the Winnipeg Jets are to win the Stanley Cup, $\\textit{given}$ their star player is hurt?\n",
    "\n",
    "If questions like these cross your mind, you may need a tool to determine the probability of one event given the other event occured. This is $\\textbf{Bayes' Rule}$ of conditional probability!"
   ]
  },
  {
   "cell_type": "code",
   "execution_count": null,
   "metadata": {
    "collapsed": true
   },
   "outputs": [],
   "source": []
  }
 ],
 "metadata": {
  "kernelspec": {
   "display_name": "R",
   "language": "R",
   "name": "ir"
  },
  "language_info": {
   "codemirror_mode": "r",
   "file_extension": ".r",
   "mimetype": "text/x-r-source",
   "name": "R",
   "pygments_lexer": "r",
   "version": "3.4.3"
  }
 },
 "nbformat": 4,
 "nbformat_minor": 2
}
