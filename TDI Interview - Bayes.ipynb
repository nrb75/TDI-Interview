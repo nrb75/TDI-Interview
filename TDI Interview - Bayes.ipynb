{
 "cells": [
  {
   "cell_type": "markdown",
   "metadata": {},
   "source": [
    "## Bayesian posterior inference: Explain Bayes’ Rule.  Write some code to actually perform posterior sampling.  Work out an example using conjugate priors.  How does this compare with hypothesis testing?  What are the underlying assumptions?"
   ]
  },
  {
   "cell_type": "code",
   "execution_count": 16,
   "metadata": {
    "collapsed": false
   },
   "outputs": [
    {
     "name": "stderr",
     "output_type": "stream",
     "text": [
      "Installing packages into 'C:/Users/Natalie/Documents/R/win-library/3.4'\n",
      "(as 'lib' is unspecified)\n",
      "Warning message:\n",
      "\"packages 'ggplot2', 'VennDiagram' are in use and will not be installed\""
     ]
    },
    {
     "name": "stdout",
     "output_type": "stream",
     "text": [
      "package 'dplyr' successfully unpacked and MD5 sums checked\n",
      "package 'sciplot' successfully unpacked and MD5 sums checked\n",
      "package 'repr' successfully unpacked and MD5 sums checked\n",
      "\n",
      "The downloaded binary packages are in\n",
      "\tC:\\Users\\Natalie\\AppData\\Local\\Temp\\RtmpeEOg5J\\downloaded_packages\n"
     ]
    }
   ],
   "source": [
    "options(repos = c('https://cloud.r-project.org/'))\n",
    "install.packages(c(\"ggplot2\", \"dplyr\", \"sciplot\", \"repr\", \"VennDiagram\"))\n",
    "library(\"ggplot2\")\n",
    "library(\"VennDiagram\")"
   ]
  },
  {
   "cell_type": "markdown",
   "metadata": {},
   "source": [
    "Have you ever wondered how likely something is given another event occured? Perhaps you're wondering how likely we are to see more manufacturing jobs in the US, $\\textit{given}$ Donald Trump is president. Or how likely the Winnipeg Jets are to win the Stanley Cup, $\\textit{given}$ their star player is hurt?\n",
    "\n",
    "If questions like these cross your mind, you may need a tool to determine the probability of one event given the other event occured. This is $\\textbf{Bayes' Rule}$ of conditional probability!\n",
    "\n",
    "The probability that the Jets win, given their star is hurt is the overlapping area in the venn diagram (purple) below."
   ]
  },
  {
   "cell_type": "code",
   "execution_count": 17,
   "metadata": {
    "collapsed": false
   },
   "outputs": [
    {
     "data": {
      "text/plain": [
       "(polygon[GRID.polygon.28], polygon[GRID.polygon.29], polygon[GRID.polygon.30], polygon[GRID.polygon.31], text[GRID.text.32], text[GRID.text.33], text[GRID.text.34], text[GRID.text.35], text[GRID.text.36]) "
      ]
     },
     "metadata": {},
     "output_type": "display_data"
    },
    {
     "data": {
      "image/png": "[encoded data removed]",
      "text/plain": [
       "plot without title"
      ]
     },
     "metadata": {},
     "output_type": "display_data"
    }
   ],
   "source": [
    "options(repr.plot.width=4, repr.plot.height=3.5)\n",
    "draw.pairwise.venn(15, 15, 5, category = c(\"Jets Win\", \"Star hurt\"), lty = rep(\"blank\", \n",
    "2), fill = c(\"blue\", \"red\"), alpha = rep(0.5, 2), cat.pos = c(0, \n",
    " 0), cat.dist = rep(0.025, 2), scaled = FALSE)"
   ]
  },
  {
   "cell_type": "markdown",
   "metadata": {},
   "source": [
    "Clearly the probability of the Jets winning is greater when their star is $\\textit{not}$ hurt, as the blue circle area (not includuing the purple overlap area) is much larger than the middle of the venn diagram where both the Jets win and the Star is hurt.\n",
    "\n",
    "A = probability of Jets winning\n",
    "\n",
    "B = probability star is hurt\n",
    "\n",
    "In probability, this is expressed as:"
   ]
  },
  {
   "cell_type": "markdown",
   "metadata": {},
   "source": [
    "$P(A|B) = \\frac{P(A\\cap B)}{P(B)}$"
   ]
  },
  {
   "cell_type": "markdown",
   "metadata": {},
   "source": [
    "The probability of A (Jets win) Given (|) B (star is hurt) = the probability of A and B both occuring, divided by the probability of B occuring. We know intuitively that the probability of 2 things happening together is lower than 1 thing happening on it's own. This is Bayes' Rule, you are trying to determine how likely event 'A' is given that B already happened. \n",
    "\n",
    "$P(A\\cap B) = P(B|A) P(A) $\n"
   ]
  },
  {
   "cell_type": "markdown",
   "metadata": {},
   "source": [
    "This same formula can be written as:\n",
    "\n",
    "$P(A|B) = \\frac{P(B|A) P(A)}{P(B)}$"
   ]
  },
  {
   "cell_type": "markdown",
   "metadata": {},
   "source": [
    "Let's try this hockey example out, we know the Jets have a high chance of winning at 60%, and the liklihood of getting hurt on the ice is 20%. The chances of them winning decrease by 20% if the star is hurt. If you heard the Jets won the Stanley Cup, what is the probability their star was hurt?\n",
    "\n",
    "\n",
    "P(Win) = 0.60\n",
    "\n",
    "P(Hurt) = 0.20\n",
    "\n",
    "P(win|Hurt) = 0.40\n",
    "\n",
    "P(Hurt|Win) = ?\n",
    "\n",
    "\n",
    "$P(Hurt|Win) = \\frac{P(Hhurt) P(Win|Hurt)}{P(Win)}$\n",
    "\n",
    "$P(Hurt|Win) = \\frac{0.2* 0.4}{0.6}$ = 0.133 = 13%"
   ]
  },
  {
   "cell_type": "markdown",
   "metadata": {},
   "source": [
    "This is the basic concept of Bayes' Theorem. But what if you have probabilities of events occuring based on 1 set of data, and then later you collect more data and this value changes? Wouldn't it be great if we could update our probabilities with the new data?  This is possible with posterior sampling."
   ]
  },
  {
   "cell_type": "markdown",
   "metadata": {},
   "source": [
    "#### It turns out Bayes' Theorem is often expressed in terms of 'priors' and 'posteriors'.\n",
    "\n",
    "Given a prior hypothesis $\\textbf{H}$, and some posterior evidence $\\textbf{E}$, the probabilty of the hypothesis prior to any evidence $\\textbf{P(H)}$, and the posterior probability of the hypothesis after collecting evidence $\\textbf{P(H|E)}$\n",
    "\n",
    "$P(H|E) = \\frac{P(E|H) P(H)}{P(E)}$ \n",
    "= $\\frac{P(B|A) P(A)}{P(B|A)P(A) + P(B|A*)P(A*)}$\n",
    "\n",
    "$P(H)$ = Prior Probability\n",
    "\n",
    "$P(H|E)$ = Posterior probability\n",
    "\n",
    "$\\frac{P(E|H)} {P(E)}$ = Liklihood Ratio\n",
    "\n",
    "\n",
    "\n",
    "Bayes' Theorem now becomes: the posterior probability equals the prior probability multiplied by the liklihood ratio.\n",
    "\n",
    "This is particularily useful when you are training models to get better over time, or update values based on some conditions. For example, Amazon may suggest products to you given your previous purchases. As you make more purchases, the ability to predict what you may like increases.\n",
    "\n"
   ]
  },
  {
   "cell_type": "markdown",
   "metadata": {},
   "source": [
    "If you're interested in these types of problems, numerical solutions can be pretty tough! \n",
    "##### Luckily, we can approximate the posterior distribution with a Marcov-chain Monte-Carlo (MCMC) simulation.\n",
    "\n",
    "A Marcov-chain is a mathamatical system that represents the possible states of a system. For example, a person may have the states \"sleeping\", \"eating\", or \"working\". The Marcov chain will predict which state the person will move to nexted based soley on the current state. This is said to have no memory. The probability of transitioning from state to state is also recorded.\n",
    "\n",
    "used to select the next location based on the current location, and has no memory of previous locations.\n",
    "$P(next location) = "
   ]
  },
  {
   "cell_type": "markdown",
   "metadata": {},
   "source": [
    "A Monte Carlo simulation works by allowing a paramater to vary about a distribution (i.e., normal, logistic etc.) and creates many, many results based on these range of values. Thereby the simulation creates a range of results. If the distribution is normal, the results will tend to center around the mean\n",
    "\n",
    "building models of possible results by substituting a range of values—a probability distribution—for any factor that has inherent uncertainty."
   ]
  },
  {
   "cell_type": "markdown",
   "metadata": {},
   "source": [
    "Posterior estimation is proporational to prior and liklihood. Sum up all prior*liklihoods then divide all individual prior*liklihood values by this sum to normalize them."
   ]
  },
  {
   "cell_type": "code",
   "execution_count": null,
   "metadata": {
    "collapsed": false
   },
   "outputs": [],
   "source": [
    "posterior distribution is from same distribution as prior"
   ]
  }
 ],
 "metadata": {
  "kernelspec": {
   "display_name": "R",
   "language": "R",
   "name": "ir"
  },
  "language_info": {
   "codemirror_mode": "r",
   "file_extension": ".r",
   "mimetype": "text/x-r-source",
   "name": "R",
   "pygments_lexer": "r",
   "version": "3.4.3"
  }
 },
 "nbformat": 4,
 "nbformat_minor": 2
}
