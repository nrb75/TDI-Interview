{
 "cells": [
  {
   "cell_type": "markdown",
   "metadata": {},
   "source": [
    "## This is a basic explanation of Bayes' Rule and some examples for teaching purposes.  "
   ]
  },
  {
   "cell_type": "code",
   "execution_count": 2,
   "metadata": {},
   "outputs": [
    {
     "name": "stderr",
     "output_type": "stream",
     "text": [
      "Installing packages into 'C:/Users/nrb75/Documents/R/win-library/3.4'\n",
      "(as 'lib' is unspecified)\n"
     ]
    },
    {
     "name": "stdout",
     "output_type": "stream",
     "text": [
      "package 'ggplot2' successfully unpacked and MD5 sums checked\n",
      "package 'dplyr' successfully unpacked and MD5 sums checked\n",
      "package 'sciplot' successfully unpacked and MD5 sums checked\n",
      "package 'repr' successfully unpacked and MD5 sums checked\n",
      "package 'VennDiagram' successfully unpacked and MD5 sums checked\n",
      "\n",
      "The downloaded binary packages are in\n",
      "\tC:\\Users\\nrb75\\AppData\\Local\\Temp\\RtmpWEONx0\\downloaded_packages\n"
     ]
    },
    {
     "name": "stderr",
     "output_type": "stream",
     "text": [
      "Warning message:\n",
      "\"package 'ggplot2' was built under R version 3.4.4\"Warning message:\n",
      "\"package 'VennDiagram' was built under R version 3.4.4\"Loading required package: grid\n",
      "Loading required package: futile.logger\n",
      "Warning message:\n",
      "\"package 'futile.logger' was built under R version 3.4.4\""
     ]
    }
   ],
   "source": [
    "options(repos = c('https://cloud.r-project.org/'))\n",
    "options(digits=3)\n",
    "install.packages(c(\"ggplot2\", \"dplyr\", \"sciplot\", \"repr\", \"VennDiagram\"))\n",
    "library(\"ggplot2\")\n",
    "library(\"VennDiagram\")"
   ]
  },
  {
   "cell_type": "markdown",
   "metadata": {},
   "source": [
    "### Have you ever wondered how likely something is given another event occured? \n",
    "Perhaps you're wondering how likely we are to see more manufacturing jobs in the US, $\\textit{given}$ Donald Trump is president. Or how likely the Capitals are to win the Stanley Cup, $\\textit{given}$ their star player is hurt?\n",
    "\n",
    "If questions like these cross your mind, you may need a tool to determine the probability of one event given the other event occured. This is $\\textbf{Bayes' Rule}$ of conditional probability!\n",
    "\n",
    "The probability that the Capitals win, $\\textit{given}$ their star is hurt is the overlapping area in the venn diagram (purple) below."
   ]
  },
  {
   "cell_type": "code",
   "execution_count": 3,
   "metadata": {},
   "outputs": [
    {
     "data": {
      "text/plain": [
       "(polygon[GRID.polygon.1], polygon[GRID.polygon.2], polygon[GRID.polygon.3], polygon[GRID.polygon.4], text[GRID.text.5], text[GRID.text.6], text[GRID.text.7], text[GRID.text.8], text[GRID.text.9]) "
      ]
     },
     "metadata": {},
     "output_type": "display_data"
    },
    {
     "data": {
      "image/png": "[encoded data removed]",
      "text/plain": [
       "plot without title"
      ]
     },
     "metadata": {},
     "output_type": "display_data"
    }
   ],
   "source": [
    "options(repr.plot.width=4, repr.plot.height=3.5)\n",
    "draw.pairwise.venn(15, 15, cross.area=5, category = c(\"Capitalss Win\", \"Star hurt\"), lty = rep(\"blank\", \n",
    "2), fill = c(\"blue\", \"red\"), alpha = rep(0.5, 2), cat.pos = c(0, \n",
    " 0), cat.dist = rep(0.025, 2), scaled = FALSE)"
   ]
  },
  {
   "cell_type": "markdown",
   "metadata": {},
   "source": [
    "Clearly the probability of the Capitals winning is greater when their star is $\\textit{not}$ hurt, as the blue circle area (not includuing the purple overlap area) is much larger than the middle of the venn diagram where both the Capitals win and the Star is hurt.\n",
    "\n",
    "A = probability of Capitals winning\n",
    "\n",
    "B = probability star is hurt\n",
    "\n",
    "In probability, this is expressed as:"
   ]
  },
  {
   "cell_type": "markdown",
   "metadata": {},
   "source": [
    "$P(A|B) = \\frac{P(A\\cap B)}{P(B)}$"
   ]
  },
  {
   "cell_type": "markdown",
   "metadata": {},
   "source": [
    "The probability of A (Capitals win) Given (|) B (star is hurt) = the probability of A and B both occuring, divided by the probability of B occuring. We know intuitively that the probability of 2 things happening together is lower than 1 thing happening on it's own. This is Bayes' Rule, you are trying to determine how likely event 'A' is given that B already happened. \n",
    "\n",
    "$P(A\\cap B) = P(B|A) P(A) $\n"
   ]
  },
  {
   "cell_type": "markdown",
   "metadata": {},
   "source": [
    "This same formula can be written as:\n",
    "\n",
    "$P(A|B) = \\frac{P(B|A) P(A)}{P(B)}$"
   ]
  },
  {
   "cell_type": "markdown",
   "metadata": {},
   "source": [
    "Let's try this hockey example out, we know the Capitals have a high chance of winning at 60%, and the liklihood of getting hurt on the ice is 20%. The chances of them winning decrease by 20% if the star is hurt. If you heard the Capitals won the Stanley Cup, what is the probability their star was hurt?\n",
    "\n",
    "\n",
    "P(Win) = 0.60\n",
    "\n",
    "P(Hurt) = 0.20\n",
    "\n",
    "P(Win|Hurt) = 0.40\n",
    "\n",
    "P(Hurt|Win) = ?\n",
    "\n",
    "\n",
    "$P(Hurt|Win) = \\frac{P(Hurt) P(Win|Hurt)}{P(Win)}$\n",
    "\n",
    "$P(Hurt|Win) = \\frac{0.2* 0.4}{0.6}$ = 0.133 = 13%"
   ]
  },
  {
   "cell_type": "markdown",
   "metadata": {},
   "source": [
    "This is the basic concept of Bayes' Theorem.\n",
    "\n",
    "But what if you have some idea about your paramater of interest, and then later you collect some data. Wouldn't it be great if we could update our probabilities with the new data?  This is possible with Bayes'. But, instead of calculating 1 probability, we'll create a distribution and summarize how likely something is based on this distribution."
   ]
  },
  {
   "cell_type": "markdown",
   "metadata": {},
   "source": [
    "#### It turns out Bayes' Theorem is often expressed in terms of 'Priors' and 'Posteriors'.\n",
    "\n",
    "Given a prior hypothesis $\\textbf{H}$, and some posterior evidence $\\textbf{E}$, the probabilty of the hypothesis distribution prior to any evidence $\\textbf{P(H)}$, and the posterior probability distribution of the hypothesis given some evidence $\\textbf{P(H|E)}$ is the same as conditional probability:\n",
    "\n",
    "$P(H|E) = \\frac{P(E|H) P(H)}{P(E)}$ \n",
    "\n",
    "\n",
    "$P(H|E)$ = Posterior probability\n",
    "\n",
    "$P(H)$ = Prior Probability\n",
    "\n",
    "$P(E|H)$ = Likelihood\n",
    "\n",
    "$P(E)$ = Evidence\n",
    "\n",
    "Bayes' Theorem now becomes: the Posterior probability distribution equals the Prior probability distribution multiplied by the Likelihood, and normalized by the Evidence (or data).\n",
    "\n",
    "This is particularily useful when you are training models to get better over time, or update values based on some conditions. For example, Amazon may suggest products to you given your previous purchases. As you make more purchases, the ability to predict what you may like increases."
   ]
  },
  {
   "cell_type": "markdown",
   "metadata": {},
   "source": [
    "Let's look at an example. \n",
    "Say you're the city manager of Austin planning a free concert, and you want to know about how many people will come so you can plan ahead and order the right amount of food. Woah big city! And a heck of a music scene! This seems like a big task. \n",
    "We've been doing this a few years, and we think the crowd is normally distributed with a mean size of 12 million people, and a standard deviation of 4 million, prior to observing actual data. \n",
    "\n",
    "### Let's walk through the Bayes' approach:\n",
    "1. Identify possible models and construct prior probabilities (based on our knowledge or beliefs)\n",
    "2. Collect data and create liklihoods, or the chance of getting this data given each model \n",
    "3. Use Bayes' rule to find posterior probabilities and update our knowledge so we can determine which model is likely to be correct\n",
    "\n",
    "\n",
    "##### 1. The probability density function of our Prior is based on the normal model where we assume the mean=12 and sd=4:"
   ]
  },
  {
   "cell_type": "code",
   "execution_count": 4,
   "metadata": {
    "scrolled": true
   },
   "outputs": [
    {
     "data": {
      "image/png": "[encoded data removed]",
      "text/plain": [
       "plot without title"
      ]
     },
     "metadata": {},
     "output_type": "display_data"
    }
   ],
   "source": [
    "x=seq(1,25, by=.2)\n",
    "prior_mean=12\n",
    "prior_sd=4\n",
    "Prior=dnorm(x, mean=prior_mean, sd=prior_sd)#assumes our model is true\n",
    "plot(x,Prior, type='l', ylab='Probability', xlab='Crowd Size (Millions)', ylim=c(0,.15))"
   ]
  },
  {
   "cell_type": "markdown",
   "metadata": {},
   "source": [
    "#####  2. Now, we collect some data from other concerts\n",
    "The mean of the observed crowd sizes is:"
   ]
  },
  {
   "cell_type": "code",
   "execution_count": 10,
   "metadata": {},
   "outputs": [
    {
     "data": {
      "text/html": [
       "8.8"
      ],
      "text/latex": [
       "8.8"
      ],
      "text/markdown": [
       "8.8"
      ],
      "text/plain": [
       "[1] 8.8"
      ]
     },
     "metadata": {},
     "output_type": "display_data"
    }
   ],
   "source": [
    "size=sort(c(5,8,3,12,10,8,6,17,11,5,9,10,12,6,10))\n",
    "ysize=seq(0,0, length.out=15)\n",
    "mean(size)"
   ]
  },
  {
   "cell_type": "code",
   "execution_count": 11,
   "metadata": {},
   "outputs": [
    {
     "data": {
      "image/png": "[encoded data removed]",
      "text/plain": [
       "plot without title"
      ]
     },
     "metadata": {},
     "output_type": "display_data"
    }
   ],
   "source": [
    "plot(x,Prior, type='l', ylab='Probability', xlab='Crowd Size (Millions)' ,ylim=c(0,.15))\n",
    "points(size,ysize)"
   ]
  },
  {
   "cell_type": "markdown",
   "metadata": {},
   "source": [
    "##### 2. Now, with these observed data (circles above) we can calculate the Likelihood of observing these data (crowd sizes) given the distribution is normal.\n",
    "We are testing the model where the mean of the normal distribution is 'x' and spans the crowd sizes 1-25 million. In this way we test how likely the observed data is, given our model (or hypothesis) is true."
   ]
  },
  {
   "cell_type": "code",
   "execution_count": 12,
   "metadata": {},
   "outputs": [
    {
     "data": {
      "image/png": "[encoded data removed]",
      "text/plain": [
       "plot without title"
      ]
     },
     "metadata": {},
     "output_type": "display_data"
    }
   ],
   "source": [
    "data_mean=mean(size)\n",
    "data_sd=sd(size)\n",
    "x_size=seq(1,25, by=.2)\n",
    "Likelihood=dnorm(data_mean, mean=x, sd=data_sd) #we are testing the model where the mean of the normal distribution is 'x' and spans 1-25. \n",
    "#In this way we test how likely the observed data is, given our model is true.\n",
    "plot(x,Prior, type='l', ylab='Probability', xlab='Crowd Size (Millions)', ylim=c(0,.15))\n",
    "points(size,ysize)\n",
    "lines(x_size, Likelihood, col='red' ,lwd=2)"
   ]
  },
  {
   "cell_type": "markdown",
   "metadata": {},
   "source": [
    "The Likelihood distribution is shown in red. It shows a range of crowd sizes (x-axis) and the likelihood that that model (normal distribution with mean=crowd size on x-axis), explains the data we observed. Likelihood is just a conditional probability (see the |) of the data given the hypothesis. In this case, if we hypothesized the average crowd size was 15 million, we have an approximately 0.025 chance that our observed data came from this hypothesized model. We have the best chance that our data came from a distribution where the true crowd mean is roughly 9 million."
   ]
  },
  {
   "cell_type": "markdown",
   "metadata": {},
   "source": [
    "##### 3. In Bayesian statistics, we can use the $Prior$ and the $Likelihood$ to determine the $Posterior$ distribution:\n",
    "\n",
    "$ Now\\ this\\ is\\ where\\ the\\ magic\\ happens!$ \n",
    "\n",
    "$Posterior \\propto Prior x Likelihood$\n",
    "\n",
    "The Posterior is proporational to the Prior and Likelihood. The Prior is called a conjugate prior for the Likelihood function. Thus, when we know our Liklihood function, we can cleverly select (or look up the known conjugates), the Prior distribution so we can determine the Posterior distribution. These are called $conjugate\\ distributions$. This helps simplify our ability to calculate the Posterior.\n",
    "\n",
    "$Posterior = Normal x Normal $\n",
    "\n",
    "$Posterior=Normal$\n",
    "\n",
    "This is not always the case, many conjugates are different distributions (i.e, binomial and beta conjugates). But in this example, all we need to know is that the Posterior distribution is also a Normal distribution. Using some fancy math, we can now calculate the Posterior as a function of our Prior and observed data."
   ]
  },
  {
   "cell_type": "code",
   "execution_count": 13,
   "metadata": {},
   "outputs": [
    {
     "data": {
      "image/png": "[encoded data removed]",
      "text/plain": [
       "plot without title"
      ]
     },
     "metadata": {},
     "output_type": "display_data"
    }
   ],
   "source": [
    "Prior_precision=1/(prior_sd^2)\n",
    "Data_precision=1/(data_sd^2)\n",
    "Posterior_precision=Prior_precision+Data_precision\n",
    "Posterior_sd=1/sqrt(Posterior_precision)\n",
    "Posterior_mean=((prior_mean*Prior_precision)+(data_mean*Data_precision))/(Prior_precision+Data_precision)\n",
    "\n",
    "Posterior=dnorm(x, mean=Posterior_mean, sd=Posterior_sd)\n",
    "\n",
    "plot(x,Prior, type='l', ylab='Probability', xlab='Crowd Size (Millions)', ylim=c(0,.15))\n",
    "points(size,ysize)\n",
    "lines(x_size, Likelihood, col='red')\n",
    "lines(x, Posterior, col='blue', lwd=2)"
   ]
  },
  {
   "cell_type": "markdown",
   "metadata": {},
   "source": [
    "The blue line represents the $Posterior$ distribution. This shows which crowd size maximizes the chance of observing our data, while considering our prior beliefs. The probability of each crowd size being true $given$ our evidence.\n",
    "We can see that the Posterior distribution is narrower than the Prior distribution and we are more confident in the true average crowd size at this concert. "
   ]
  },
  {
   "cell_type": "markdown",
   "metadata": {},
   "source": [
    "## Inferences with Bayes\n"
   ]
  },
  {
   "cell_type": "markdown",
   "metadata": {},
   "source": [
    "The mean of the posterior distribution is the expected average crowd size:"
   ]
  },
  {
   "cell_type": "code",
   "execution_count": 8,
   "metadata": {},
   "outputs": [
    {
     "data": {
      "text/html": [
       "10.21"
      ],
      "text/latex": [
       "10.21"
      ],
      "text/markdown": [
       "10.21"
      ],
      "text/plain": [
       "[1] 10.2"
      ]
     },
     "metadata": {},
     "output_type": "display_data"
    }
   ],
   "source": [
    "round(Posterior_mean,3)"
   ]
  },
  {
   "cell_type": "markdown",
   "metadata": {},
   "source": [
    "We therefore expect a crowd size of about 10.2 million people at this concert! Our Prior had an estimate of 12 million people, and the data had a mean of 8.8 million. We will order enough food for 10.2 million people, and this saves money based on our Prior estimate, and makes sure we have enough food. If we had used the observed data mean (8.8 million) we may not have had enough.\n",
    "\n",
    "\n",
    "Our boss (the Mayor!) asks us to calculate the probability that more than 15 million people will attend. If there is high attendance we may need to add more police and security to this event. She wants to see the classical statistical analysis as well as the Bayes' approach.\n",
    "\n",
    "Using the classical (Frequentist) approach, we must calculate our test statistic and p-value from the Prior distribution:"
   ]
  },
  {
   "cell_type": "code",
   "execution_count": 9,
   "metadata": {},
   "outputs": [
    {
     "data": {
      "text/html": [
       "0.2266"
      ],
      "text/latex": [
       "0.2266"
      ],
      "text/markdown": [
       "0.2266"
      ],
      "text/plain": [
       "[1] 0.227"
      ]
     },
     "metadata": {},
     "output_type": "display_data"
    }
   ],
   "source": [
    "options(digits=3)\n",
    "round(pnorm(15, mean=prior_mean, sd=prior_sd, lower.tail=FALSE),4)"
   ]
  },
  {
   "cell_type": "markdown",
   "metadata": {},
   "source": [
    "There is a 22% chance our crows will be greater than 15 million people! \n",
    "\n",
    "Let's check this with our Bayesian approach:"
   ]
  },
  {
   "cell_type": "code",
   "execution_count": 60,
   "metadata": {},
   "outputs": [
    {
     "data": {
      "text/html": [
       "0.0356"
      ],
      "text/latex": [
       "0.0356"
      ],
      "text/markdown": [
       "0.0356"
      ],
      "text/plain": [
       "[1] 0.0356"
      ]
     },
     "metadata": {},
     "output_type": "display_data"
    }
   ],
   "source": [
    "round(pnorm(15, mean=Posterior_mean, sd=Posterior_sd, lower.tail=FALSE),4)"
   ]
  },
  {
   "cell_type": "markdown",
   "metadata": {},
   "source": [
    "Now with our Bayesian estimate, there is a 4% chance that the crows will be larger than 15 million. With this estimate, we would recommend that the Mayor not hire more security. This is great! We are more sure of our true crowd size with this Posterior estimate!"
   ]
  },
  {
   "cell_type": "markdown",
   "metadata": {},
   "source": [
    "### Now, if we had some Prior distribution where we cannot solve the Posterior, we might consider running simmulations to help us approximate our paramater (crowd size) of interest. We can do this with Markov Chain Monte Carlo (MCMC) simulations. \n",
    "\n",
    "In a nutshell the MCMC does:\n",
    "1. Picks a random paramater value to start, subsequent values do not depend on this starting point\n",
    "2. Continue to generate random values (Monte Carlo) subject to some rule for determining what makes a good paramater value\n",
    "3. Evaluate if the newly created paramater (t+1) is better than the original (t), if it is, keep the new paramater and add it to the list of paramater values we already collected (Markov Chain)\n",
    "4. Summarize this chain of collected paramater values into a distribution (Posterior) and draw inferences\n",
    "\n",
    "$Monte\\ Carlo$ simulations are a way of estimating a paramater by generating random numbers repeatedly. Doing statistics on the random numbers we can approximate the true paramater of interest.\n",
    "A $Markov\\ Chain$ is a sequence of values that are related to one another through known probabilities.\n",
    "\n",
    "When we do a Monte Carlo Markov Chain, we create random values (Monte Carlo), but those values are only retained in the Markov Chain if they pass some criteria related to the Prior. In this way, the chain of collected paramater values will have a greater frequency of values near the true paramater, as this will better explain the observed data. "
   ]
  },
  {
   "cell_type": "markdown",
   "metadata": {},
   "source": [
    "Our goal is still the same, create a Posterior distribution based on our Prior and the likelihood of observing the new value (think of this like the observed data) given our proposed model. Each simulation is dependent on the previous value and our 'chain' of these accepted values gives us a good approximation of our true paramater of interest.\n",
    "\n",
    "We generate random values from our proposed model, a normal distribution with mean=12 and sd=4. This is our Prior distribution. For each of the new values generated we compare it to the previous value, and if the likelihood ratio of observing this new value is better we keep it and store it in our Chain, if not we keep the previous value. "
   ]
  },
  {
   "cell_type": "code",
   "execution_count": 33,
   "metadata": {},
   "outputs": [],
   "source": [
    "#use a normal distribution for simplicity\n",
    "#generate random numbers from a normal distribution, where the mean\n",
    "#prior we assume mean=12 sd=4\n",
    "#posterior we are solving for mean, but we know sd_posterior=3\n",
    "\n",
    "steps=8000 #how many times we repeat this\n",
    "posterior_sd=2 #controls how big the steps are when going to next value\n",
    "data=sort(c(5,8,3,12,10,8,6,17,11,5,9,10,12,6,10))\n",
    "mu_prior=12\n",
    "mu_prior_sd=4\n",
    "\n",
    "mu=vector()\n",
    "mu[1]=15 #starting point picked arbitrarily\n",
    "   \n",
    "for (i in 1:steps){\n",
    "        # generate random value for the next possible mu\n",
    "        mu_proposal = rnorm(1, mean=mu[i], sd=.06) #samples from normal distribution centered at current mu (no relation to normal model we are assuming for the proposed model), sd is the jump width\n",
    "\n",
    "        # Compute likelihood by multiplying probabilities of each data point\n",
    "        likelihood_current =   prod(dnorm(data, mean=mu[i], sd=posterior_sd)) #calculates each individual likelihood for each datapoint, and then multiplies these together so we get 1 'likelihood' value\n",
    "        #probability of data, given the normal model with proposed mean=mu\n",
    "        likelihood_proposal = prod(dnorm(data, mean=mu_proposal, sd=posterior_sd)) #probability of data, given the normal model with proposed mean=mu_propsoal\n",
    "        \n",
    "        # Compute prior probability of current and proposed mu        \n",
    "        prior_current = dnorm(mu[i], mean=mu_prior, sd=mu_prior_sd) #probability of mu given the prior distribution\n",
    "        prior_proposal = dnorm(mu_proposal, mean=mu_prior, sd=mu_prior_sd)#probability of mu_proposal given the prior distribution\n",
    "        \n",
    "        p_current = likelihood_current * prior_current\n",
    "        p_proposal = likelihood_proposal * prior_proposal\n",
    "        \n",
    "        # Accept proposal?\n",
    "        p_accept = p_proposal / p_current \n",
    "        \n",
    "        # do we accept new mu?\n",
    "        if (runif(1) < p_accept) #evaluates if we keep new mu\n",
    "            #if probability of proposed mu is larger than current, the p_accept >1 and we will always accept \n",
    "            #(because runif is a uniform sampler from 0 to 1), if P_current is larger than P_propsoal we have random chance of keepting the current mu.\n",
    "        mu[i+1] =mu_proposal\n",
    "        else mu[i+1] =mu[i]\n",
    "}\n",
    "\n"
   ]
  },
  {
   "cell_type": "markdown",
   "metadata": {},
   "source": [
    "Let's see how the mu values were sampled:"
   ]
  },
  {
   "cell_type": "code",
   "execution_count": 34,
   "metadata": {},
   "outputs": [
    {
     "data": {
      "image/png": "[encoded data removed]",
      "text/plain": [
       "plot without title"
      ]
     },
     "metadata": {},
     "output_type": "display_data"
    }
   ],
   "source": [
    "x=seq(from=1, to=8001, by=1)\n",
    "plot(x, mu, type='l', xlab=\"steps in simulation\")"
   ]
  },
  {
   "cell_type": "markdown",
   "metadata": {},
   "source": [
    "As you can see, the starting point at mu=15 was pretty far off and the simulated mu's tended to clump around 9.\n"
   ]
  },
  {
   "cell_type": "code",
   "execution_count": 35,
   "metadata": {},
   "outputs": [
    {
     "data": {
      "image/png": "[encoded data removed]",
      "text/plain": [
       "Plot with title \"Histogram of mu\""
      ]
     },
     "metadata": {},
     "output_type": "display_data"
    }
   ],
   "source": [
    "hist(mu, breaks=32)"
   ]
  },
  {
   "cell_type": "markdown",
   "metadata": {},
   "source": [
    "Now we can draw inferences from this Posterior distribution just like we did before."
   ]
  },
  {
   "cell_type": "markdown",
   "metadata": {},
   "source": [
    "## In Summary:\n",
    "1. Bayes' Theory deals with conditional probability\n",
    "2. If you have some prior knowledge and a proposed model to evaluate, you can \"sample\" from the Posterior distribution and draw inferences just like you would in other statistical tests\n",
    "3. Bayes' allows you to narrow your estimates, if you do enough simulations, to improve on the classical statistical approach"
   ]
  }
 ],
 "metadata": {
  "kernelspec": {
   "display_name": "R",
   "language": "R",
   "name": "ir"
  },
  "language_info": {
   "codemirror_mode": "r",
   "file_extension": ".r",
   "mimetype": "text/x-r-source",
   "name": "R",
   "pygments_lexer": "r",
   "version": "3.5.0"
  }
 },
 "nbformat": 4,
 "nbformat_minor": 2
}
