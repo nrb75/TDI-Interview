{
 "cells": [
  {
   "cell_type": "markdown",
   "metadata": {},
   "source": [
    "Bayesian posterior inference: Explain Bayes’ Rule. Write some code to actually perform posterior sampling. Work out an example using conjugate priors. How does this compare with hypothesis testing? What are the underlying assumptions?\n",
    "\n",
    "### In many real world applications, we don't know the probability of events, but we would like to estimate this unknown probability based on our hypothesis and collected evidence. Seems rational, right? \n",
    "\n",
    "#### This is the basis for Bayes' Rule, where we:\n",
    "1. Identify possible models and construct prior probabilities (based on our knowledge or beliefs)\n",
    "2. Collect data and create liklihoods, or the chance of getting this data given each model \n",
    "3. Use Bayes' rule to find posterior probabilities and update our knowledge so we can determine which model is likely to be correct\n"
   ]
  },
  {
   "cell_type": "code",
   "execution_count": null,
   "metadata": {},
   "outputs": [],
   "source": [
    "The basic conditional probability equation is:"
   ]
  },
  {
   "cell_type": "markdown",
   "metadata": {},
   "source": [
    "$P(A|B) = \\frac{P(A\\cap B)}{P(B)}$"
   ]
  },
  {
   "cell_type": "markdown",
   "metadata": {},
   "source": [
    "The probability of A ${given}$ B is equal to the probability of both A and B occuring, normalized by the probability of B occuring. This is often written as:"
   ]
  },
  {
   "cell_type": "code",
   "execution_count": null,
   "metadata": {},
   "outputs": [],
   "source": [
    "$P(A|B) = \\frac{P(B|A) P(A)}{P(B)}$"
   ]
  },
  {
   "cell_type": "markdown",
   "metadata": {},
   "source": [
    "Here we would say the Posterior probability P(A|B) is equal to the Likelihood P(B|A) multiplied by the Prior P(A) normalized by the probability of data P(B)."
   ]
  },
  {
   "cell_type": "markdown",
   "metadata": {},
   "source": [
    "#### Let's work through an example and describe some of the particulars as we go.\n",
    "Say you're the city manager of Austin planning a free concert. Woah big city! And a heck of a music scene! This seems like a big task, and you want to know about how many people will come so you can plan ahead and order the right amount of food. You don't need an exact headcount because ordering is done in bulk. So you would like to know the approximate proportion of the city that will show up in 10% groups (10%, 20%, 30%, etc). Because you've been the city manager for a few years, you have some prior knowledge of these concerts and believe at least 20% of the town will show up, but not more than 90%. You also believe the 60% and 70% groups are 2X as likely as the others. What is the estimated proportion of the city that will show up? \n",
    "\n",
    "You're pretty savvy, and send out an email asking if people will attend the concert. You send it out to 150 people and 70 respond 'yes' and 80 respond 'no'. You know this proportion of attendance (70/150 = 0.46) is not the real estimate because surveys are not always accurate and people do change their minds. So, you want to employ some statistics to help you estimate the most likely proportion of people that will come.\n",
    "\n",
    "Let's define this problem in Bayes terms.\n",
    "\n",
    "#### 1. Identify possible models and construct prior probabilities\n",
    "\n",
    "The models are the proportion of the town that will show up. We want to estimate the probability that each 'model' is true so we can determine the most likely scenario. The models are: p=0.3, p=0.4, p=0.5, p=0.6, p=0.6, p=0.8 and p=0.9\n",
    "Prior probabilities are based on what we know about concert attendance. In this case, we have 7 models (p=0.3 ... p=0.9), if the probability of each model being true were equal the 'prior probabilities' would = 1/7. However, we know that p=0.6 is 2X as likely. The sum of prior probabilities must sum to 1. Therefore the model and priors are:\n"
   ]
  },
  {
   "cell_type": "code",
   "execution_count": 1,
   "metadata": {},
   "outputs": [
    {
     "name": "stderr",
     "output_type": "stream",
     "text": [
      "Installing packages into 'C:/Users/nrb75/Documents/R/win-library/3.4'\n",
      "(as 'lib' is unspecified)\n"
     ]
    },
    {
     "name": "stdout",
     "output_type": "stream",
     "text": [
      "package 'ggplot2' successfully unpacked and MD5 sums checked\n",
      "package 'dplyr' successfully unpacked and MD5 sums checked\n",
      "package 'sciplot' successfully unpacked and MD5 sums checked\n",
      "package 'reshape' successfully unpacked and MD5 sums checked\n",
      "package 'TeachBayes' successfully unpacked and MD5 sums checked\n",
      "\n",
      "The downloaded binary packages are in\n",
      "\tC:\\Users\\nrb75\\AppData\\Local\\Temp\\RtmpCMHkN3\\downloaded_packages\n"
     ]
    },
    {
     "data": {
      "text/html": [
       "<table>\n",
       "<thead><tr><th></th><th scope=col>Models</th><th scope=col>Priors</th></tr></thead>\n",
       "<tbody>\n",
       "\t<tr><th scope=row>p=0.3</th><td>0.3 </td><td>0.12</td></tr>\n",
       "\t<tr><th scope=row>p=0.4</th><td>0.4 </td><td>0.12</td></tr>\n",
       "\t<tr><th scope=row>p=0.5</th><td>0.5 </td><td>0.12</td></tr>\n",
       "\t<tr><th scope=row>p=0.6</th><td>0.6 </td><td>0.25</td></tr>\n",
       "\t<tr><th scope=row>p=0.7</th><td>0.7 </td><td>0.12</td></tr>\n",
       "\t<tr><th scope=row>p=0.8</th><td>0.8 </td><td>0.12</td></tr>\n",
       "\t<tr><th scope=row>p=0.9</th><td>0.9 </td><td>0.12</td></tr>\n",
       "</tbody>\n",
       "</table>\n"
      ],
      "text/latex": [
       "\\begin{tabular}{r|ll}\n",
       "  & Models & Priors\\\\\n",
       "\\hline\n",
       "\tp=0.3 & 0.3  & 0.12\\\\\n",
       "\tp=0.4 & 0.4  & 0.12\\\\\n",
       "\tp=0.5 & 0.5  & 0.12\\\\\n",
       "\tp=0.6 & 0.6  & 0.25\\\\\n",
       "\tp=0.7 & 0.7  & 0.12\\\\\n",
       "\tp=0.8 & 0.8  & 0.12\\\\\n",
       "\tp=0.9 & 0.9  & 0.12\\\\\n",
       "\\end{tabular}\n"
      ],
      "text/markdown": [
       "\n",
       "| <!--/--> | Models | Priors | \n",
       "|---|---|---|---|---|---|---|\n",
       "| p=0.3 | 0.3  | 0.12 | \n",
       "| p=0.4 | 0.4  | 0.12 | \n",
       "| p=0.5 | 0.5  | 0.12 | \n",
       "| p=0.6 | 0.6  | 0.25 | \n",
       "| p=0.7 | 0.7  | 0.12 | \n",
       "| p=0.8 | 0.8  | 0.12 | \n",
       "| p=0.9 | 0.9  | 0.12 | \n",
       "\n",
       "\n"
      ],
      "text/plain": [
       "      Models Priors\n",
       "p=0.3 0.3    0.12  \n",
       "p=0.4 0.4    0.12  \n",
       "p=0.5 0.5    0.12  \n",
       "p=0.6 0.6    0.25  \n",
       "p=0.7 0.7    0.12  \n",
       "p=0.8 0.8    0.12  \n",
       "p=0.9 0.9    0.12  "
      ]
     },
     "metadata": {},
     "output_type": "display_data"
    }
   ],
   "source": [
    "options(repos = c('https://cloud.r-project.org/'))\n",
    "install.packages(c(\"ggplot2\", \"dplyr\", \"sciplot\", \"reshape\", \"TeachBayes\"))\n",
    "\n",
    "Models=c(0.3, 0.4, 0.5, 0.6, 0.7, 0.8, 0.9)\n",
    "Priors=round(c(1/8, 1/8, 1/8, 2/8, 1/8, 1/8, 1/8),2)\n",
    "\n",
    "df=data.frame(Models, Priors)\n",
    "rownames(df)=c(\"p=0.3\", \"p=0.4\", \"p=0.5\", \"p=0.6\", \"p=0.7\", \"p=0.8\", \"p=0.9\")\n",
    "df"
   ]
  },
  {
   "cell_type": "markdown",
   "metadata": {},
   "source": [
    "#### 2. Collect Data and create liklihoods\n",
    "\n",
    "A liklihood is the probability of observing your result ${given}$ the model is true. In this scenario, the observed result is that from the survey. This is a binomial function where Success is defined as 'yes' I will attend the concert. Success=70, size = 150, and binomial probability of succes = models. Now we simply calculate the liklihood of observing the survey results, ${given}$ the model is true.\n",
    "\n",
    "For example, the liklihood that p=0.3:"
   ]
  },
  {
   "cell_type": "code",
   "execution_count": 122,
   "metadata": {},
   "outputs": [
    {
     "data": {
      "text/html": [
       "6.76225718888869e-06"
      ],
      "text/latex": [
       "6.76225718888869e-06"
      ],
      "text/markdown": [
       "6.76225718888869e-06"
      ],
      "text/plain": [
       "[1] 6.762257e-06"
      ]
     },
     "metadata": {},
     "output_type": "display_data"
    }
   ],
   "source": [
    "dbinom(70, size=150, prob=0.3)"
   ]
  },
  {
   "cell_type": "markdown",
   "metadata": {},
   "source": [
    "This is a very low value! and it suggests the liklihood of observing this survey result, ${given}$ the actual probability of attendance is 0.3 is very low.\n",
    "\n",
    "Calculating the liklihood for the remaining models given the survey data is true:"
   ]
  },
  {
   "cell_type": "code",
   "execution_count": 2,
   "metadata": {},
   "outputs": [
    {
     "data": {
      "text/html": [
       "<table>\n",
       "<thead><tr><th></th><th scope=col>Models</th><th scope=col>Priors</th><th scope=col>Liklihood</th></tr></thead>\n",
       "<tbody>\n",
       "\t<tr><th scope=row>p=0.3</th><td>0.3         </td><td>0.12        </td><td>6.762257e-06</td></tr>\n",
       "\t<tr><th scope=row>p=0.4</th><td>0.4         </td><td>0.12        </td><td>1.659816e-02</td></tr>\n",
       "\t<tr><th scope=row>p=0.5</th><td>0.5         </td><td>0.12        </td><td>4.669402e-02</td></tr>\n",
       "\t<tr><th scope=row>p=0.6</th><td>0.6         </td><td>0.25        </td><td>2.878376e-04</td></tr>\n",
       "\t<tr><th scope=row>p=0.7</th><td>0.7         </td><td>0.12        </td><td>1.413591e-09</td></tr>\n",
       "\t<tr><th scope=row>p=0.8</th><td>0.8         </td><td>0.12        </td><td>1.325743e-19</td></tr>\n",
       "\t<tr><th scope=row>p=0.9</th><td>0.9         </td><td>0.12        </td><td>4.175768e-40</td></tr>\n",
       "</tbody>\n",
       "</table>\n"
      ],
      "text/latex": [
       "\\begin{tabular}{r|lll}\n",
       "  & Models & Priors & Liklihood\\\\\n",
       "\\hline\n",
       "\tp=0.3 & 0.3          & 0.12         & 6.762257e-06\\\\\n",
       "\tp=0.4 & 0.4          & 0.12         & 1.659816e-02\\\\\n",
       "\tp=0.5 & 0.5          & 0.12         & 4.669402e-02\\\\\n",
       "\tp=0.6 & 0.6          & 0.25         & 2.878376e-04\\\\\n",
       "\tp=0.7 & 0.7          & 0.12         & 1.413591e-09\\\\\n",
       "\tp=0.8 & 0.8          & 0.12         & 1.325743e-19\\\\\n",
       "\tp=0.9 & 0.9          & 0.12         & 4.175768e-40\\\\\n",
       "\\end{tabular}\n"
      ],
      "text/markdown": [
       "\n",
       "| <!--/--> | Models | Priors | Liklihood | \n",
       "|---|---|---|---|---|---|---|\n",
       "| p=0.3 | 0.3          | 0.12         | 6.762257e-06 | \n",
       "| p=0.4 | 0.4          | 0.12         | 1.659816e-02 | \n",
       "| p=0.5 | 0.5          | 0.12         | 4.669402e-02 | \n",
       "| p=0.6 | 0.6          | 0.25         | 2.878376e-04 | \n",
       "| p=0.7 | 0.7          | 0.12         | 1.413591e-09 | \n",
       "| p=0.8 | 0.8          | 0.12         | 1.325743e-19 | \n",
       "| p=0.9 | 0.9          | 0.12         | 4.175768e-40 | \n",
       "\n",
       "\n"
      ],
      "text/plain": [
       "      Models Priors Liklihood   \n",
       "p=0.3 0.3    0.12   6.762257e-06\n",
       "p=0.4 0.4    0.12   1.659816e-02\n",
       "p=0.5 0.5    0.12   4.669402e-02\n",
       "p=0.6 0.6    0.25   2.878376e-04\n",
       "p=0.7 0.7    0.12   1.413591e-09\n",
       "p=0.8 0.8    0.12   1.325743e-19\n",
       "p=0.9 0.9    0.12   4.175768e-40"
      ]
     },
     "metadata": {},
     "output_type": "display_data"
    }
   ],
   "source": [
    "df$Liklihood=dbinom(70, size=150, prob=Models)\n",
    "df\n"
   ]
  },
  {
   "cell_type": "markdown",
   "metadata": {},
   "source": [
    "#### 3. Now we want to update our prior probabilities with a posterior probability, which depends on our priors and the observed data.\n",
    "\n",
    "$Posterior\\ probability =\\frac{Prior\\ x\\ Liklihood} {\\sum(Prior\\ x\\ Liklihood)}$\n"
   ]
  },
  {
   "cell_type": "code",
   "execution_count": 3,
   "metadata": {},
   "outputs": [
    {
     "data": {
      "text/html": [
       "<table>\n",
       "<thead><tr><th></th><th scope=col>Models</th><th scope=col>Priors</th><th scope=col>Liklihood</th><th scope=col>Product</th><th scope=col>Posterior</th></tr></thead>\n",
       "<tbody>\n",
       "\t<tr><th scope=row>p=0.3</th><td>0.3         </td><td>0.12        </td><td>6.762257e-06</td><td>8.114709e-07</td><td>1.058279e-04</td></tr>\n",
       "\t<tr><th scope=row>p=0.4</th><td>0.4         </td><td>0.12        </td><td>1.659816e-02</td><td>1.991780e-03</td><td>2.597578e-01</td></tr>\n",
       "\t<tr><th scope=row>p=0.5</th><td>0.5         </td><td>0.12        </td><td>4.669402e-02</td><td>5.603283e-03</td><td>7.307517e-01</td></tr>\n",
       "\t<tr><th scope=row>p=0.6</th><td>0.6         </td><td>0.25        </td><td>2.878376e-04</td><td>7.195939e-05</td><td>9.384579e-03</td></tr>\n",
       "\t<tr><th scope=row>p=0.7</th><td>0.7         </td><td>0.12        </td><td>1.413591e-09</td><td>1.696309e-10</td><td>2.212241e-08</td></tr>\n",
       "\t<tr><th scope=row>p=0.8</th><td>0.8         </td><td>0.12        </td><td>1.325743e-19</td><td>1.590892e-20</td><td>2.074760e-18</td></tr>\n",
       "\t<tr><th scope=row>p=0.9</th><td>0.9         </td><td>0.12        </td><td>4.175768e-40</td><td>5.010921e-41</td><td>6.534989e-39</td></tr>\n",
       "</tbody>\n",
       "</table>\n"
      ],
      "text/latex": [
       "\\begin{tabular}{r|lllll}\n",
       "  & Models & Priors & Liklihood & Product & Posterior\\\\\n",
       "\\hline\n",
       "\tp=0.3 & 0.3          & 0.12         & 6.762257e-06 & 8.114709e-07 & 1.058279e-04\\\\\n",
       "\tp=0.4 & 0.4          & 0.12         & 1.659816e-02 & 1.991780e-03 & 2.597578e-01\\\\\n",
       "\tp=0.5 & 0.5          & 0.12         & 4.669402e-02 & 5.603283e-03 & 7.307517e-01\\\\\n",
       "\tp=0.6 & 0.6          & 0.25         & 2.878376e-04 & 7.195939e-05 & 9.384579e-03\\\\\n",
       "\tp=0.7 & 0.7          & 0.12         & 1.413591e-09 & 1.696309e-10 & 2.212241e-08\\\\\n",
       "\tp=0.8 & 0.8          & 0.12         & 1.325743e-19 & 1.590892e-20 & 2.074760e-18\\\\\n",
       "\tp=0.9 & 0.9          & 0.12         & 4.175768e-40 & 5.010921e-41 & 6.534989e-39\\\\\n",
       "\\end{tabular}\n"
      ],
      "text/markdown": [
       "\n",
       "| <!--/--> | Models | Priors | Liklihood | Product | Posterior | \n",
       "|---|---|---|---|---|---|---|\n",
       "| p=0.3 | 0.3          | 0.12         | 6.762257e-06 | 8.114709e-07 | 1.058279e-04 | \n",
       "| p=0.4 | 0.4          | 0.12         | 1.659816e-02 | 1.991780e-03 | 2.597578e-01 | \n",
       "| p=0.5 | 0.5          | 0.12         | 4.669402e-02 | 5.603283e-03 | 7.307517e-01 | \n",
       "| p=0.6 | 0.6          | 0.25         | 2.878376e-04 | 7.195939e-05 | 9.384579e-03 | \n",
       "| p=0.7 | 0.7          | 0.12         | 1.413591e-09 | 1.696309e-10 | 2.212241e-08 | \n",
       "| p=0.8 | 0.8          | 0.12         | 1.325743e-19 | 1.590892e-20 | 2.074760e-18 | \n",
       "| p=0.9 | 0.9          | 0.12         | 4.175768e-40 | 5.010921e-41 | 6.534989e-39 | \n",
       "\n",
       "\n"
      ],
      "text/plain": [
       "      Models Priors Liklihood    Product      Posterior   \n",
       "p=0.3 0.3    0.12   6.762257e-06 8.114709e-07 1.058279e-04\n",
       "p=0.4 0.4    0.12   1.659816e-02 1.991780e-03 2.597578e-01\n",
       "p=0.5 0.5    0.12   4.669402e-02 5.603283e-03 7.307517e-01\n",
       "p=0.6 0.6    0.25   2.878376e-04 7.195939e-05 9.384579e-03\n",
       "p=0.7 0.7    0.12   1.413591e-09 1.696309e-10 2.212241e-08\n",
       "p=0.8 0.8    0.12   1.325743e-19 1.590892e-20 2.074760e-18\n",
       "p=0.9 0.9    0.12   4.175768e-40 5.010921e-41 6.534989e-39"
      ]
     },
     "metadata": {},
     "output_type": "display_data"
    }
   ],
   "source": [
    "df$Product = df$Priors*df$Liklihood\n",
    "df$Posterior=df$Product/sum(df$Product)\n",
    "df"
   ]
  },
  {
   "cell_type": "markdown",
   "metadata": {},
   "source": [
    "A good check is that the sum of the Posterior probabilities = 1."
   ]
  },
  {
   "cell_type": "code",
   "execution_count": 4,
   "metadata": {},
   "outputs": [
    {
     "data": {
      "text/html": [
       "1"
      ],
      "text/latex": [
       "1"
      ],
      "text/markdown": [
       "1"
      ],
      "text/plain": [
       "[1] 1"
      ]
     },
     "metadata": {},
     "output_type": "display_data"
    }
   ],
   "source": [
    "sum(df$Posterior)"
   ]
  },
  {
   "cell_type": "markdown",
   "metadata": {},
   "source": [
    "Good, the Posterior probabilities sum to 1. Now how are these Posterior Probabilities different than our Priors?"
   ]
  },
  {
   "cell_type": "code",
   "execution_count": 8,
   "metadata": {},
   "outputs": [
    {
     "name": "stderr",
     "output_type": "stream",
     "text": [
      "Warning message:\n",
      "\"package 'ggplot2' was built under R version 3.4.4\""
     ]
    },
    {
     "data": {},
     "metadata": {},
     "output_type": "display_data"
    },
    {
     "data": {
      "image/png": "[encoded data removed]",
      "text/plain": [
       "plot without title"
      ]
     },
     "metadata": {},
     "output_type": "display_data"
    }
   ],
   "source": [
    "options(repr.plot.width=4.5, repr.plot.height=4.5)\n",
    "library(reshape)\n",
    "library(ggplot2)\n",
    "\n",
    "df.long=melt(df, id=\"Models\")\n",
    "\n",
    "plt.std=plt.std=theme(legend.position=\"top\", legend.text = element_text(size=12), axis.text.x = element_text(size=12),  axis.text.y = element_text(size=12), axis.title.y = element_text(size=14), strip.text.x = element_text(size=16), panel.background = element_rect(fill='white', colour='black'), legend.key = element_blank())\n",
    "color1=c(\"royalblue2\", \"red2\")\n",
    "ggplot(data=subset(df.long, variable%in% c(\"Priors\", \"Posterior\")), aes(x=as.factor(Models), y=value, fill=variable))+geom_bar(stat=\"identity\", position=\"dodge\")+ylab(\"Probability\")+scale_fill_manual(values=color1, name=\"\")+xlab(\"Models\")+ggtitle(\"Probabilities after 1st Survey\")+plt.std"
   ]
  },
  {
   "cell_type": "markdown",
   "metadata": {},
   "source": [
    "Origninally, the prior probabilities are more equally distributed across our models. But, with our beliefs and the survey data we see that it is far more likely the survey results came from a model where the proportion of town attandance is 0.5. \n",
    "\n",
    "This updates our probabilities and we would suggest the town manager order enough food for roughly 50% of Austin. $\\textbf{Now she is more confident that the attendance will be near 50%, when earlier she thought it was more likely that the attendance could be 60%.}$ She is now able to save money and not waste food. What a good reason to employ Bayes' Theorem!"
   ]
  },
  {
   "cell_type": "markdown",
   "metadata": {},
   "source": [
    "We're happy with these results, but suppose we wanted to send another survey closer to the concert date to give us a better estimate of the attendance. We would simply take the \"Posteriors\" from the results above and use them as our \"Priors\" in the calculations. "
   ]
  },
  {
   "cell_type": "code",
   "execution_count": 9,
   "metadata": {},
   "outputs": [
    {
     "data": {
      "text/html": [
       "<table>\n",
       "<thead><tr><th></th><th scope=col>Models</th><th scope=col>Priors2</th></tr></thead>\n",
       "<tbody>\n",
       "\t<tr><th scope=row>p=0.3</th><td>0.3         </td><td>1.058279e-04</td></tr>\n",
       "\t<tr><th scope=row>p=0.4</th><td>0.4         </td><td>2.597578e-01</td></tr>\n",
       "\t<tr><th scope=row>p=0.5</th><td>0.5         </td><td>7.307517e-01</td></tr>\n",
       "\t<tr><th scope=row>p=0.6</th><td>0.6         </td><td>9.384579e-03</td></tr>\n",
       "\t<tr><th scope=row>p=0.7</th><td>0.7         </td><td>2.212241e-08</td></tr>\n",
       "\t<tr><th scope=row>p=0.8</th><td>0.8         </td><td>2.074760e-18</td></tr>\n",
       "\t<tr><th scope=row>p=0.9</th><td>0.9         </td><td>6.534989e-39</td></tr>\n",
       "</tbody>\n",
       "</table>\n"
      ],
      "text/latex": [
       "\\begin{tabular}{r|ll}\n",
       "  & Models & Priors2\\\\\n",
       "\\hline\n",
       "\tp=0.3 & 0.3          & 1.058279e-04\\\\\n",
       "\tp=0.4 & 0.4          & 2.597578e-01\\\\\n",
       "\tp=0.5 & 0.5          & 7.307517e-01\\\\\n",
       "\tp=0.6 & 0.6          & 9.384579e-03\\\\\n",
       "\tp=0.7 & 0.7          & 2.212241e-08\\\\\n",
       "\tp=0.8 & 0.8          & 2.074760e-18\\\\\n",
       "\tp=0.9 & 0.9          & 6.534989e-39\\\\\n",
       "\\end{tabular}\n"
      ],
      "text/markdown": [
       "\n",
       "| <!--/--> | Models | Priors2 | \n",
       "|---|---|---|---|---|---|---|\n",
       "| p=0.3 | 0.3          | 1.058279e-04 | \n",
       "| p=0.4 | 0.4          | 2.597578e-01 | \n",
       "| p=0.5 | 0.5          | 7.307517e-01 | \n",
       "| p=0.6 | 0.6          | 9.384579e-03 | \n",
       "| p=0.7 | 0.7          | 2.212241e-08 | \n",
       "| p=0.8 | 0.8          | 2.074760e-18 | \n",
       "| p=0.9 | 0.9          | 6.534989e-39 | \n",
       "\n",
       "\n"
      ],
      "text/plain": [
       "      Models Priors2     \n",
       "p=0.3 0.3    1.058279e-04\n",
       "p=0.4 0.4    2.597578e-01\n",
       "p=0.5 0.5    7.307517e-01\n",
       "p=0.6 0.6    9.384579e-03\n",
       "p=0.7 0.7    2.212241e-08\n",
       "p=0.8 0.8    2.074760e-18\n",
       "p=0.9 0.9    6.534989e-39"
      ]
     },
     "metadata": {},
     "output_type": "display_data"
    }
   ],
   "source": [
    "df2=df[c(\"Models\", \"Posterior\")]\n",
    "colnames(df2)[2]=\"Priors2\"\n",
    "df2"
   ]
  },
  {
   "cell_type": "markdown",
   "metadata": {},
   "source": [
    "We calculate the Liklihoods next based on the new survey results.\n",
    "Our new survey was sent to 100 people and 55 responded 'yes'. We calculate a new Liklihood for each model:"
   ]
  },
  {
   "cell_type": "code",
   "execution_count": 10,
   "metadata": {},
   "outputs": [
    {
     "data": {
      "text/html": [
       "<table>\n",
       "<thead><tr><th></th><th scope=col>Models</th><th scope=col>Priors2</th><th scope=col>Liklihood2</th></tr></thead>\n",
       "<tbody>\n",
       "\t<tr><th scope=row>p=0.3</th><td>0.3         </td><td>1.058279e-04</td><td>4.273205e-13</td></tr>\n",
       "\t<tr><th scope=row>p=0.4</th><td>0.4         </td><td>2.597578e-01</td><td>2.562323e-07</td></tr>\n",
       "\t<tr><th scope=row>p=0.5</th><td>0.5         </td><td>7.307517e-01</td><td>8.638557e-04</td></tr>\n",
       "\t<tr><th scope=row>p=0.6</th><td>0.6         </td><td>9.384579e-03</td><td>4.913282e-02</td></tr>\n",
       "\t<tr><th scope=row>p=0.7</th><td>0.7         </td><td>2.212241e-08</td><td>4.677968e-02</td></tr>\n",
       "\t<tr><th scope=row>p=0.8</th><td>0.8         </td><td>2.074760e-18</td><td>1.889469e-04</td></tr>\n",
       "\t<tr><th scope=row>p=0.9</th><td>0.9         </td><td>6.534989e-39</td><td>1.161994e-11</td></tr>\n",
       "</tbody>\n",
       "</table>\n"
      ],
      "text/latex": [
       "\\begin{tabular}{r|lll}\n",
       "  & Models & Priors2 & Liklihood2\\\\\n",
       "\\hline\n",
       "\tp=0.3 & 0.3          & 1.058279e-04 & 4.273205e-13\\\\\n",
       "\tp=0.4 & 0.4          & 2.597578e-01 & 2.562323e-07\\\\\n",
       "\tp=0.5 & 0.5          & 7.307517e-01 & 8.638557e-04\\\\\n",
       "\tp=0.6 & 0.6          & 9.384579e-03 & 4.913282e-02\\\\\n",
       "\tp=0.7 & 0.7          & 2.212241e-08 & 4.677968e-02\\\\\n",
       "\tp=0.8 & 0.8          & 2.074760e-18 & 1.889469e-04\\\\\n",
       "\tp=0.9 & 0.9          & 6.534989e-39 & 1.161994e-11\\\\\n",
       "\\end{tabular}\n"
      ],
      "text/markdown": [
       "\n",
       "| <!--/--> | Models | Priors2 | Liklihood2 | \n",
       "|---|---|---|---|---|---|---|\n",
       "| p=0.3 | 0.3          | 1.058279e-04 | 4.273205e-13 | \n",
       "| p=0.4 | 0.4          | 2.597578e-01 | 2.562323e-07 | \n",
       "| p=0.5 | 0.5          | 7.307517e-01 | 8.638557e-04 | \n",
       "| p=0.6 | 0.6          | 9.384579e-03 | 4.913282e-02 | \n",
       "| p=0.7 | 0.7          | 2.212241e-08 | 4.677968e-02 | \n",
       "| p=0.8 | 0.8          | 2.074760e-18 | 1.889469e-04 | \n",
       "| p=0.9 | 0.9          | 6.534989e-39 | 1.161994e-11 | \n",
       "\n",
       "\n"
      ],
      "text/plain": [
       "      Models Priors2      Liklihood2  \n",
       "p=0.3 0.3    1.058279e-04 4.273205e-13\n",
       "p=0.4 0.4    2.597578e-01 2.562323e-07\n",
       "p=0.5 0.5    7.307517e-01 8.638557e-04\n",
       "p=0.6 0.6    9.384579e-03 4.913282e-02\n",
       "p=0.7 0.7    2.212241e-08 4.677968e-02\n",
       "p=0.8 0.8    2.074760e-18 1.889469e-04\n",
       "p=0.9 0.9    6.534989e-39 1.161994e-11"
      ]
     },
     "metadata": {},
     "output_type": "display_data"
    }
   ],
   "source": [
    "df2$Liklihood2=dbinom(65, size=100, prob=Models)\n",
    "df2"
   ]
  },
  {
   "cell_type": "code",
   "execution_count": null,
   "metadata": {},
   "outputs": [],
   "source": [
    "Now we recalculate the product and Posterior proabilities:"
   ]
  },
  {
   "cell_type": "code",
   "execution_count": 11,
   "metadata": {},
   "outputs": [
    {
     "data": {
      "text/html": [
       "<table>\n",
       "<thead><tr><th></th><th scope=col>Models</th><th scope=col>Priors2</th><th scope=col>Liklihood2</th><th scope=col>Product2</th><th scope=col>Posterior2</th></tr></thead>\n",
       "<tbody>\n",
       "\t<tr><th scope=row>p=0.3</th><td>0.3         </td><td>1.058279e-04</td><td>4.273205e-13</td><td>4.522244e-17</td><td>4.139647e-14</td></tr>\n",
       "\t<tr><th scope=row>p=0.4</th><td>0.4         </td><td>2.597578e-01</td><td>2.562323e-07</td><td>6.655836e-08</td><td>6.092730e-05</td></tr>\n",
       "\t<tr><th scope=row>p=0.5</th><td>0.5         </td><td>7.307517e-01</td><td>8.638557e-04</td><td>6.312640e-04</td><td>5.778570e-01</td></tr>\n",
       "\t<tr><th scope=row>p=0.6</th><td>0.6         </td><td>9.384579e-03</td><td>4.913282e-02</td><td>4.610909e-04</td><td>4.220811e-01</td></tr>\n",
       "\t<tr><th scope=row>p=0.7</th><td>0.7         </td><td>2.212241e-08</td><td>4.677968e-02</td><td>1.034879e-09</td><td>9.473250e-07</td></tr>\n",
       "\t<tr><th scope=row>p=0.8</th><td>0.8         </td><td>2.074760e-18</td><td>1.889469e-04</td><td>3.920195e-22</td><td>3.588534e-19</td></tr>\n",
       "\t<tr><th scope=row>p=0.9</th><td>0.9         </td><td>6.534989e-39</td><td>1.161994e-11</td><td>7.593618e-50</td><td>6.951173e-47</td></tr>\n",
       "</tbody>\n",
       "</table>\n"
      ],
      "text/latex": [
       "\\begin{tabular}{r|lllll}\n",
       "  & Models & Priors2 & Liklihood2 & Product2 & Posterior2\\\\\n",
       "\\hline\n",
       "\tp=0.3 & 0.3          & 1.058279e-04 & 4.273205e-13 & 4.522244e-17 & 4.139647e-14\\\\\n",
       "\tp=0.4 & 0.4          & 2.597578e-01 & 2.562323e-07 & 6.655836e-08 & 6.092730e-05\\\\\n",
       "\tp=0.5 & 0.5          & 7.307517e-01 & 8.638557e-04 & 6.312640e-04 & 5.778570e-01\\\\\n",
       "\tp=0.6 & 0.6          & 9.384579e-03 & 4.913282e-02 & 4.610909e-04 & 4.220811e-01\\\\\n",
       "\tp=0.7 & 0.7          & 2.212241e-08 & 4.677968e-02 & 1.034879e-09 & 9.473250e-07\\\\\n",
       "\tp=0.8 & 0.8          & 2.074760e-18 & 1.889469e-04 & 3.920195e-22 & 3.588534e-19\\\\\n",
       "\tp=0.9 & 0.9          & 6.534989e-39 & 1.161994e-11 & 7.593618e-50 & 6.951173e-47\\\\\n",
       "\\end{tabular}\n"
      ],
      "text/markdown": [
       "\n",
       "| <!--/--> | Models | Priors2 | Liklihood2 | Product2 | Posterior2 | \n",
       "|---|---|---|---|---|---|---|\n",
       "| p=0.3 | 0.3          | 1.058279e-04 | 4.273205e-13 | 4.522244e-17 | 4.139647e-14 | \n",
       "| p=0.4 | 0.4          | 2.597578e-01 | 2.562323e-07 | 6.655836e-08 | 6.092730e-05 | \n",
       "| p=0.5 | 0.5          | 7.307517e-01 | 8.638557e-04 | 6.312640e-04 | 5.778570e-01 | \n",
       "| p=0.6 | 0.6          | 9.384579e-03 | 4.913282e-02 | 4.610909e-04 | 4.220811e-01 | \n",
       "| p=0.7 | 0.7          | 2.212241e-08 | 4.677968e-02 | 1.034879e-09 | 9.473250e-07 | \n",
       "| p=0.8 | 0.8          | 2.074760e-18 | 1.889469e-04 | 3.920195e-22 | 3.588534e-19 | \n",
       "| p=0.9 | 0.9          | 6.534989e-39 | 1.161994e-11 | 7.593618e-50 | 6.951173e-47 | \n",
       "\n",
       "\n"
      ],
      "text/plain": [
       "      Models Priors2      Liklihood2   Product2     Posterior2  \n",
       "p=0.3 0.3    1.058279e-04 4.273205e-13 4.522244e-17 4.139647e-14\n",
       "p=0.4 0.4    2.597578e-01 2.562323e-07 6.655836e-08 6.092730e-05\n",
       "p=0.5 0.5    7.307517e-01 8.638557e-04 6.312640e-04 5.778570e-01\n",
       "p=0.6 0.6    9.384579e-03 4.913282e-02 4.610909e-04 4.220811e-01\n",
       "p=0.7 0.7    2.212241e-08 4.677968e-02 1.034879e-09 9.473250e-07\n",
       "p=0.8 0.8    2.074760e-18 1.889469e-04 3.920195e-22 3.588534e-19\n",
       "p=0.9 0.9    6.534989e-39 1.161994e-11 7.593618e-50 6.951173e-47"
      ]
     },
     "metadata": {},
     "output_type": "display_data"
    }
   ],
   "source": [
    "df2$Product2 = df2$Priors*df2$Liklihood2\n",
    "df2$Posterior2=df2$Product2/sum(df2$Product2)\n",
    "df2"
   ]
  },
  {
   "cell_type": "code",
   "execution_count": 12,
   "metadata": {},
   "outputs": [
    {
     "data": {},
     "metadata": {},
     "output_type": "display_data"
    },
    {
     "data": {
      "image/png": "[encoded data removed]",
      "text/plain": [
       "plot without title"
      ]
     },
     "metadata": {},
     "output_type": "display_data"
    }
   ],
   "source": [
    "df.long2=melt(df2, id=\"Models\")\n",
    "\n",
    "ggplot(data=subset(df.long2, variable%in% c(\"Priors2\", \"Posterior2\")), aes(x=as.factor(Models), y=value, fill=variable))+geom_bar(stat=\"identity\", position=\"dodge\")+plt.std+ylab(\"Probability\")+scale_fill_manual(values=color1, name=\"\")+xlab(\"Models\")+ggtitle(\"Probabilities after 2nd Survey\")"
   ]
  },
  {
   "cell_type": "markdown",
   "metadata": {},
   "source": [
    "Now, after the 2nd survey we are still confident the proprotion of Austin attending the concert will be 50%, but there is also a roughly 42% chance that p=0.6. If we repeated this again and again and survey results came from a known distribution, we would converge on the true probabilities for each model.\n",
    "\n",
    "We'd like to be a bit more confident before placing our food order. But, we don't have time for more surveys. We have some statistic nerds in the city planning group, and they suggest running simulations to approximate survey results and update our Posterior probabilities.\n"
   ]
  },
  {
   "cell_type": "markdown",
   "metadata": {},
   "source": [
    "Using the same general idea as above, we'll construct our Posterior distribution based on the Prior distribution. If these two distributions are in the same family they are called $conjugates$. \n",
    "\n",
    "For the binomial distribution (our survey successes or failures), the conjugate is a beta distribution. Thus, when we know the Prior distribution we can determine the Posterior distribution, which is proportional to the Likelihood x Prior distribution. This helps simplify our ability to calculate the Posterior. "
   ]
  },
  {
   "cell_type": "markdown",
   "metadata": {},
   "source": [
    "$Posterior = \\frac{(Likelihood) * Prior}{Data}$ \n",
    "\n",
    "$P(A|B) = \\frac{P(B|A) P(A)}{P(B)}$ "
   ]
  },
  {
   "cell_type": "markdown",
   "metadata": {},
   "source": [
    "Because the denominator is a normalizing term (makes the probabilities sum to 1), we know that Posterior is proportional to Likelihood and Prior.  Think of this like chemistry with conjugate acids and bases. If we know 1, we can determine the other one we need to nuetralize our chemicals. .\n",
    "\n",
    "\n",
    "In this binomial example:\n",
    "\n",
    "$Posterior Binomial = {(Binomial  Likelihood) * Beta Prior}$\n",
    "\n",
    "We won't get into all the details of a Beta distribution, but think of it like a normal distribution and instead of being characterizied by the mean and standard deviation, it is paramaterized by two shape terms a and b."
   ]
  },
  {
   "cell_type": "markdown",
   "metadata": {},
   "source": [
    "Now, instead of using survey results we are going to use our knowledge to create a Prior distribution where we believe the true town attendance is approximated by a Beta curve with shape parameters a= and b=\n",
    "\n"
   ]
  },
  {
   "cell_type": "code",
   "execution_count": null,
   "metadata": {},
   "outputs": [],
   "source": [
    "abprior="
   ]
  },
  {
   "cell_type": "code",
   "execution_count": null,
   "metadata": {},
   "outputs": [],
   "source": [
    "#rnorm(n=100, mean=0.6, sd=0.2)"
   ]
  },
  {
   "cell_type": "markdown",
   "metadata": {},
   "source": [
    "## Markov Chain Monte Carlo\n",
    "To better approximate our Posterior distribution with simulated surveys, we will use a Markov Chain Monte Carlo simulation, or MCMC for short. We won't get into all the details here, but the main goal of a MCMC is to simulate the Posterior distribution instead of solving for it analytically (which can be very difficult).\n",
    "\n",
    "This basically simulates random draws from a target distribution (Posterior distribution), and then the frequency of these draws is summarized as the probability of each model being true.\n",
    "\n",
    "#### A Markov Chain creates a sequence of numbers, where each value depends only on the value prior and does not have a 'memory'.\n",
    "\n",
    "#### A Monte Carlo simulation generates random numbers from some distribution, and if we repeat this enough, the estimate will converge on the actual value.\n",
    "\n",
    "If we put these two things together, we are creating random draws of Markov Chains. These chains (or vectors of values) represent the Posterior distribution. Since we have many many Markov Chains (thanks to Monte Carlo simulations) the simulated Posterior distribution approaches the true distribution, and we are able to calculate the probabilities of each 'model' being true given the data.\n"
   ]
  },
  {
   "cell_type": "markdown",
   "metadata": {},
   "source": [
    "In this example, we are trying to calculate the true proportion of people in Austin that will attend this concert. The stats nerds have looked at previous attendance records, they determine:\n",
    "\n",
    "1. Prior attendance median value of 0.60\n",
    "2. The Attendance proportion follows a beta distribution with a=2.9 and b=2.0\n",
    "\n"
   ]
  },
  {
   "cell_type": "markdown",
   "metadata": {},
   "source": [
    "Metropolis-Hastings\n",
    "\n",
    "This algorithm uses a candidate or proposal distribution, say q(·, ν), where ν is/are parameters that is/are fixed by the user - called tuning parameters. As we outline in\n",
    "the next page, the MH algorithm constructs a Markov Chain by proposing a value for θ from this candidate distribution, and then either accepting or rejecting this value (with a certain probability). Theoretically the proposal distribution can be any distribution, but in practice you choose something really simple: a Normal distribution if your parameter\n",
    "can be any real number.\n",
    "\n",
    "Assume x(t) follows normal distribution with mean=0.6 and sd=.2\n",
    "\n",
    "https://link.springer.com/content/pdf/10.1007%2F978-1-4419-1576-4_6.pdf\n"
   ]
  },
  {
   "cell_type": "code",
   "execution_count": 139,
   "metadata": {},
   "outputs": [
    {
     "data": {
      "text/html": [
       "<ol class=list-inline>\n",
       "\t<li>0.882041065604202</li>\n",
       "\t<li>0.274276840415855</li>\n",
       "\t<li>0.880155024679999</li>\n",
       "\t<li>0.586239129696415</li>\n",
       "\t<li>0.747116844648599</li>\n",
       "\t<li>0.53573203846275</li>\n",
       "\t<li>0.295568296516703</li>\n",
       "\t<li>0.448928266362921</li>\n",
       "\t<li>0.354975871917517</li>\n",
       "\t<li>0.583164252106381</li>\n",
       "\t<li>0.875353247163838</li>\n",
       "\t<li>0.531571406801782</li>\n",
       "\t<li>0.653140648922936</li>\n",
       "\t<li>0.76996773257856</li>\n",
       "\t<li>0.49639949591029</li>\n",
       "\t<li>0.70251526517922</li>\n",
       "\t<li>0.907285142159746</li>\n",
       "\t<li>0.864000394287678</li>\n",
       "\t<li>0.858354615339066</li>\n",
       "\t<li>0.692952630063978</li>\n",
       "\t<li>0.32108568315467</li>\n",
       "\t<li>0.2627687284742</li>\n",
       "\t<li>0.240100197478769</li>\n",
       "\t<li>0.669714098200247</li>\n",
       "\t<li>0.077220129141343</li>\n",
       "\t<li>0.184493981661047</li>\n",
       "\t<li>0.508616445174731</li>\n",
       "\t<li>0.356945738653017</li>\n",
       "\t<li>0.521910469644742</li>\n",
       "\t<li>0.647516350079766</li>\n",
       "\t<li>0.803745709001954</li>\n",
       "\t<li>1.01764334806512</li>\n",
       "\t<li>0.343411119447338</li>\n",
       "\t<li>0.414668554515635</li>\n",
       "\t<li>0.765335310821583</li>\n",
       "\t<li>0.791088592754366</li>\n",
       "\t<li>0.509474604620295</li>\n",
       "\t<li>0.61278157020973</li>\n",
       "\t<li>0.460024940371651</li>\n",
       "\t<li>0.514704809767976</li>\n",
       "\t<li>0.64037042173561</li>\n",
       "\t<li>0.623831723330652</li>\n",
       "\t<li>0.449386165828117</li>\n",
       "\t<li>0.653850316962059</li>\n",
       "\t<li>0.143393945347952</li>\n",
       "\t<li>0.538305005976511</li>\n",
       "\t<li>0.563368369668136</li>\n",
       "\t<li>0.18321642829517</li>\n",
       "\t<li>0.673634348722145</li>\n",
       "\t<li>0.857231787359435</li>\n",
       "\t<li>0.886548269858155</li>\n",
       "\t<li>0.736342357122816</li>\n",
       "\t<li>0.838854376967487</li>\n",
       "\t<li>0.734576162745537</li>\n",
       "\t<li>0.431707486825568</li>\n",
       "\t<li>0.375304981572382</li>\n",
       "\t<li>0.77803018889383</li>\n",
       "\t<li>0.656990126006069</li>\n",
       "\t<li>0.679241511393037</li>\n",
       "\t<li>0.687369909746366</li>\n",
       "\t<li>0.366180709196916</li>\n",
       "\t<li>0.499255811316547</li>\n",
       "\t<li>0.898701671890555</li>\n",
       "\t<li>0.686292446742887</li>\n",
       "\t<li>0.792088542982585</li>\n",
       "\t<li>0.705244551882658</li>\n",
       "\t<li>0.371569548391854</li>\n",
       "\t<li>1.0380764732634</li>\n",
       "\t<li>0.345628245172933</li>\n",
       "\t<li>0.823555667115394</li>\n",
       "\t<li>0.837521029227115</li>\n",
       "\t<li>0.660320644067207</li>\n",
       "\t<li>0.318827357239243</li>\n",
       "\t<li>1.17872308044941</li>\n",
       "\t<li>0.842757339366994</li>\n",
       "\t<li>0.761504240104473</li>\n",
       "\t<li>0.900743998182818</li>\n",
       "\t<li>0.719045793983062</li>\n",
       "\t<li>0.491958327591917</li>\n",
       "\t<li>0.434700202028922</li>\n",
       "\t<li>0.655964846633329</li>\n",
       "\t<li>0.618110891785479</li>\n",
       "\t<li>0.628082905248983</li>\n",
       "\t<li>0.506120832385581</li>\n",
       "\t<li>0.570295837661017</li>\n",
       "\t<li>0.758874517866424</li>\n",
       "\t<li>0.386038785693373</li>\n",
       "\t<li>0.410654840651322</li>\n",
       "\t<li>0.621135552459095</li>\n",
       "\t<li>0.616851940517507</li>\n",
       "\t<li>0.661935971076873</li>\n",
       "\t<li>0.731395210962271</li>\n",
       "\t<li>0.61456344710347</li>\n",
       "\t<li>0.489899390977779</li>\n",
       "\t<li>0.532425911592434</li>\n",
       "\t<li>0.332691990959905</li>\n",
       "\t<li>0.354896188643606</li>\n",
       "\t<li>0.793370741414344</li>\n",
       "\t<li>0.618952731174238</li>\n",
       "\t<li>0.72384363246048</li>\n",
       "</ol>\n"
      ],
      "text/latex": [
       "\\begin{enumerate*}\n",
       "\\item 0.882041065604202\n",
       "\\item 0.274276840415855\n",
       "\\item 0.880155024679999\n",
       "\\item 0.586239129696415\n",
       "\\item 0.747116844648599\n",
       "\\item 0.53573203846275\n",
       "\\item 0.295568296516703\n",
       "\\item 0.448928266362921\n",
       "\\item 0.354975871917517\n",
       "\\item 0.583164252106381\n",
       "\\item 0.875353247163838\n",
       "\\item 0.531571406801782\n",
       "\\item 0.653140648922936\n",
       "\\item 0.76996773257856\n",
       "\\item 0.49639949591029\n",
       "\\item 0.70251526517922\n",
       "\\item 0.907285142159746\n",
       "\\item 0.864000394287678\n",
       "\\item 0.858354615339066\n",
       "\\item 0.692952630063978\n",
       "\\item 0.32108568315467\n",
       "\\item 0.2627687284742\n",
       "\\item 0.240100197478769\n",
       "\\item 0.669714098200247\n",
       "\\item 0.077220129141343\n",
       "\\item 0.184493981661047\n",
       "\\item 0.508616445174731\n",
       "\\item 0.356945738653017\n",
       "\\item 0.521910469644742\n",
       "\\item 0.647516350079766\n",
       "\\item 0.803745709001954\n",
       "\\item 1.01764334806512\n",
       "\\item 0.343411119447338\n",
       "\\item 0.414668554515635\n",
       "\\item 0.765335310821583\n",
       "\\item 0.791088592754366\n",
       "\\item 0.509474604620295\n",
       "\\item 0.61278157020973\n",
       "\\item 0.460024940371651\n",
       "\\item 0.514704809767976\n",
       "\\item 0.64037042173561\n",
       "\\item 0.623831723330652\n",
       "\\item 0.449386165828117\n",
       "\\item 0.653850316962059\n",
       "\\item 0.143393945347952\n",
       "\\item 0.538305005976511\n",
       "\\item 0.563368369668136\n",
       "\\item 0.18321642829517\n",
       "\\item 0.673634348722145\n",
       "\\item 0.857231787359435\n",
       "\\item 0.886548269858155\n",
       "\\item 0.736342357122816\n",
       "\\item 0.838854376967487\n",
       "\\item 0.734576162745537\n",
       "\\item 0.431707486825568\n",
       "\\item 0.375304981572382\n",
       "\\item 0.77803018889383\n",
       "\\item 0.656990126006069\n",
       "\\item 0.679241511393037\n",
       "\\item 0.687369909746366\n",
       "\\item 0.366180709196916\n",
       "\\item 0.499255811316547\n",
       "\\item 0.898701671890555\n",
       "\\item 0.686292446742887\n",
       "\\item 0.792088542982585\n",
       "\\item 0.705244551882658\n",
       "\\item 0.371569548391854\n",
       "\\item 1.0380764732634\n",
       "\\item 0.345628245172933\n",
       "\\item 0.823555667115394\n",
       "\\item 0.837521029227115\n",
       "\\item 0.660320644067207\n",
       "\\item 0.318827357239243\n",
       "\\item 1.17872308044941\n",
       "\\item 0.842757339366994\n",
       "\\item 0.761504240104473\n",
       "\\item 0.900743998182818\n",
       "\\item 0.719045793983062\n",
       "\\item 0.491958327591917\n",
       "\\item 0.434700202028922\n",
       "\\item 0.655964846633329\n",
       "\\item 0.618110891785479\n",
       "\\item 0.628082905248983\n",
       "\\item 0.506120832385581\n",
       "\\item 0.570295837661017\n",
       "\\item 0.758874517866424\n",
       "\\item 0.386038785693373\n",
       "\\item 0.410654840651322\n",
       "\\item 0.621135552459095\n",
       "\\item 0.616851940517507\n",
       "\\item 0.661935971076873\n",
       "\\item 0.731395210962271\n",
       "\\item 0.61456344710347\n",
       "\\item 0.489899390977779\n",
       "\\item 0.532425911592434\n",
       "\\item 0.332691990959905\n",
       "\\item 0.354896188643606\n",
       "\\item 0.793370741414344\n",
       "\\item 0.618952731174238\n",
       "\\item 0.72384363246048\n",
       "\\end{enumerate*}\n"
      ],
      "text/markdown": [
       "1. 0.882041065604202\n",
       "2. 0.274276840415855\n",
       "3. 0.880155024679999\n",
       "4. 0.586239129696415\n",
       "5. 0.747116844648599\n",
       "6. 0.53573203846275\n",
       "7. 0.295568296516703\n",
       "8. 0.448928266362921\n",
       "9. 0.354975871917517\n",
       "10. 0.583164252106381\n",
       "11. 0.875353247163838\n",
       "12. 0.531571406801782\n",
       "13. 0.653140648922936\n",
       "14. 0.76996773257856\n",
       "15. 0.49639949591029\n",
       "16. 0.70251526517922\n",
       "17. 0.907285142159746\n",
       "18. 0.864000394287678\n",
       "19. 0.858354615339066\n",
       "20. 0.692952630063978\n",
       "21. 0.32108568315467\n",
       "22. 0.2627687284742\n",
       "23. 0.240100197478769\n",
       "24. 0.669714098200247\n",
       "25. 0.077220129141343\n",
       "26. 0.184493981661047\n",
       "27. 0.508616445174731\n",
       "28. 0.356945738653017\n",
       "29. 0.521910469644742\n",
       "30. 0.647516350079766\n",
       "31. 0.803745709001954\n",
       "32. 1.01764334806512\n",
       "33. 0.343411119447338\n",
       "34. 0.414668554515635\n",
       "35. 0.765335310821583\n",
       "36. 0.791088592754366\n",
       "37. 0.509474604620295\n",
       "38. 0.61278157020973\n",
       "39. 0.460024940371651\n",
       "40. 0.514704809767976\n",
       "41. 0.64037042173561\n",
       "42. 0.623831723330652\n",
       "43. 0.449386165828117\n",
       "44. 0.653850316962059\n",
       "45. 0.143393945347952\n",
       "46. 0.538305005976511\n",
       "47. 0.563368369668136\n",
       "48. 0.18321642829517\n",
       "49. 0.673634348722145\n",
       "50. 0.857231787359435\n",
       "51. 0.886548269858155\n",
       "52. 0.736342357122816\n",
       "53. 0.838854376967487\n",
       "54. 0.734576162745537\n",
       "55. 0.431707486825568\n",
       "56. 0.375304981572382\n",
       "57. 0.77803018889383\n",
       "58. 0.656990126006069\n",
       "59. 0.679241511393037\n",
       "60. 0.687369909746366\n",
       "61. 0.366180709196916\n",
       "62. 0.499255811316547\n",
       "63. 0.898701671890555\n",
       "64. 0.686292446742887\n",
       "65. 0.792088542982585\n",
       "66. 0.705244551882658\n",
       "67. 0.371569548391854\n",
       "68. 1.0380764732634\n",
       "69. 0.345628245172933\n",
       "70. 0.823555667115394\n",
       "71. 0.837521029227115\n",
       "72. 0.660320644067207\n",
       "73. 0.318827357239243\n",
       "74. 1.17872308044941\n",
       "75. 0.842757339366994\n",
       "76. 0.761504240104473\n",
       "77. 0.900743998182818\n",
       "78. 0.719045793983062\n",
       "79. 0.491958327591917\n",
       "80. 0.434700202028922\n",
       "81. 0.655964846633329\n",
       "82. 0.618110891785479\n",
       "83. 0.628082905248983\n",
       "84. 0.506120832385581\n",
       "85. 0.570295837661017\n",
       "86. 0.758874517866424\n",
       "87. 0.386038785693373\n",
       "88. 0.410654840651322\n",
       "89. 0.621135552459095\n",
       "90. 0.616851940517507\n",
       "91. 0.661935971076873\n",
       "92. 0.731395210962271\n",
       "93. 0.61456344710347\n",
       "94. 0.489899390977779\n",
       "95. 0.532425911592434\n",
       "96. 0.332691990959905\n",
       "97. 0.354896188643606\n",
       "98. 0.793370741414344\n",
       "99. 0.618952731174238\n",
       "100. 0.72384363246048\n",
       "\n",
       "\n"
      ],
      "text/plain": [
       "  [1] 0.88204107 0.27427684 0.88015502 0.58623913 0.74711684 0.53573204\n",
       "  [7] 0.29556830 0.44892827 0.35497587 0.58316425 0.87535325 0.53157141\n",
       " [13] 0.65314065 0.76996773 0.49639950 0.70251527 0.90728514 0.86400039\n",
       " [19] 0.85835462 0.69295263 0.32108568 0.26276873 0.24010020 0.66971410\n",
       " [25] 0.07722013 0.18449398 0.50861645 0.35694574 0.52191047 0.64751635\n",
       " [31] 0.80374571 1.01764335 0.34341112 0.41466855 0.76533531 0.79108859\n",
       " [37] 0.50947460 0.61278157 0.46002494 0.51470481 0.64037042 0.62383172\n",
       " [43] 0.44938617 0.65385032 0.14339395 0.53830501 0.56336837 0.18321643\n",
       " [49] 0.67363435 0.85723179 0.88654827 0.73634236 0.83885438 0.73457616\n",
       " [55] 0.43170749 0.37530498 0.77803019 0.65699013 0.67924151 0.68736991\n",
       " [61] 0.36618071 0.49925581 0.89870167 0.68629245 0.79208854 0.70524455\n",
       " [67] 0.37156955 1.03807647 0.34562825 0.82355567 0.83752103 0.66032064\n",
       " [73] 0.31882736 1.17872308 0.84275734 0.76150424 0.90074400 0.71904579\n",
       " [79] 0.49195833 0.43470020 0.65596485 0.61811089 0.62808291 0.50612083\n",
       " [85] 0.57029584 0.75887452 0.38603879 0.41065484 0.62113555 0.61685194\n",
       " [91] 0.66193597 0.73139521 0.61456345 0.48989939 0.53242591 0.33269199\n",
       " [97] 0.35489619 0.79337074 0.61895273 0.72384363"
      ]
     },
     "metadata": {},
     "output_type": "display_data"
    }
   ],
   "source": []
  },
  {
   "cell_type": "code",
   "execution_count": 130,
   "metadata": {},
   "outputs": [
    {
     "name": "stderr",
     "output_type": "stream",
     "text": [
      "Warning message:\n",
      "\"package 'dplyr' was built under R version 3.4.4\""
     ]
    },
    {
     "ename": "ERROR",
     "evalue": "Error: package or namespace load failed for 'dplyr' in loadNamespace(j <- i[[1L]], c(lib.loc, .libPaths()), versionCheck = vI[[j]]):\n namespace 'R6' 2.2.1 is being loaded, but >= 2.2.2 is required\n",
     "output_type": "error",
     "traceback": [
      "Error: package or namespace load failed for 'dplyr' in loadNamespace(j <- i[[1L]], c(lib.loc, .libPaths()), versionCheck = vI[[j]]):\n namespace 'R6' 2.2.1 is being loaded, but >= 2.2.2 is required\nTraceback:\n",
      "1. library(dplyr)",
      "2. tryCatch({\n .     attr(package, \"LibPath\") <- which.lib.loc\n .     ns <- loadNamespace(package, lib.loc)\n .     env <- attachNamespace(ns, pos = pos, deps)\n . }, error = function(e) {\n .     P <- if (!is.null(cc <- conditionCall(e))) \n .         paste(\" in\", deparse(cc)[1L])\n .     else \"\"\n .     msg <- gettextf(\"package or namespace load failed for %s%s:\\n %s\", \n .         sQuote(package), P, conditionMessage(e))\n .     if (logical.return) \n .         message(paste(\"Error:\", msg), domain = NA)\n .     else stop(msg, call. = FALSE, domain = NA)\n . })",
      "3. tryCatchList(expr, classes, parentenv, handlers)",
      "4. tryCatchOne(expr, names, parentenv, handlers[[1L]])",
      "5. value[[3L]](cond)",
      "6. stop(msg, call. = FALSE, domain = NA)"
     ]
    }
   ],
   "source": [
    "library(dplyr)\n",
    "library(TeachBayes)\n",
    "beta_draw(c(2.9,2))"
   ]
  },
  {
   "cell_type": "code",
   "execution_count": 115,
   "metadata": {},
   "outputs": [
    {
     "data": {
      "image/png": "[encoded data removed]",
      "text/plain": [
       "Plot with title \"Histogram of samp\""
      ]
     },
     "metadata": {},
     "output_type": "display_data"
    }
   ],
   "source": [
    "tuneSD=1.5\n",
    "\n",
    "M=2000\n",
    "samp=1:M\n",
    "counter=0\n",
    "\n",
    "#starting value\n",
    "samp[1]=1.2\n",
    "\n",
    "for (m in 2:M)\n",
    "{\n",
    "samp[m]=samp[m-1] #default if not changed below\n",
    "candidate=rnorm(1,samp[m-1],tuneSD) #note symmetry\n",
    "ll.cur=dnorm(samp[m-1],0,1,log=T)\n",
    "ll.cand=dnorm(candidate,0,1,log=T)\n",
    "prob=min(exp(ll.cand-ll.cur),1)\n",
    "coin=rbinom(1,1,prob)\n",
    "if (coin)\n",
    "{\n",
    "samp[m]=candidate\n",
    "counter=counter+1\n",
    "}\n",
    "}\n",
    "\n",
    "accept.rate=sum(counter)/M\n",
    "hist(samp)"
   ]
  },
  {
   "cell_type": "code",
   "execution_count": 109,
   "metadata": {},
   "outputs": [
    {
     "data": {
      "text/html": [
       "<ol class=list-inline>\n",
       "\t<li>53</li>\n",
       "\t<li>61</li>\n",
       "\t<li>55</li>\n",
       "\t<li>46</li>\n",
       "\t<li>44</li>\n",
       "\t<li>50</li>\n",
       "\t<li>59</li>\n",
       "\t<li>46</li>\n",
       "\t<li>44</li>\n",
       "\t<li>50</li>\n",
       "</ol>\n"
      ],
      "text/latex": [
       "\\begin{enumerate*}\n",
       "\\item 53\n",
       "\\item 61\n",
       "\\item 55\n",
       "\\item 46\n",
       "\\item 44\n",
       "\\item 50\n",
       "\\item 59\n",
       "\\item 46\n",
       "\\item 44\n",
       "\\item 50\n",
       "\\end{enumerate*}\n"
      ],
      "text/markdown": [
       "1. 53\n",
       "2. 61\n",
       "3. 55\n",
       "4. 46\n",
       "5. 44\n",
       "6. 50\n",
       "7. 59\n",
       "8. 46\n",
       "9. 44\n",
       "10. 50\n",
       "\n",
       "\n"
      ],
      "text/plain": [
       " [1] 53 61 55 46 44 50 59 46 44 50"
      ]
     },
     "metadata": {},
     "output_type": "display_data"
    }
   ],
   "source": [
    "rbinom(n=10, size=100,prob=0.5) \n",
    "#n = number of draws, size = sample size of population, prob = probability of success (or attendance in this case)"
   ]
  },
  {
   "cell_type": "code",
   "execution_count": null,
   "metadata": {},
   "outputs": [],
   "source": [
    "#### A Monte Carlo simulation generates random numbers from some distribution, and if we repeat this enough, the estimate will converge on the actual value."
   ]
  },
  {
   "cell_type": "markdown",
   "metadata": {},
   "source": [
    "Why do we need the Priors are all, you may ask? Well, they help constrain our estimates. If we had no Priors, the Likelihood of observing each model ${given}$ the survey results, would be based soley on the survey results (yes and no responses for a binomial) and give no weight to the fact that usually 60% and 70% of the population attends a concert. Without these priors our estimated proportion of the town in attendance would be:"
   ]
  },
  {
   "cell_type": "markdown",
   "metadata": {},
   "source": [
    "The Monte Carlo methods are simulations instead of analytical solutions. In frequentist (or the more traditional) statistics, you would use a function to maximize a likelihood. Here we simulate results and determine which results would occur in greatest frequency."
   ]
  },
  {
   "cell_type": "markdown",
   "metadata": {},
   "source": [
    "A lot of times we have some knowledge or beliefs about something, and then we collect evidence and update our beliefs. This is the basic scientific method, and also sums up Baye's theory.\n",
    "\n",
    "Instead of knowing absolute probabilities of an event, we use the information we have at hand and our prior belief of the situation to update our belief (now called a posterior).\n",
    "\n",
    "Let's explore how Bayes makes use of these prior beliefs to help us better estimate things are are interested in.\n",
    "\n",
    "For example, we want to know the average height of women in the U.S. We have know prior knowledge in the area, so we assume that heights can be any positive value. We sample 10 women and the mean and standard devations of heights (in decimal feet 5.5 = 5'6\") are:\n"
   ]
  },
  {
   "cell_type": "code",
   "execution_count": null,
   "metadata": {},
   "outputs": [],
   "source": []
  },
  {
   "cell_type": "code",
   "execution_count": 4,
   "metadata": {},
   "outputs": [
    {
     "name": "stdout",
     "output_type": "stream",
     "text": [
      "package 'ggplot2' successfully unpacked and MD5 sums checked\n",
      "package 'dplyr' successfully unpacked and MD5 sums checked\n",
      "package 'sciplot' successfully unpacked and MD5 sums checked\n",
      "package 'repr' successfully unpacked and MD5 sums checked\n",
      "package 'VennDiagram' successfully unpacked and MD5 sums checked\n",
      "\n",
      "The downloaded binary packages are in\n",
      "\tC:\\Users\\nrb75\\AppData\\Local\\Temp\\RtmpSmnMwB\\downloaded_packages\n"
     ]
    },
    {
     "data": {
      "text/html": [
       "5.39"
      ],
      "text/latex": [
       "5.39"
      ],
      "text/markdown": [
       "5.39"
      ],
      "text/plain": [
       "[1] 5.39"
      ]
     },
     "metadata": {},
     "output_type": "display_data"
    },
    {
     "data": {
      "text/html": [
       "0.341402336775183"
      ],
      "text/latex": [
       "0.341402336775183"
      ],
      "text/markdown": [
       "0.341402336775183"
      ],
      "text/plain": [
       "[1] 0.3414023"
      ]
     },
     "metadata": {},
     "output_type": "display_data"
    }
   ],
   "source": [
    "options(repos = c('https://cloud.r-project.org/'))\n",
    "install.packages(c(\"ggplot2\", \"dplyr\", \"sciplot\", \"repr\", \"VennDiagram\"))\n",
    "\n",
    "heights=c(5,5.2,5.7,5.2,5.8,5.10,5.1,5.3,6.,5.5) #heights in ft decimal feet 5'6\" = 5.5 ft\n",
    "mean.height=mean(heights)\n",
    "sd.height=sd(heights)\n",
    "\n",
    "mean.height\n",
    "round(sd.height,2)"
   ]
  },
  {
   "cell_type": "markdown",
   "metadata": {},
   "source": [
    "Now, whats the probabiity of a certain height given these measurements? We can create a distribution for these heights"
   ]
  },
  {
   "cell_type": "markdown",
   "metadata": {},
   "source": [
    "\n",
    "For example, we believe that the average height of women is 5'5\" and that these heights are normally distributed. We collect some data from 10 women, and are now going to check our prior hypothesis and update it to a posterior estimate. We do this by creating a posterior distribution based on our belief the average is 5'5\" and liklihood of that being true based on our collected data.\n",
    "\n",
    "The measured mean height ="
   ]
  },
  {
   "cell_type": "markdown",
   "metadata": {},
   "source": [
    "the measured standard deviation of height ="
   ]
  }
 ],
 "metadata": {
  "kernelspec": {
   "display_name": "R",
   "language": "R",
   "name": "ir"
  },
  "language_info": {
   "codemirror_mode": "r",
   "file_extension": ".r",
   "mimetype": "text/x-r-source",
   "name": "R",
   "pygments_lexer": "r",
   "version": "3.5.0"
  }
 },
 "nbformat": 4,
 "nbformat_minor": 2
}
