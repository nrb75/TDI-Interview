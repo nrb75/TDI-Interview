{
 "cells": [
  {
   "cell_type": "markdown",
   "metadata": {},
   "source": [
    "### In many real world applications, we don't know the probability of events, but we would like to estimate this unknown probability based on our hypothesis and collected evidence. Seems rational, right? \n",
    "\n",
    "#### This is the basis for Bayes' Rule, where we:\n",
    "1. Identify possible models and construct prior probabilities (based on our knowledge or beliefs)\n",
    "2. Collect data and create liklihoods, or the chance of getting this data given each model \n",
    "3. Use Bayes' rule to find posterior probabilities and update our knowledge so we can determine which model is likely to be correct\n"
   ]
  },
  {
   "cell_type": "markdown",
   "metadata": {},
   "source": [
    "Let's work through an example and describe some of the particulars as we go.\n",
    "Say you're the city manager of Austin planning a free concert. Woah big city! And a heck of a music scene! This seems like a big task, and you want to know about how many people will come so you can plan ahead and order the right amount of food. You don't need an exact headcount because ordering is done in bulk. So you would like to know the approximate proportion of the city that will show up in 10% groups (10%, 20%, 30%, etc). Because you've been the city manager for a few years, you have some prior knowledge of these concerts and believe at least 20% of the town will show up, but not more than 90%. You also believe the 60% and 70% groups are 3X as likely as the others. What is the estimated proportion of the city that will show up? \n",
    "\n",
    "You're pretty savvy, and send out an email asking if people will attend the concert. You send it out to 200 people and 110 respond 'yes' and 90 respond 'no'. You know this proportion of attendance (110/200 = 0.55) is not the real estimate because surveys are not always accurate and people do change their minds. So, you want to employ some statistics to help you estimate the most likely proportion of people that will come.\n",
    "\n",
    "Let's define this problem in Bayes terms.\n",
    "\n",
    "#### 1. Identify possible models and construct prior probabilities\n",
    "\n",
    "The models are the proportion of the town that will show up. We want to estimate the probability that each 'model' is true so we can determine the most likely scenario. The models are: p=0.3, p=0.4, p=0.5, p=0.6, p=0.6, p=0.8 and p=0.9\n",
    "Prior probabilities are based on what we know about concert attendance. In this case, we have 7 models (p=0.3 ... p=0.9), if the probability of each model being true were equal the 'prior probabilities' would = 1/7. However, we know that p=0.6 and p=0.7 are 3X as likely. The sum of prior probabilities must sum to 1. Therefore the model and priors are:\n"
   ]
  },
  {
   "cell_type": "code",
   "execution_count": 33,
   "metadata": {},
   "outputs": [
    {
     "name": "stderr",
     "output_type": "stream",
     "text": [
      "Installing packages into 'C:/Users/nrb75/Documents/R/win-library/3.4'\n",
      "(as 'lib' is unspecified)\n"
     ]
    },
    {
     "name": "stdout",
     "output_type": "stream",
     "text": [
      "\n",
      "  There is a binary version available but the source version is later:\n",
      "     binary source needs_compilation\n",
      "repr   0.13 0.15.0             FALSE\n",
      "\n"
     ]
    },
    {
     "name": "stderr",
     "output_type": "stream",
     "text": [
      "Warning message:\n",
      "\"package 'ggplot2' is in use and will not be installed\""
     ]
    },
    {
     "name": "stdout",
     "output_type": "stream",
     "text": [
      "package 'dplyr' successfully unpacked and MD5 sums checked\n",
      "package 'sciplot' successfully unpacked and MD5 sums checked\n",
      "package 'VennDiagram' successfully unpacked and MD5 sums checked\n",
      "package 'reshape' successfully unpacked and MD5 sums checked\n",
      "\n",
      "The downloaded binary packages are in\n",
      "\tC:\\Users\\nrb75\\AppData\\Local\\Temp\\RtmpIDj2Fg\\downloaded_packages\n"
     ]
    },
    {
     "name": "stderr",
     "output_type": "stream",
     "text": [
      "installing the source package 'repr'\n",
      "\n"
     ]
    },
    {
     "data": {
      "text/html": [
       "<table>\n",
       "<thead><tr><th></th><th scope=col>Models</th><th scope=col>Priors</th></tr></thead>\n",
       "<tbody>\n",
       "\t<tr><th scope=row>p=0.3</th><td>0.3 </td><td>0.09</td></tr>\n",
       "\t<tr><th scope=row>p=0.4</th><td>0.4 </td><td>0.09</td></tr>\n",
       "\t<tr><th scope=row>p=0.5</th><td>0.5 </td><td>0.09</td></tr>\n",
       "\t<tr><th scope=row>p=0.6</th><td>0.6 </td><td>0.27</td></tr>\n",
       "\t<tr><th scope=row>p=0.7</th><td>0.7 </td><td>0.27</td></tr>\n",
       "\t<tr><th scope=row>p=0.8</th><td>0.8 </td><td>0.09</td></tr>\n",
       "\t<tr><th scope=row>p=0.9</th><td>0.9 </td><td>0.09</td></tr>\n",
       "</tbody>\n",
       "</table>\n"
      ],
      "text/latex": [
       "\\begin{tabular}{r|ll}\n",
       "  & Models & Priors\\\\\n",
       "\\hline\n",
       "\tp=0.3 & 0.3  & 0.09\\\\\n",
       "\tp=0.4 & 0.4  & 0.09\\\\\n",
       "\tp=0.5 & 0.5  & 0.09\\\\\n",
       "\tp=0.6 & 0.6  & 0.27\\\\\n",
       "\tp=0.7 & 0.7  & 0.27\\\\\n",
       "\tp=0.8 & 0.8  & 0.09\\\\\n",
       "\tp=0.9 & 0.9  & 0.09\\\\\n",
       "\\end{tabular}\n"
      ],
      "text/markdown": [
       "\n",
       "| <!--/--> | Models | Priors | \n",
       "|---|---|---|---|---|---|---|\n",
       "| p=0.3 | 0.3  | 0.09 | \n",
       "| p=0.4 | 0.4  | 0.09 | \n",
       "| p=0.5 | 0.5  | 0.09 | \n",
       "| p=0.6 | 0.6  | 0.27 | \n",
       "| p=0.7 | 0.7  | 0.27 | \n",
       "| p=0.8 | 0.8  | 0.09 | \n",
       "| p=0.9 | 0.9  | 0.09 | \n",
       "\n",
       "\n"
      ],
      "text/plain": [
       "      Models Priors\n",
       "p=0.3 0.3    0.09  \n",
       "p=0.4 0.4    0.09  \n",
       "p=0.5 0.5    0.09  \n",
       "p=0.6 0.6    0.27  \n",
       "p=0.7 0.7    0.27  \n",
       "p=0.8 0.8    0.09  \n",
       "p=0.9 0.9    0.09  "
      ]
     },
     "metadata": {},
     "output_type": "display_data"
    }
   ],
   "source": [
    "options(repos = c('https://cloud.r-project.org/'))\n",
    "install.packages(c(\"ggplot2\", \"dplyr\", \"sciplot\", \"repr\", \"VennDiagram\", \"reshape\"))\n",
    "\n",
    "Models=c(0.3, 0.4, 0.5, 0.6, 0.7, 0.8, 0.9)\n",
    "Priors=round(c(1/11, 1/11, 1/11, 3/11, 3/11, 1/11, 1/11),2)\n",
    "\n",
    "df=data.frame(Models, Priors)\n",
    "rownames(df)=c(\"p=0.3\", \"p=0.4\", \"p=0.5\", \"p=0.6\", \"p=0.7\", \"p=0.8\", \"p=0.9\")\n",
    "df"
   ]
  },
  {
   "cell_type": "markdown",
   "metadata": {},
   "source": [
    "#### 2. Collect Data and create liklihoods\n",
    "\n",
    "A liklihood is the probability of observing your result ${given}$ the model is true. In this scenario, the observed result is that from the survey. This is a binomial function where Success is defined as 'yes' I will attend the concert. Success=123, size = 200, and binomial probability of succes = models. Now we simply calculate the liklihood of observing the survey results, ${given}$ the model is true.\n",
    "\n",
    "For example, the liklihood that p=0.3:"
   ]
  },
  {
   "cell_type": "code",
   "execution_count": 34,
   "metadata": {},
   "outputs": [
    {
     "data": {
      "text/html": [
       "2.56443591451729e-20"
      ],
      "text/latex": [
       "2.56443591451729e-20"
      ],
      "text/markdown": [
       "2.56443591451729e-20"
      ],
      "text/plain": [
       "[1] 2.564436e-20"
      ]
     },
     "metadata": {},
     "output_type": "display_data"
    }
   ],
   "source": [
    "dbinom(123, size=200, prob=0.3)"
   ]
  },
  {
   "cell_type": "markdown",
   "metadata": {},
   "source": [
    "This is a very low value! and it suggests the liklihood of observing this survey result, ${given}$ the actual probability of attendance is 0.3 is very low.\n",
    "\n",
    "Calculating the liklihood for the remaining models:"
   ]
  },
  {
   "cell_type": "code",
   "execution_count": 35,
   "metadata": {},
   "outputs": [
    {
     "data": {
      "text/html": [
       "<table>\n",
       "<thead><tr><th></th><th scope=col>Models</th><th scope=col>Priors</th><th scope=col>Liklihood</th></tr></thead>\n",
       "<tbody>\n",
       "\t<tr><th scope=row>p=0.3</th><td>0.3         </td><td>0.09        </td><td>1.164654e-13</td></tr>\n",
       "\t<tr><th scope=row>p=0.4</th><td>0.4         </td><td>0.09        </td><td>6.084807e-06</td></tr>\n",
       "\t<tr><th scope=row>p=0.5</th><td>0.5         </td><td>0.09        </td><td>2.079869e-02</td></tr>\n",
       "\t<tr><th scope=row>p=0.6</th><td>0.6         </td><td>0.27        </td><td>2.023354e-02</td></tr>\n",
       "\t<tr><th scope=row>p=0.7</th><td>0.7         </td><td>0.27        </td><td>2.665217e-06</td></tr>\n",
       "\t<tr><th scope=row>p=0.8</th><td>0.8         </td><td>0.09        </td><td>9.049683e-16</td></tr>\n",
       "\t<tr><th scope=row>p=0.9</th><td>0.9         </td><td>0.09        </td><td>3.095361e-37</td></tr>\n",
       "</tbody>\n",
       "</table>\n"
      ],
      "text/latex": [
       "\\begin{tabular}{r|lll}\n",
       "  & Models & Priors & Liklihood\\\\\n",
       "\\hline\n",
       "\tp=0.3 & 0.3          & 0.09         & 1.164654e-13\\\\\n",
       "\tp=0.4 & 0.4          & 0.09         & 6.084807e-06\\\\\n",
       "\tp=0.5 & 0.5          & 0.09         & 2.079869e-02\\\\\n",
       "\tp=0.6 & 0.6          & 0.27         & 2.023354e-02\\\\\n",
       "\tp=0.7 & 0.7          & 0.27         & 2.665217e-06\\\\\n",
       "\tp=0.8 & 0.8          & 0.09         & 9.049683e-16\\\\\n",
       "\tp=0.9 & 0.9          & 0.09         & 3.095361e-37\\\\\n",
       "\\end{tabular}\n"
      ],
      "text/markdown": [
       "\n",
       "| <!--/--> | Models | Priors | Liklihood | \n",
       "|---|---|---|---|---|---|---|\n",
       "| p=0.3 | 0.3          | 0.09         | 1.164654e-13 | \n",
       "| p=0.4 | 0.4          | 0.09         | 6.084807e-06 | \n",
       "| p=0.5 | 0.5          | 0.09         | 2.079869e-02 | \n",
       "| p=0.6 | 0.6          | 0.27         | 2.023354e-02 | \n",
       "| p=0.7 | 0.7          | 0.27         | 2.665217e-06 | \n",
       "| p=0.8 | 0.8          | 0.09         | 9.049683e-16 | \n",
       "| p=0.9 | 0.9          | 0.09         | 3.095361e-37 | \n",
       "\n",
       "\n"
      ],
      "text/plain": [
       "      Models Priors Liklihood   \n",
       "p=0.3 0.3    0.09   1.164654e-13\n",
       "p=0.4 0.4    0.09   6.084807e-06\n",
       "p=0.5 0.5    0.09   2.079869e-02\n",
       "p=0.6 0.6    0.27   2.023354e-02\n",
       "p=0.7 0.7    0.27   2.665217e-06\n",
       "p=0.8 0.8    0.09   9.049683e-16\n",
       "p=0.9 0.9    0.09   3.095361e-37"
      ]
     },
     "metadata": {},
     "output_type": "display_data"
    }
   ],
   "source": [
    "df$Liklihood=dbinom(110, size=200, prob=models)\n",
    "df\n"
   ]
  },
  {
   "cell_type": "markdown",
   "metadata": {},
   "source": [
    "#### 3. Now we want to update our prior probabilities with a posterior probability, which depends on our priors and the observed data.\n",
    "\n",
    "$Posterior\\ probability =\\frac{Prior\\ x\\ Liklihood} {\\sum(Prior\\ x\\ Liklihood)}$\n"
   ]
  },
  {
   "cell_type": "code",
   "execution_count": 36,
   "metadata": {},
   "outputs": [
    {
     "data": {
      "text/html": [
       "<table>\n",
       "<thead><tr><th></th><th scope=col>Models</th><th scope=col>Priors</th><th scope=col>Liklihood</th><th scope=col>Product</th><th scope=col>Posterior</th></tr></thead>\n",
       "<tbody>\n",
       "\t<tr><th scope=row>p=0.3</th><td>0.3         </td><td>0.09        </td><td>1.164654e-13</td><td>1.048188e-14</td><td>1.428788e-12</td></tr>\n",
       "\t<tr><th scope=row>p=0.4</th><td>0.4         </td><td>0.09        </td><td>6.084807e-06</td><td>5.476326e-07</td><td>7.464792e-05</td></tr>\n",
       "\t<tr><th scope=row>p=0.5</th><td>0.5         </td><td>0.09        </td><td>2.079869e-02</td><td>1.871882e-03</td><td>2.551567e-01</td></tr>\n",
       "\t<tr><th scope=row>p=0.6</th><td>0.6         </td><td>0.27        </td><td>2.023354e-02</td><td>5.463057e-03</td><td>7.446705e-01</td></tr>\n",
       "\t<tr><th scope=row>p=0.7</th><td>0.7         </td><td>0.27        </td><td>2.665217e-06</td><td>7.196085e-07</td><td>9.809000e-05</td></tr>\n",
       "\t<tr><th scope=row>p=0.8</th><td>0.8         </td><td>0.09        </td><td>9.049683e-16</td><td>8.144715e-17</td><td>1.110208e-14</td></tr>\n",
       "\t<tr><th scope=row>p=0.9</th><td>0.9         </td><td>0.09        </td><td>3.095361e-37</td><td>2.785824e-38</td><td>3.797364e-36</td></tr>\n",
       "</tbody>\n",
       "</table>\n"
      ],
      "text/latex": [
       "\\begin{tabular}{r|lllll}\n",
       "  & Models & Priors & Liklihood & Product & Posterior\\\\\n",
       "\\hline\n",
       "\tp=0.3 & 0.3          & 0.09         & 1.164654e-13 & 1.048188e-14 & 1.428788e-12\\\\\n",
       "\tp=0.4 & 0.4          & 0.09         & 6.084807e-06 & 5.476326e-07 & 7.464792e-05\\\\\n",
       "\tp=0.5 & 0.5          & 0.09         & 2.079869e-02 & 1.871882e-03 & 2.551567e-01\\\\\n",
       "\tp=0.6 & 0.6          & 0.27         & 2.023354e-02 & 5.463057e-03 & 7.446705e-01\\\\\n",
       "\tp=0.7 & 0.7          & 0.27         & 2.665217e-06 & 7.196085e-07 & 9.809000e-05\\\\\n",
       "\tp=0.8 & 0.8          & 0.09         & 9.049683e-16 & 8.144715e-17 & 1.110208e-14\\\\\n",
       "\tp=0.9 & 0.9          & 0.09         & 3.095361e-37 & 2.785824e-38 & 3.797364e-36\\\\\n",
       "\\end{tabular}\n"
      ],
      "text/markdown": [
       "\n",
       "| <!--/--> | Models | Priors | Liklihood | Product | Posterior | \n",
       "|---|---|---|---|---|---|---|\n",
       "| p=0.3 | 0.3          | 0.09         | 1.164654e-13 | 1.048188e-14 | 1.428788e-12 | \n",
       "| p=0.4 | 0.4          | 0.09         | 6.084807e-06 | 5.476326e-07 | 7.464792e-05 | \n",
       "| p=0.5 | 0.5          | 0.09         | 2.079869e-02 | 1.871882e-03 | 2.551567e-01 | \n",
       "| p=0.6 | 0.6          | 0.27         | 2.023354e-02 | 5.463057e-03 | 7.446705e-01 | \n",
       "| p=0.7 | 0.7          | 0.27         | 2.665217e-06 | 7.196085e-07 | 9.809000e-05 | \n",
       "| p=0.8 | 0.8          | 0.09         | 9.049683e-16 | 8.144715e-17 | 1.110208e-14 | \n",
       "| p=0.9 | 0.9          | 0.09         | 3.095361e-37 | 2.785824e-38 | 3.797364e-36 | \n",
       "\n",
       "\n"
      ],
      "text/plain": [
       "      Models Priors Liklihood    Product      Posterior   \n",
       "p=0.3 0.3    0.09   1.164654e-13 1.048188e-14 1.428788e-12\n",
       "p=0.4 0.4    0.09   6.084807e-06 5.476326e-07 7.464792e-05\n",
       "p=0.5 0.5    0.09   2.079869e-02 1.871882e-03 2.551567e-01\n",
       "p=0.6 0.6    0.27   2.023354e-02 5.463057e-03 7.446705e-01\n",
       "p=0.7 0.7    0.27   2.665217e-06 7.196085e-07 9.809000e-05\n",
       "p=0.8 0.8    0.09   9.049683e-16 8.144715e-17 1.110208e-14\n",
       "p=0.9 0.9    0.09   3.095361e-37 2.785824e-38 3.797364e-36"
      ]
     },
     "metadata": {},
     "output_type": "display_data"
    }
   ],
   "source": [
    "df$Product = df$Priors*df$Liklihood\n",
    "df$Posterior=df$Product/sum(df$Product)\n",
    "df"
   ]
  },
  {
   "cell_type": "code",
   "execution_count": 37,
   "metadata": {},
   "outputs": [
    {
     "ename": "ERROR",
     "evalue": "Error in parse(text = x, srcfile = src): <text>:1:3: unexpected symbol\n1: A good\n      ^\n",
     "output_type": "error",
     "traceback": [
      "Error in parse(text = x, srcfile = src): <text>:1:3: unexpected symbol\n1: A good\n      ^\nTraceback:\n"
     ]
    }
   ],
   "source": [
    "A good check is that the sum of the Posterior probabilities = 1."
   ]
  },
  {
   "cell_type": "code",
   "execution_count": null,
   "metadata": {},
   "outputs": [],
   "source": [
    "sum(df$Posterior)"
   ]
  },
  {
   "cell_type": "code",
   "execution_count": null,
   "metadata": {},
   "outputs": [],
   "source": [
    "Good, the Posterior probabilities sum to 1. Now how are these Posterior Probabilities different than our Priors?"
   ]
  },
  {
   "cell_type": "code",
   "execution_count": 57,
   "metadata": {},
   "outputs": [
    {
     "data": {},
     "metadata": {},
     "output_type": "display_data"
    },
    {
     "data": {
      "image/png": "[encoded data removed]",
      "text/plain": [
       "plot without title"
      ]
     },
     "metadata": {},
     "output_type": "display_data"
    }
   ],
   "source": [
    "options(repr.plot.width=4.5, repr.plot.height=4.5)\n",
    "library(reshape)\n",
    "df.long=melt(df, id=\"Models\")\n",
    "\n",
    "plt.std=plt.std=theme(legend.position=\"top\", legend.text = element_text(size=12), axis.text.x = element_text(size=12),  axis.text.y = element_text(size=12), axis.title.y = element_text(size=14), strip.text.x = element_text(size=16), panel.background = element_rect(fill='white', colour='black'), legend.key = element_blank())\n",
    "color1=c(\"royalblue2\", \"red2\")\n",
    "ggplot(data=subset(df.long, variable%in% c(\"Priors\", \"Posterior\")), aes(x=as.factor(Models), y=value, fill=variable))+geom_bar(stat=\"identity\", position=\"dodge\")+plt.std+ylab(\"Probability\")+scale_fill_manual(values=color1, name=\"\")+xlab(\"Models\")"
   ]
  },
  {
   "cell_type": "code",
   "execution_count": null,
   "metadata": {},
   "outputs": [],
   "source": []
  },
  {
   "cell_type": "markdown",
   "metadata": {},
   "source": [
    "A lot of times we have some knowledge or beliefs about something, and then we collect evidence and update our beliefs. This is the basic scientific method, and also sums up Baye's theory.\n",
    "\n",
    "Instead of knowing absolute probabilities of an event, we use the information we have at hand and our prior belief of the situation to update our belief (now called a posterior).\n",
    "\n",
    "Let's explore how Bayes makes use of these prior beliefs to help us better estimate things are are interested in.\n",
    "\n",
    "For example, we want to know the average height of women in the U.S. We have know prior knowledge in the area, so we assume that heights can be any positive value. We sample 10 women and the mean and standard devations of heights (in decimal feet 5.5 = 5'6\") are:\n"
   ]
  },
  {
   "cell_type": "code",
   "execution_count": null,
   "metadata": {},
   "outputs": [],
   "source": []
  },
  {
   "cell_type": "code",
   "execution_count": 4,
   "metadata": {},
   "outputs": [
    {
     "name": "stdout",
     "output_type": "stream",
     "text": [
      "package 'ggplot2' successfully unpacked and MD5 sums checked\n",
      "package 'dplyr' successfully unpacked and MD5 sums checked\n",
      "package 'sciplot' successfully unpacked and MD5 sums checked\n",
      "package 'repr' successfully unpacked and MD5 sums checked\n",
      "package 'VennDiagram' successfully unpacked and MD5 sums checked\n",
      "\n",
      "The downloaded binary packages are in\n",
      "\tC:\\Users\\nrb75\\AppData\\Local\\Temp\\RtmpSmnMwB\\downloaded_packages\n"
     ]
    },
    {
     "data": {
      "text/html": [
       "5.39"
      ],
      "text/latex": [
       "5.39"
      ],
      "text/markdown": [
       "5.39"
      ],
      "text/plain": [
       "[1] 5.39"
      ]
     },
     "metadata": {},
     "output_type": "display_data"
    },
    {
     "data": {
      "text/html": [
       "0.341402336775183"
      ],
      "text/latex": [
       "0.341402336775183"
      ],
      "text/markdown": [
       "0.341402336775183"
      ],
      "text/plain": [
       "[1] 0.3414023"
      ]
     },
     "metadata": {},
     "output_type": "display_data"
    }
   ],
   "source": [
    "options(repos = c('https://cloud.r-project.org/'))\n",
    "install.packages(c(\"ggplot2\", \"dplyr\", \"sciplot\", \"repr\", \"VennDiagram\"))\n",
    "\n",
    "heights=c(5,5.2,5.7,5.2,5.8,5.10,5.1,5.3,6.,5.5) #heights in ft decimal feet 5'6\" = 5.5 ft\n",
    "mean.height=mean(heights)\n",
    "sd.height=sd(heights)\n",
    "\n",
    "mean.height\n",
    "round(sd.height,2)"
   ]
  },
  {
   "cell_type": "markdown",
   "metadata": {},
   "source": [
    "Now, whats the probabiity of a certain height given these measurements? We can create a distribution for these heights"
   ]
  },
  {
   "cell_type": "markdown",
   "metadata": {},
   "source": [
    "\n",
    "For example, we believe that the average height of women is 5'5\" and that these heights are normally distributed. We collect some data from 10 women, and are now going to check our prior hypothesis and update it to a posterior estimate. We do this by creating a posterior distribution based on our belief the average is 5'5\" and liklihood of that being true based on our collected data.\n",
    "\n",
    "The measured mean height ="
   ]
  },
  {
   "cell_type": "markdown",
   "metadata": {},
   "source": [
    "the measured standard deviation of height ="
   ]
  }
 ],
 "metadata": {
  "kernelspec": {
   "display_name": "R",
   "language": "R",
   "name": "ir"
  },
  "language_info": {
   "codemirror_mode": "r",
   "file_extension": ".r",
   "mimetype": "text/x-r-source",
   "name": "R",
   "pygments_lexer": "r",
   "version": "3.4.3"
  }
 },
 "nbformat": 4,
 "nbformat_minor": 2
}
