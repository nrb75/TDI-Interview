{
 "cells": [
  {
   "cell_type": "markdown",
   "metadata": {},
   "source": [
    "want to know avg # of ppl to come to concert\n"
   ]
  },
  {
   "cell_type": "markdown",
   "metadata": {},
   "source": [
    "Bayesian posterior inference: Explain Bayes’ Rule.  Write some code to actually perform posterior sampling.  Work out an example using conjugate priors.  How does this compare with hypothesis testing?  What are the underlying assumptions?"
   ]
  },
  {
   "cell_type": "code",
   "execution_count": 36,
   "metadata": {},
   "outputs": [
    {
     "name": "stderr",
     "output_type": "stream",
     "text": [
      "Installing packages into 'C:/Users/nrb75/Documents/R/win-library/3.4'\n",
      "(as 'lib' is unspecified)\n",
      "Warning message:\n",
      "\"packages 'ggplot2', 'reshape' are in use and will not be installed\""
     ]
    },
    {
     "name": "stdout",
     "output_type": "stream",
     "text": [
      "package 'dplyr' successfully unpacked and MD5 sums checked\n",
      "package 'sciplot' successfully unpacked and MD5 sums checked\n",
      "package 'TeachBayes' successfully unpacked and MD5 sums checked\n",
      "\n",
      "The downloaded binary packages are in\n",
      "\tC:\\Users\\nrb75\\AppData\\Local\\Temp\\RtmpuQfqZW\\downloaded_packages\n"
     ]
    }
   ],
   "source": [
    "options(repos = c('https://cloud.r-project.org/'))\n",
    "options(digits=3)\n",
    "install.packages(c(\"ggplot2\", \"dplyr\", \"sciplot\", \"reshape\", \"TeachBayes\"))\n",
    "#library(sciPlot)"
   ]
  },
  {
   "cell_type": "code",
   "execution_count": 37,
   "metadata": {},
   "outputs": [
    {
     "data": {
      "text/html": [
       "<table>\n",
       "<thead><tr><th scope=col>Model</th><th scope=col>Prior</th></tr></thead>\n",
       "<tbody>\n",
       "\t<tr><td> 3   </td><td>0.067</td></tr>\n",
       "\t<tr><td> 4   </td><td>0.067</td></tr>\n",
       "\t<tr><td> 5   </td><td>0.067</td></tr>\n",
       "\t<tr><td> 6   </td><td>0.067</td></tr>\n",
       "\t<tr><td> 7   </td><td>0.067</td></tr>\n",
       "\t<tr><td> 8   </td><td>0.067</td></tr>\n",
       "\t<tr><td> 9   </td><td>0.067</td></tr>\n",
       "\t<tr><td>10   </td><td>0.067</td></tr>\n",
       "\t<tr><td>11   </td><td>0.067</td></tr>\n",
       "\t<tr><td>12   </td><td>0.067</td></tr>\n",
       "\t<tr><td>13   </td><td>0.067</td></tr>\n",
       "\t<tr><td>14   </td><td>0.067</td></tr>\n",
       "\t<tr><td>15   </td><td>0.067</td></tr>\n",
       "\t<tr><td>16   </td><td>0.067</td></tr>\n",
       "\t<tr><td>17   </td><td>0.067</td></tr>\n",
       "</tbody>\n",
       "</table>\n"
      ],
      "text/latex": [
       "\\begin{tabular}{r|ll}\n",
       " Model & Prior\\\\\n",
       "\\hline\n",
       "\t  3    & 0.067\\\\\n",
       "\t  4    & 0.067\\\\\n",
       "\t  5    & 0.067\\\\\n",
       "\t  6    & 0.067\\\\\n",
       "\t  7    & 0.067\\\\\n",
       "\t  8    & 0.067\\\\\n",
       "\t  9    & 0.067\\\\\n",
       "\t 10    & 0.067\\\\\n",
       "\t 11    & 0.067\\\\\n",
       "\t 12    & 0.067\\\\\n",
       "\t 13    & 0.067\\\\\n",
       "\t 14    & 0.067\\\\\n",
       "\t 15    & 0.067\\\\\n",
       "\t 16    & 0.067\\\\\n",
       "\t 17    & 0.067\\\\\n",
       "\\end{tabular}\n"
      ],
      "text/markdown": [
       "\n",
       "Model | Prior | \n",
       "|---|---|---|---|---|---|---|---|---|---|---|---|---|---|---|\n",
       "|  3    | 0.067 | \n",
       "|  4    | 0.067 | \n",
       "|  5    | 0.067 | \n",
       "|  6    | 0.067 | \n",
       "|  7    | 0.067 | \n",
       "|  8    | 0.067 | \n",
       "|  9    | 0.067 | \n",
       "| 10    | 0.067 | \n",
       "| 11    | 0.067 | \n",
       "| 12    | 0.067 | \n",
       "| 13    | 0.067 | \n",
       "| 14    | 0.067 | \n",
       "| 15    | 0.067 | \n",
       "| 16    | 0.067 | \n",
       "| 17    | 0.067 | \n",
       "\n",
       "\n"
      ],
      "text/plain": [
       "   Model Prior\n",
       "1   3    0.067\n",
       "2   4    0.067\n",
       "3   5    0.067\n",
       "4   6    0.067\n",
       "5   7    0.067\n",
       "6   8    0.067\n",
       "7   9    0.067\n",
       "8  10    0.067\n",
       "9  11    0.067\n",
       "10 12    0.067\n",
       "11 13    0.067\n",
       "12 14    0.067\n",
       "13 15    0.067\n",
       "14 16    0.067\n",
       "15 17    0.067"
      ]
     },
     "metadata": {},
     "output_type": "display_data"
    }
   ],
   "source": [
    "size=sort(c(5,8,3,12,10,8,6,17,11,5,9,10,12,6))\n",
    "Model=seq(3,17,1) #want to determine which model is most likely, i.e., which crowd size is most likely\n",
    "Prior=round(rep(1/15, 15),3)\n",
    "ybar=mean(size)\n",
    "sd_size=sd(size)\n",
    "\n",
    "df_size=data.frame(Model, Prior)\n",
    "df_size\n"
   ]
  },
  {
   "cell_type": "code",
   "execution_count": 38,
   "metadata": {},
   "outputs": [
    {
     "ename": "ERROR",
     "evalue": "Error in parse(text = x, srcfile = src): <text>:1:8: unexpected symbol\n1: Create Likelihood\n           ^\n",
     "output_type": "error",
     "traceback": [
      "Error in parse(text = x, srcfile = src): <text>:1:8: unexpected symbol\n1: Create Likelihood\n           ^\nTraceback:\n"
     ]
    }
   ],
   "source": [
    "Create Likelihood that each model (crowd size) is true, given the observed collected data."
   ]
  },
  {
   "cell_type": "code",
   "execution_count": 42,
   "metadata": {},
   "outputs": [
    {
     "data": {
      "text/html": [
       "<table>\n",
       "<thead><tr><th scope=col>Model</th><th scope=col>Prior</th><th scope=col>Likelihood</th></tr></thead>\n",
       "<tbody>\n",
       "\t<tr><td> 3     </td><td>0.067  </td><td>0.03231</td></tr>\n",
       "\t<tr><td> 4     </td><td>0.067  </td><td>0.04762</td></tr>\n",
       "\t<tr><td> 5     </td><td>0.067  </td><td>0.06514</td></tr>\n",
       "\t<tr><td> 6     </td><td>0.067  </td><td>0.08272</td></tr>\n",
       "\t<tr><td> 7     </td><td>0.067  </td><td>0.09752</td></tr>\n",
       "\t<tr><td> 8     </td><td>0.067  </td><td>0.10673</td></tr>\n",
       "\t<tr><td> 9     </td><td>0.067  </td><td>0.10845</td></tr>\n",
       "\t<tr><td>10     </td><td>0.067  </td><td>0.10229</td></tr>\n",
       "\t<tr><td>11     </td><td>0.067  </td><td>0.08958</td></tr>\n",
       "\t<tr><td>12     </td><td>0.067  </td><td>0.07282</td></tr>\n",
       "\t<tr><td>13     </td><td>0.067  </td><td>0.05496</td></tr>\n",
       "\t<tr><td>14     </td><td>0.067  </td><td>0.03850</td></tr>\n",
       "\t<tr><td>15     </td><td>0.067  </td><td>0.02504</td></tr>\n",
       "\t<tr><td>16     </td><td>0.067  </td><td>0.01512</td></tr>\n",
       "\t<tr><td>17     </td><td>0.067  </td><td>0.00848</td></tr>\n",
       "</tbody>\n",
       "</table>\n"
      ],
      "text/latex": [
       "\\begin{tabular}{r|lll}\n",
       " Model & Prior & Likelihood\\\\\n",
       "\\hline\n",
       "\t  3      & 0.067   & 0.03231\\\\\n",
       "\t  4      & 0.067   & 0.04762\\\\\n",
       "\t  5      & 0.067   & 0.06514\\\\\n",
       "\t  6      & 0.067   & 0.08272\\\\\n",
       "\t  7      & 0.067   & 0.09752\\\\\n",
       "\t  8      & 0.067   & 0.10673\\\\\n",
       "\t  9      & 0.067   & 0.10845\\\\\n",
       "\t 10      & 0.067   & 0.10229\\\\\n",
       "\t 11      & 0.067   & 0.08958\\\\\n",
       "\t 12      & 0.067   & 0.07282\\\\\n",
       "\t 13      & 0.067   & 0.05496\\\\\n",
       "\t 14      & 0.067   & 0.03850\\\\\n",
       "\t 15      & 0.067   & 0.02504\\\\\n",
       "\t 16      & 0.067   & 0.01512\\\\\n",
       "\t 17      & 0.067   & 0.00848\\\\\n",
       "\\end{tabular}\n"
      ],
      "text/markdown": [
       "\n",
       "Model | Prior | Likelihood | \n",
       "|---|---|---|---|---|---|---|---|---|---|---|---|---|---|---|\n",
       "|  3      | 0.067   | 0.03231 | \n",
       "|  4      | 0.067   | 0.04762 | \n",
       "|  5      | 0.067   | 0.06514 | \n",
       "|  6      | 0.067   | 0.08272 | \n",
       "|  7      | 0.067   | 0.09752 | \n",
       "|  8      | 0.067   | 0.10673 | \n",
       "|  9      | 0.067   | 0.10845 | \n",
       "| 10      | 0.067   | 0.10229 | \n",
       "| 11      | 0.067   | 0.08958 | \n",
       "| 12      | 0.067   | 0.07282 | \n",
       "| 13      | 0.067   | 0.05496 | \n",
       "| 14      | 0.067   | 0.03850 | \n",
       "| 15      | 0.067   | 0.02504 | \n",
       "| 16      | 0.067   | 0.01512 | \n",
       "| 17      | 0.067   | 0.00848 | \n",
       "\n",
       "\n"
      ],
      "text/plain": [
       "   Model Prior Likelihood\n",
       "1   3    0.067 0.03231   \n",
       "2   4    0.067 0.04762   \n",
       "3   5    0.067 0.06514   \n",
       "4   6    0.067 0.08272   \n",
       "5   7    0.067 0.09752   \n",
       "6   8    0.067 0.10673   \n",
       "7   9    0.067 0.10845   \n",
       "8  10    0.067 0.10229   \n",
       "9  11    0.067 0.08958   \n",
       "10 12    0.067 0.07282   \n",
       "11 13    0.067 0.05496   \n",
       "12 14    0.067 0.03850   \n",
       "13 15    0.067 0.02504   \n",
       "14 16    0.067 0.01512   \n",
       "15 17    0.067 0.00848   "
      ]
     },
     "metadata": {},
     "output_type": "display_data"
    }
   ],
   "source": [
    "df_size$Likelihood=dnorm(ybar, mean=Model, sd=sd_size) #dnorm is a density function that calculates the relative likelihood that the value of the random variable would equal that sample. \n",
    "#Likelihood is calculated based on a normal distribution with the observed Models serving as possible means, and standard deviation is the observed sd\n",
    "#here the density, or probability of observing that point, for the observed average (ybar) is calculated for a normal distribution with each of the Model means.\n",
    "\n",
    "df_size\n"
   ]
  },
  {
   "cell_type": "markdown",
   "metadata": {},
   "source": [
    "Calculate the Posterior distribution"
   ]
  },
  {
   "cell_type": "code",
   "execution_count": 43,
   "metadata": {},
   "outputs": [
    {
     "data": {
      "text/html": [
       "<table>\n",
       "<thead><tr><th scope=col>Model</th><th scope=col>Prior</th><th scope=col>Likelihood</th><th scope=col>Product</th><th scope=col>Posterior</th></tr></thead>\n",
       "<tbody>\n",
       "\t<tr><td> 3      </td><td>0.067   </td><td>0.03231 </td><td>0.002165</td><td>0.03411 </td></tr>\n",
       "\t<tr><td> 4      </td><td>0.067   </td><td>0.04762 </td><td>0.003190</td><td>0.05027 </td></tr>\n",
       "\t<tr><td> 5      </td><td>0.067   </td><td>0.06514 </td><td>0.004364</td><td>0.06876 </td></tr>\n",
       "\t<tr><td> 6      </td><td>0.067   </td><td>0.08272 </td><td>0.005542</td><td>0.08732 </td></tr>\n",
       "\t<tr><td> 7      </td><td>0.067   </td><td>0.09752 </td><td>0.006534</td><td>0.10295 </td></tr>\n",
       "\t<tr><td> 8      </td><td>0.067   </td><td>0.10673 </td><td>0.007151</td><td>0.11267 </td></tr>\n",
       "\t<tr><td> 9      </td><td>0.067   </td><td>0.10845 </td><td>0.007266</td><td>0.11448 </td></tr>\n",
       "\t<tr><td>10      </td><td>0.067   </td><td>0.10229 </td><td>0.006854</td><td>0.10799 </td></tr>\n",
       "\t<tr><td>11      </td><td>0.067   </td><td>0.08958 </td><td>0.006002</td><td>0.09456 </td></tr>\n",
       "\t<tr><td>12      </td><td>0.067   </td><td>0.07282 </td><td>0.004879</td><td>0.07687 </td></tr>\n",
       "\t<tr><td>13      </td><td>0.067   </td><td>0.05496 </td><td>0.003682</td><td>0.05801 </td></tr>\n",
       "\t<tr><td>14      </td><td>0.067   </td><td>0.03850 </td><td>0.002580</td><td>0.04065 </td></tr>\n",
       "\t<tr><td>15      </td><td>0.067   </td><td>0.02504 </td><td>0.001678</td><td>0.02644 </td></tr>\n",
       "\t<tr><td>16      </td><td>0.067   </td><td>0.01512 </td><td>0.001013</td><td>0.01596 </td></tr>\n",
       "\t<tr><td>17      </td><td>0.067   </td><td>0.00848 </td><td>0.000568</td><td>0.00895 </td></tr>\n",
       "</tbody>\n",
       "</table>\n"
      ],
      "text/latex": [
       "\\begin{tabular}{r|lllll}\n",
       " Model & Prior & Likelihood & Product & Posterior\\\\\n",
       "\\hline\n",
       "\t  3       & 0.067    & 0.03231  & 0.002165 & 0.03411 \\\\\n",
       "\t  4       & 0.067    & 0.04762  & 0.003190 & 0.05027 \\\\\n",
       "\t  5       & 0.067    & 0.06514  & 0.004364 & 0.06876 \\\\\n",
       "\t  6       & 0.067    & 0.08272  & 0.005542 & 0.08732 \\\\\n",
       "\t  7       & 0.067    & 0.09752  & 0.006534 & 0.10295 \\\\\n",
       "\t  8       & 0.067    & 0.10673  & 0.007151 & 0.11267 \\\\\n",
       "\t  9       & 0.067    & 0.10845  & 0.007266 & 0.11448 \\\\\n",
       "\t 10       & 0.067    & 0.10229  & 0.006854 & 0.10799 \\\\\n",
       "\t 11       & 0.067    & 0.08958  & 0.006002 & 0.09456 \\\\\n",
       "\t 12       & 0.067    & 0.07282  & 0.004879 & 0.07687 \\\\\n",
       "\t 13       & 0.067    & 0.05496  & 0.003682 & 0.05801 \\\\\n",
       "\t 14       & 0.067    & 0.03850  & 0.002580 & 0.04065 \\\\\n",
       "\t 15       & 0.067    & 0.02504  & 0.001678 & 0.02644 \\\\\n",
       "\t 16       & 0.067    & 0.01512  & 0.001013 & 0.01596 \\\\\n",
       "\t 17       & 0.067    & 0.00848  & 0.000568 & 0.00895 \\\\\n",
       "\\end{tabular}\n"
      ],
      "text/markdown": [
       "\n",
       "Model | Prior | Likelihood | Product | Posterior | \n",
       "|---|---|---|---|---|---|---|---|---|---|---|---|---|---|---|\n",
       "|  3       | 0.067    | 0.03231  | 0.002165 | 0.03411  | \n",
       "|  4       | 0.067    | 0.04762  | 0.003190 | 0.05027  | \n",
       "|  5       | 0.067    | 0.06514  | 0.004364 | 0.06876  | \n",
       "|  6       | 0.067    | 0.08272  | 0.005542 | 0.08732  | \n",
       "|  7       | 0.067    | 0.09752  | 0.006534 | 0.10295  | \n",
       "|  8       | 0.067    | 0.10673  | 0.007151 | 0.11267  | \n",
       "|  9       | 0.067    | 0.10845  | 0.007266 | 0.11448  | \n",
       "| 10       | 0.067    | 0.10229  | 0.006854 | 0.10799  | \n",
       "| 11       | 0.067    | 0.08958  | 0.006002 | 0.09456  | \n",
       "| 12       | 0.067    | 0.07282  | 0.004879 | 0.07687  | \n",
       "| 13       | 0.067    | 0.05496  | 0.003682 | 0.05801  | \n",
       "| 14       | 0.067    | 0.03850  | 0.002580 | 0.04065  | \n",
       "| 15       | 0.067    | 0.02504  | 0.001678 | 0.02644  | \n",
       "| 16       | 0.067    | 0.01512  | 0.001013 | 0.01596  | \n",
       "| 17       | 0.067    | 0.00848  | 0.000568 | 0.00895  | \n",
       "\n",
       "\n"
      ],
      "text/plain": [
       "   Model Prior Likelihood Product  Posterior\n",
       "1   3    0.067 0.03231    0.002165 0.03411  \n",
       "2   4    0.067 0.04762    0.003190 0.05027  \n",
       "3   5    0.067 0.06514    0.004364 0.06876  \n",
       "4   6    0.067 0.08272    0.005542 0.08732  \n",
       "5   7    0.067 0.09752    0.006534 0.10295  \n",
       "6   8    0.067 0.10673    0.007151 0.11267  \n",
       "7   9    0.067 0.10845    0.007266 0.11448  \n",
       "8  10    0.067 0.10229    0.006854 0.10799  \n",
       "9  11    0.067 0.08958    0.006002 0.09456  \n",
       "10 12    0.067 0.07282    0.004879 0.07687  \n",
       "11 13    0.067 0.05496    0.003682 0.05801  \n",
       "12 14    0.067 0.03850    0.002580 0.04065  \n",
       "13 15    0.067 0.02504    0.001678 0.02644  \n",
       "14 16    0.067 0.01512    0.001013 0.01596  \n",
       "15 17    0.067 0.00848    0.000568 0.00895  "
      ]
     },
     "metadata": {},
     "output_type": "display_data"
    }
   ],
   "source": [
    "df_size$Product = df_size$Prior* df_size$Likelihood\n",
    "df_size$Posterior=df_size$Product/sum(df_size$Product)\n",
    "df_size"
   ]
  },
  {
   "cell_type": "markdown",
   "metadata": {},
   "source": [
    "A good check is that the sum of the Posterior probabilities = 1."
   ]
  },
  {
   "cell_type": "code",
   "execution_count": 45,
   "metadata": {},
   "outputs": [
    {
     "data": {
      "text/html": [
       "1"
      ],
      "text/latex": [
       "1"
      ],
      "text/markdown": [
       "1"
      ],
      "text/plain": [
       "[1] 1"
      ]
     },
     "metadata": {},
     "output_type": "display_data"
    }
   ],
   "source": [
    "sum(df_size$Posterior)"
   ]
  },
  {
   "cell_type": "markdown",
   "metadata": {},
   "source": [
    "Good, the sum of the posterior probabilities = 1, as expected."
   ]
  },
  {
   "cell_type": "markdown",
   "metadata": {},
   "source": [
    "Let's take a look at the probability density plot to see how likely crowd sizes are:"
   ]
  },
  {
   "cell_type": "code",
   "execution_count": 44,
   "metadata": {},
   "outputs": [
    {
     "data": {},
     "metadata": {},
     "output_type": "display_data"
    },
    {
     "data": {
      "image/png": "[encoded data removed]",
      "text/plain": [
       "plot without title"
      ]
     },
     "metadata": {},
     "output_type": "display_data"
    }
   ],
   "source": [
    "options(repr.plot.width=4.5, repr.plot.height=4.5)\n",
    "library(reshape)\n",
    "library(ggplot2)\n",
    "\n",
    "df.long=melt(df_size, id=\"Model\")\n",
    "\n",
    "plt.std=plt.std=theme(legend.position=\"top\", legend.text = element_text(size=12), axis.text.x = element_text(size=12),  axis.text.y = element_text(size=12), axis.title.y = element_text(size=14), strip.text.x = element_text(size=16), panel.background = element_rect(fill='white', colour='black'), legend.key = element_blank())\n",
    "color1=c(\"royalblue2\", \"red2\")\n",
    "ggplot(data=subset(df.long, variable%in% c(\"Prior\", \"Posterior\")), aes(x=as.factor(Model), y=value, fill=variable))+geom_bar(stat=\"identity\", position=\"dodge\")+ylab(\"Probability\")+scale_fill_manual(values=color1, name=\"\")+xlab(\"Models of crowd size\")+ggtitle(\"Probabilities of crowd size\")+plt.std"
   ]
  },
  {
   "cell_type": "markdown",
   "metadata": {},
   "source": [
    "This suggests that we would expect the average crowd size to be around 9 million people. This gives us a much better idea of people to expect than our initial niave assumption that all crowd sizes were equally likely (Priors in blue). However, we're still not confident in this approximation.\n",
    "\n",
    "Since you have worked for the City of Austin for a few years, you have some knowledge around these concerts and what to expect. For instance, the concerts with 3 and 4 million people in attendance were right after hurricanes, and the concert with 17 million people was a big name (hey Queen Bey!), so you know these scenarios are 100% unlikely for our future concert. We also know that getting 10 and 11 million people are twice as likely as the other scenarios. Our new updated Priors are:"
   ]
  },
  {
   "cell_type": "code",
   "execution_count": null,
   "metadata": {},
   "outputs": [],
   "source": [
    "Prior2=c(0,0,1/14, 1/14, 1/14, 1/14, 1/14, 2/14, 2/4, 1/14, 1/14, 1/14, 1/14, 1/14 ,0)\n",
    "df_size2=data.frame(Model, Prior2)\n",
    "df_size2"
   ]
  },
  {
   "cell_type": "code",
   "execution_count": null,
   "metadata": {},
   "outputs": [],
   "source": [
    "Doing the same steps as above, we can calculate our new Posterior distribution based on these updated Priors:"
   ]
  },
  {
   "cell_type": "code",
   "execution_count": null,
   "metadata": {},
   "outputs": [],
   "source": [
    "df_size2$Likelihood=dnorm(ybar, mean=Model, sd=sd_size)\n",
    "df_size2$Product2 = df_size2$Prior2* df_size2$Likelihood\n",
    "df_size2$Posterior2=df_size2$Product2/sum(df_size2$Product2)\n",
    "df_size2"
   ]
  },
  {
   "cell_type": "code",
   "execution_count": 39,
   "metadata": {},
   "outputs": [
    {
     "data": {},
     "metadata": {},
     "output_type": "display_data"
    },
    {
     "data": {
      "image/png": "[encoded data removed]",
      "text/plain": [
       "plot without title"
      ]
     },
     "metadata": {},
     "output_type": "display_data"
    }
   ],
   "source": [
    "df.long2=melt(df_size2, id=\"Model\")\n",
    "ggplot(data=subset(df.long2, variable%in% c(\"Prior2\", \"Posterior2\")), aes(x=as.factor(Model), y=value, fill=variable))+geom_bar(stat=\"identity\", position=\"dodge\")+ylab(\"Probability\")+scale_fill_manual(values=color1, name=\"\")+xlab(\"Models of crowd size\")+ggtitle(\"Probabilities of crowd size with updated Prior\")+plt.std"
   ]
  },
  {
   "cell_type": "markdown",
   "metadata": {},
   "source": [
    "Now we see that we expect the crowd size to be around 11 million people."
   ]
  },
  {
   "cell_type": "markdown",
   "metadata": {},
   "source": [
    "This is the general procedure for Bayes' inference problems. We used a simplified scenario above, but we'll explore a more robust example with continuous variables below.\n",
    "\n",
    "Using the same general idea, we'll construct our Posterior distribution based on the Prior distribution. If these two distributions are in the same family they are called $conjugates$. For the normal distribution this means that if the Prior distribution is normal, so is the Posterior! This helps simplify our ability to calculate the Posterior, as the Posterior depends on the Likelihood x Prior. "
   ]
  }
 ],
 "metadata": {
  "kernelspec": {
   "display_name": "R",
   "language": "R",
   "name": "ir"
  },
  "language_info": {
   "codemirror_mode": "r",
   "file_extension": ".r",
   "mimetype": "text/x-r-source",
   "name": "R",
   "pygments_lexer": "r",
   "version": "3.4.3"
  }
 },
 "nbformat": 4,
 "nbformat_minor": 2
}
