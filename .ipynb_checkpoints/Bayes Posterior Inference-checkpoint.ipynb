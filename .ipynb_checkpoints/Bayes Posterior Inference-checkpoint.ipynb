{
 "cells": [
  {
   "cell_type": "markdown",
   "metadata": {},
   "source": [
    "### In many real world applications, we don't know the probability of events, but we would like to estimate this unknown probability based on our hypothesis and collected evidence. Seems rational, right? \n",
    "\n",
    "#### This is the basis for Bayes' Rule, where we:\n",
    "1. Identify possible models and construct prior probabilities (based on our knowledge or beliefs)\n",
    "2. Collect data and create liklihoods, or the chance of getting this data given each model \n",
    "3. Use Bayes' rule to find posterior probabilities and update our knowledge so we can determine which model is likely to be correct\n"
   ]
  },
  {
   "cell_type": "markdown",
   "metadata": {},
   "source": [
    "Let's work through an example and describe some of the particulars as we go.\n",
    "Say you're the city manager of Austin planning a free concert. Woah big city! And a heck of a music scene! This seems like a big task, and you want to know about how many people will come so you can plan ahead and order the right amount of food. You don't need an exact headcount because ordering is done in bulk. So you would like to know the approximate proportion of the city that will show up in 10% groups (10%, 20%, 30%, etc). Because you've been the city manager for a few years, you have some prior knowledge of these concerts and believe at least 20% of the town will show up, but not more than 90%. You also believe the 60% and 70% groups are 2X as likely as the others. What is the estimated proportion of the city that will show up? \n",
    "\n",
    "You're pretty savvy, and send out an email asking if people will attend the concert. You send it out to 150 people and 70 respond 'yes' and 80 respond 'no'. You know this proportion of attendance (70/150 = 0.46) is not the real estimate because surveys are not always accurate and people do change their minds. So, you want to employ some statistics to help you estimate the most likely proportion of people that will come.\n",
    "\n",
    "Let's define this problem in Bayes terms.\n",
    "\n",
    "#### 1. Identify possible models and construct prior probabilities\n",
    "\n",
    "The models are the proportion of the town that will show up. We want to estimate the probability that each 'model' is true so we can determine the most likely scenario. The models are: p=0.3, p=0.4, p=0.5, p=0.6, p=0.6, p=0.8 and p=0.9\n",
    "Prior probabilities are based on what we know about concert attendance. In this case, we have 7 models (p=0.3 ... p=0.9), if the probability of each model being true were equal the 'prior probabilities' would = 1/7. However, we know that p=0.6 and p=0.7 are 2X as likely. The sum of prior probabilities must sum to 1. Therefore the model and priors are:\n"
   ]
  },
  {
   "cell_type": "code",
   "execution_count": 83,
   "metadata": {},
   "outputs": [
    {
     "name": "stderr",
     "output_type": "stream",
     "text": [
      "Installing packages into 'C:/Users/nrb75/Documents/R/win-library/3.4'\n",
      "(as 'lib' is unspecified)\n"
     ]
    },
    {
     "name": "stdout",
     "output_type": "stream",
     "text": [
      "\n",
      "  There is a binary version available but the source version is later:\n",
      "     binary source needs_compilation\n",
      "repr   0.13 0.15.0             FALSE\n",
      "\n"
     ]
    },
    {
     "name": "stderr",
     "output_type": "stream",
     "text": [
      "Warning message:\n",
      "\"packages 'ggplot2', 'reshape' are in use and will not be installed\""
     ]
    },
    {
     "name": "stdout",
     "output_type": "stream",
     "text": [
      "package 'dplyr' successfully unpacked and MD5 sums checked\n",
      "package 'sciplot' successfully unpacked and MD5 sums checked\n",
      "package 'VennDiagram' successfully unpacked and MD5 sums checked\n",
      "\n",
      "The downloaded binary packages are in\n",
      "\tC:\\Users\\nrb75\\AppData\\Local\\Temp\\RtmpIDj2Fg\\downloaded_packages\n"
     ]
    },
    {
     "name": "stderr",
     "output_type": "stream",
     "text": [
      "installing the source package 'repr'\n",
      "\n"
     ]
    },
    {
     "data": {
      "text/html": [
       "<table>\n",
       "<thead><tr><th></th><th scope=col>Models</th><th scope=col>Priors</th></tr></thead>\n",
       "<tbody>\n",
       "\t<tr><th scope=row>p=0.3</th><td>0.3 </td><td>0.11</td></tr>\n",
       "\t<tr><th scope=row>p=0.4</th><td>0.4 </td><td>0.11</td></tr>\n",
       "\t<tr><th scope=row>p=0.5</th><td>0.5 </td><td>0.11</td></tr>\n",
       "\t<tr><th scope=row>p=0.6</th><td>0.6 </td><td>0.22</td></tr>\n",
       "\t<tr><th scope=row>p=0.7</th><td>0.7 </td><td>0.22</td></tr>\n",
       "\t<tr><th scope=row>p=0.8</th><td>0.8 </td><td>0.11</td></tr>\n",
       "\t<tr><th scope=row>p=0.9</th><td>0.9 </td><td>0.11</td></tr>\n",
       "</tbody>\n",
       "</table>\n"
      ],
      "text/latex": [
       "\\begin{tabular}{r|ll}\n",
       "  & Models & Priors\\\\\n",
       "\\hline\n",
       "\tp=0.3 & 0.3  & 0.11\\\\\n",
       "\tp=0.4 & 0.4  & 0.11\\\\\n",
       "\tp=0.5 & 0.5  & 0.11\\\\\n",
       "\tp=0.6 & 0.6  & 0.22\\\\\n",
       "\tp=0.7 & 0.7  & 0.22\\\\\n",
       "\tp=0.8 & 0.8  & 0.11\\\\\n",
       "\tp=0.9 & 0.9  & 0.11\\\\\n",
       "\\end{tabular}\n"
      ],
      "text/markdown": [
       "\n",
       "| <!--/--> | Models | Priors | \n",
       "|---|---|---|---|---|---|---|\n",
       "| p=0.3 | 0.3  | 0.11 | \n",
       "| p=0.4 | 0.4  | 0.11 | \n",
       "| p=0.5 | 0.5  | 0.11 | \n",
       "| p=0.6 | 0.6  | 0.22 | \n",
       "| p=0.7 | 0.7  | 0.22 | \n",
       "| p=0.8 | 0.8  | 0.11 | \n",
       "| p=0.9 | 0.9  | 0.11 | \n",
       "\n",
       "\n"
      ],
      "text/plain": [
       "      Models Priors\n",
       "p=0.3 0.3    0.11  \n",
       "p=0.4 0.4    0.11  \n",
       "p=0.5 0.5    0.11  \n",
       "p=0.6 0.6    0.22  \n",
       "p=0.7 0.7    0.22  \n",
       "p=0.8 0.8    0.11  \n",
       "p=0.9 0.9    0.11  "
      ]
     },
     "metadata": {},
     "output_type": "display_data"
    }
   ],
   "source": [
    "options(repos = c('https://cloud.r-project.org/'))\n",
    "install.packages(c(\"ggplot2\", \"dplyr\", \"sciplot\", \"repr\", \"VennDiagram\", \"reshape\"))\n",
    "\n",
    "Models=c(0.3, 0.4, 0.5, 0.6, 0.7, 0.8, 0.9)\n",
    "Priors=round(c(1/9, 1/9, 1/9, 2/9, 2/9, 1/9, 1/9),2)\n",
    "\n",
    "df=data.frame(Models, Priors)\n",
    "rownames(df)=c(\"p=0.3\", \"p=0.4\", \"p=0.5\", \"p=0.6\", \"p=0.7\", \"p=0.8\", \"p=0.9\")\n",
    "df"
   ]
  },
  {
   "cell_type": "markdown",
   "metadata": {},
   "source": [
    "#### 2. Collect Data and create liklihoods\n",
    "\n",
    "A liklihood is the probability of observing your result ${given}$ the model is true. In this scenario, the observed result is that from the survey. This is a binomial function where Success is defined as 'yes' I will attend the concert. Success=123, size = 200, and binomial probability of succes = models. Now we simply calculate the liklihood of observing the survey results, ${given}$ the model is true.\n",
    "\n",
    "For example, the liklihood that p=0.3:"
   ]
  },
  {
   "cell_type": "code",
   "execution_count": 93,
   "metadata": {},
   "outputs": [
    {
     "data": {
      "text/html": [
       "6.76225718888869e-06"
      ],
      "text/latex": [
       "6.76225718888869e-06"
      ],
      "text/markdown": [
       "6.76225718888869e-06"
      ],
      "text/plain": [
       "[1] 6.762257e-06"
      ]
     },
     "metadata": {},
     "output_type": "display_data"
    }
   ],
   "source": [
    "dbinom(70, size=150, prob=0.3)"
   ]
  },
  {
   "cell_type": "markdown",
   "metadata": {},
   "source": [
    "This is a very low value! and it suggests the liklihood of observing this survey result, ${given}$ the actual probability of attendance is 0.3 is very low.\n",
    "\n",
    "Calculating the liklihood for the remaining models:"
   ]
  },
  {
   "cell_type": "code",
   "execution_count": 94,
   "metadata": {},
   "outputs": [
    {
     "data": {
      "text/html": [
       "<table>\n",
       "<thead><tr><th></th><th scope=col>Models</th><th scope=col>Priors</th><th scope=col>Liklihood</th><th scope=col>Product</th><th scope=col>Posterior</th></tr></thead>\n",
       "<tbody>\n",
       "\t<tr><th scope=row>p=0.3</th><td>0.3         </td><td>0.11        </td><td>6.762257e-06</td><td>1.281119e-14</td><td>1.900632e-12</td></tr>\n",
       "\t<tr><th scope=row>p=0.4</th><td>0.4         </td><td>0.11        </td><td>1.659816e-02</td><td>6.693287e-07</td><td>9.929969e-05</td></tr>\n",
       "\t<tr><th scope=row>p=0.5</th><td>0.5         </td><td>0.11        </td><td>4.669402e-02</td><td>2.287856e-03</td><td>3.394198e-01</td></tr>\n",
       "\t<tr><th scope=row>p=0.6</th><td>0.6         </td><td>0.22        </td><td>2.878376e-04</td><td>4.451380e-03</td><td>6.603939e-01</td></tr>\n",
       "\t<tr><th scope=row>p=0.7</th><td>0.7         </td><td>0.22        </td><td>1.413591e-09</td><td>5.863477e-07</td><td>8.698886e-05</td></tr>\n",
       "\t<tr><th scope=row>p=0.8</th><td>0.8         </td><td>0.11        </td><td>1.325743e-19</td><td>9.954652e-17</td><td>1.476844e-14</td></tr>\n",
       "\t<tr><th scope=row>p=0.9</th><td>0.9         </td><td>0.11        </td><td>4.175768e-40</td><td>3.404897e-38</td><td>5.051407e-36</td></tr>\n",
       "</tbody>\n",
       "</table>\n"
      ],
      "text/latex": [
       "\\begin{tabular}{r|lllll}\n",
       "  & Models & Priors & Liklihood & Product & Posterior\\\\\n",
       "\\hline\n",
       "\tp=0.3 & 0.3          & 0.11         & 6.762257e-06 & 1.281119e-14 & 1.900632e-12\\\\\n",
       "\tp=0.4 & 0.4          & 0.11         & 1.659816e-02 & 6.693287e-07 & 9.929969e-05\\\\\n",
       "\tp=0.5 & 0.5          & 0.11         & 4.669402e-02 & 2.287856e-03 & 3.394198e-01\\\\\n",
       "\tp=0.6 & 0.6          & 0.22         & 2.878376e-04 & 4.451380e-03 & 6.603939e-01\\\\\n",
       "\tp=0.7 & 0.7          & 0.22         & 1.413591e-09 & 5.863477e-07 & 8.698886e-05\\\\\n",
       "\tp=0.8 & 0.8          & 0.11         & 1.325743e-19 & 9.954652e-17 & 1.476844e-14\\\\\n",
       "\tp=0.9 & 0.9          & 0.11         & 4.175768e-40 & 3.404897e-38 & 5.051407e-36\\\\\n",
       "\\end{tabular}\n"
      ],
      "text/markdown": [
       "\n",
       "| <!--/--> | Models | Priors | Liklihood | Product | Posterior | \n",
       "|---|---|---|---|---|---|---|\n",
       "| p=0.3 | 0.3          | 0.11         | 6.762257e-06 | 1.281119e-14 | 1.900632e-12 | \n",
       "| p=0.4 | 0.4          | 0.11         | 1.659816e-02 | 6.693287e-07 | 9.929969e-05 | \n",
       "| p=0.5 | 0.5          | 0.11         | 4.669402e-02 | 2.287856e-03 | 3.394198e-01 | \n",
       "| p=0.6 | 0.6          | 0.22         | 2.878376e-04 | 4.451380e-03 | 6.603939e-01 | \n",
       "| p=0.7 | 0.7          | 0.22         | 1.413591e-09 | 5.863477e-07 | 8.698886e-05 | \n",
       "| p=0.8 | 0.8          | 0.11         | 1.325743e-19 | 9.954652e-17 | 1.476844e-14 | \n",
       "| p=0.9 | 0.9          | 0.11         | 4.175768e-40 | 3.404897e-38 | 5.051407e-36 | \n",
       "\n",
       "\n"
      ],
      "text/plain": [
       "      Models Priors Liklihood    Product      Posterior   \n",
       "p=0.3 0.3    0.11   6.762257e-06 1.281119e-14 1.900632e-12\n",
       "p=0.4 0.4    0.11   1.659816e-02 6.693287e-07 9.929969e-05\n",
       "p=0.5 0.5    0.11   4.669402e-02 2.287856e-03 3.394198e-01\n",
       "p=0.6 0.6    0.22   2.878376e-04 4.451380e-03 6.603939e-01\n",
       "p=0.7 0.7    0.22   1.413591e-09 5.863477e-07 8.698886e-05\n",
       "p=0.8 0.8    0.11   1.325743e-19 9.954652e-17 1.476844e-14\n",
       "p=0.9 0.9    0.11   4.175768e-40 3.404897e-38 5.051407e-36"
      ]
     },
     "metadata": {},
     "output_type": "display_data"
    }
   ],
   "source": [
    "df$Liklihood=dbinom(70, size=150, prob=Models)\n",
    "df\n"
   ]
  },
  {
   "cell_type": "markdown",
   "metadata": {},
   "source": [
    "#### 3. Now we want to update our prior probabilities with a posterior probability, which depends on our priors and the observed data.\n",
    "\n",
    "$Posterior\\ probability =\\frac{Prior\\ x\\ Liklihood} {\\sum(Prior\\ x\\ Liklihood)}$\n"
   ]
  },
  {
   "cell_type": "code",
   "execution_count": 95,
   "metadata": {},
   "outputs": [
    {
     "data": {
      "text/html": [
       "<table>\n",
       "<thead><tr><th></th><th scope=col>Models</th><th scope=col>Priors</th><th scope=col>Liklihood</th><th scope=col>Product</th><th scope=col>Posterior</th></tr></thead>\n",
       "<tbody>\n",
       "\t<tr><th scope=row>p=0.3</th><td>0.3         </td><td>0.11        </td><td>6.762257e-06</td><td>7.438483e-07</td><td>1.058677e-04</td></tr>\n",
       "\t<tr><th scope=row>p=0.4</th><td>0.4         </td><td>0.11        </td><td>1.659816e-02</td><td>1.825798e-03</td><td>2.598554e-01</td></tr>\n",
       "\t<tr><th scope=row>p=0.5</th><td>0.5         </td><td>0.11        </td><td>4.669402e-02</td><td>5.136343e-03</td><td>7.310261e-01</td></tr>\n",
       "\t<tr><th scope=row>p=0.6</th><td>0.6         </td><td>0.22        </td><td>2.878376e-04</td><td>6.332427e-05</td><td>9.012579e-03</td></tr>\n",
       "\t<tr><th scope=row>p=0.7</th><td>0.7         </td><td>0.22        </td><td>1.413591e-09</td><td>3.109901e-10</td><td>4.426143e-08</td></tr>\n",
       "\t<tr><th scope=row>p=0.8</th><td>0.8         </td><td>0.11        </td><td>1.325743e-19</td><td>1.458317e-20</td><td>2.075539e-18</td></tr>\n",
       "\t<tr><th scope=row>p=0.9</th><td>0.9         </td><td>0.11        </td><td>4.175768e-40</td><td>4.593344e-41</td><td>6.537443e-39</td></tr>\n",
       "</tbody>\n",
       "</table>\n"
      ],
      "text/latex": [
       "\\begin{tabular}{r|lllll}\n",
       "  & Models & Priors & Liklihood & Product & Posterior\\\\\n",
       "\\hline\n",
       "\tp=0.3 & 0.3          & 0.11         & 6.762257e-06 & 7.438483e-07 & 1.058677e-04\\\\\n",
       "\tp=0.4 & 0.4          & 0.11         & 1.659816e-02 & 1.825798e-03 & 2.598554e-01\\\\\n",
       "\tp=0.5 & 0.5          & 0.11         & 4.669402e-02 & 5.136343e-03 & 7.310261e-01\\\\\n",
       "\tp=0.6 & 0.6          & 0.22         & 2.878376e-04 & 6.332427e-05 & 9.012579e-03\\\\\n",
       "\tp=0.7 & 0.7          & 0.22         & 1.413591e-09 & 3.109901e-10 & 4.426143e-08\\\\\n",
       "\tp=0.8 & 0.8          & 0.11         & 1.325743e-19 & 1.458317e-20 & 2.075539e-18\\\\\n",
       "\tp=0.9 & 0.9          & 0.11         & 4.175768e-40 & 4.593344e-41 & 6.537443e-39\\\\\n",
       "\\end{tabular}\n"
      ],
      "text/markdown": [
       "\n",
       "| <!--/--> | Models | Priors | Liklihood | Product | Posterior | \n",
       "|---|---|---|---|---|---|---|\n",
       "| p=0.3 | 0.3          | 0.11         | 6.762257e-06 | 7.438483e-07 | 1.058677e-04 | \n",
       "| p=0.4 | 0.4          | 0.11         | 1.659816e-02 | 1.825798e-03 | 2.598554e-01 | \n",
       "| p=0.5 | 0.5          | 0.11         | 4.669402e-02 | 5.136343e-03 | 7.310261e-01 | \n",
       "| p=0.6 | 0.6          | 0.22         | 2.878376e-04 | 6.332427e-05 | 9.012579e-03 | \n",
       "| p=0.7 | 0.7          | 0.22         | 1.413591e-09 | 3.109901e-10 | 4.426143e-08 | \n",
       "| p=0.8 | 0.8          | 0.11         | 1.325743e-19 | 1.458317e-20 | 2.075539e-18 | \n",
       "| p=0.9 | 0.9          | 0.11         | 4.175768e-40 | 4.593344e-41 | 6.537443e-39 | \n",
       "\n",
       "\n"
      ],
      "text/plain": [
       "      Models Priors Liklihood    Product      Posterior   \n",
       "p=0.3 0.3    0.11   6.762257e-06 7.438483e-07 1.058677e-04\n",
       "p=0.4 0.4    0.11   1.659816e-02 1.825798e-03 2.598554e-01\n",
       "p=0.5 0.5    0.11   4.669402e-02 5.136343e-03 7.310261e-01\n",
       "p=0.6 0.6    0.22   2.878376e-04 6.332427e-05 9.012579e-03\n",
       "p=0.7 0.7    0.22   1.413591e-09 3.109901e-10 4.426143e-08\n",
       "p=0.8 0.8    0.11   1.325743e-19 1.458317e-20 2.075539e-18\n",
       "p=0.9 0.9    0.11   4.175768e-40 4.593344e-41 6.537443e-39"
      ]
     },
     "metadata": {},
     "output_type": "display_data"
    }
   ],
   "source": [
    "df$Product = df$Priors*df$Liklihood\n",
    "df$Posterior=df$Product/sum(df$Product)\n",
    "df"
   ]
  },
  {
   "cell_type": "markdown",
   "metadata": {},
   "source": [
    "A good check is that the sum of the Posterior probabilities = 1."
   ]
  },
  {
   "cell_type": "code",
   "execution_count": 96,
   "metadata": {},
   "outputs": [
    {
     "data": {
      "text/html": [
       "1"
      ],
      "text/latex": [
       "1"
      ],
      "text/markdown": [
       "1"
      ],
      "text/plain": [
       "[1] 1"
      ]
     },
     "metadata": {},
     "output_type": "display_data"
    }
   ],
   "source": [
    "sum(df$Posterior)"
   ]
  },
  {
   "cell_type": "code",
   "execution_count": null,
   "metadata": {},
   "outputs": [],
   "source": [
    "Good, the Posterior probabilities sum to 1. Now how are these Posterior Probabilities different than our Priors?"
   ]
  },
  {
   "cell_type": "code",
   "execution_count": 97,
   "metadata": {},
   "outputs": [
    {
     "data": {},
     "metadata": {},
     "output_type": "display_data"
    },
    {
     "data": {
      "image/png": "[encoded data removed]",
      "text/plain": [
       "plot without title"
      ]
     },
     "metadata": {},
     "output_type": "display_data"
    }
   ],
   "source": [
    "options(repr.plot.width=4.5, repr.plot.height=4.5)\n",
    "library(reshape)\n",
    "df.long=melt(df, id=\"Models\")\n",
    "\n",
    "plt.std=plt.std=theme(legend.position=\"top\", legend.text = element_text(size=12), axis.text.x = element_text(size=12),  axis.text.y = element_text(size=12), axis.title.y = element_text(size=14), strip.text.x = element_text(size=16), panel.background = element_rect(fill='white', colour='black'), legend.key = element_blank())\n",
    "color1=c(\"royalblue2\", \"red2\")\n",
    "ggplot(data=subset(df.long, variable%in% c(\"Priors\", \"Posterior\")), aes(x=as.factor(Models), y=value, fill=variable))+geom_bar(stat=\"identity\", position=\"dodge\")+plt.std+ylab(\"Probability\")+scale_fill_manual(values=color1, name=\"\")+xlab(\"Models\")+ggtitle(\"Probabilities after 1st Survey\")"
   ]
  },
  {
   "cell_type": "markdown",
   "metadata": {},
   "source": [
    "Origninally, the prior probabilities are more equally distributed across our models. But, with our beliefs and the survey data we see that it is far more likely the survey results came from a model where the proportion of town attandance is 0.5. \n",
    "\n",
    "This updates our probabilities and we would suggest the town manager order enough food for roughly 50% of Austin. $\\textbf{Now she is more confident that the attendance will be near 50%, when earlier she thought it was more likely that the attendance could be 60% or 70%.}$ She is now able to save money and not waste food. What a good reason to employ Bayes' Theorem!\n",
    "\n"
   ]
  },
  {
   "cell_type": "markdown",
   "metadata": {},
   "source": [
    "We're happy with these results, but suppose we wanted to send another survey closer to the concert date to give us a better estimate of the attendance. We would simply take the \"Posteriors\" from the results above and use them as our \"Priors\" in the calculations. \n",
    "\n"
   ]
  },
  {
   "cell_type": "code",
   "execution_count": 98,
   "metadata": {},
   "outputs": [
    {
     "data": {
      "text/html": [
       "<table>\n",
       "<thead><tr><th></th><th scope=col>Models</th><th scope=col>Priors2</th></tr></thead>\n",
       "<tbody>\n",
       "\t<tr><th scope=row>p=0.3</th><td>0.3         </td><td>1.058677e-04</td></tr>\n",
       "\t<tr><th scope=row>p=0.4</th><td>0.4         </td><td>2.598554e-01</td></tr>\n",
       "\t<tr><th scope=row>p=0.5</th><td>0.5         </td><td>7.310261e-01</td></tr>\n",
       "\t<tr><th scope=row>p=0.6</th><td>0.6         </td><td>9.012579e-03</td></tr>\n",
       "\t<tr><th scope=row>p=0.7</th><td>0.7         </td><td>4.426143e-08</td></tr>\n",
       "\t<tr><th scope=row>p=0.8</th><td>0.8         </td><td>2.075539e-18</td></tr>\n",
       "\t<tr><th scope=row>p=0.9</th><td>0.9         </td><td>6.537443e-39</td></tr>\n",
       "</tbody>\n",
       "</table>\n"
      ],
      "text/latex": [
       "\\begin{tabular}{r|ll}\n",
       "  & Models & Priors2\\\\\n",
       "\\hline\n",
       "\tp=0.3 & 0.3          & 1.058677e-04\\\\\n",
       "\tp=0.4 & 0.4          & 2.598554e-01\\\\\n",
       "\tp=0.5 & 0.5          & 7.310261e-01\\\\\n",
       "\tp=0.6 & 0.6          & 9.012579e-03\\\\\n",
       "\tp=0.7 & 0.7          & 4.426143e-08\\\\\n",
       "\tp=0.8 & 0.8          & 2.075539e-18\\\\\n",
       "\tp=0.9 & 0.9          & 6.537443e-39\\\\\n",
       "\\end{tabular}\n"
      ],
      "text/markdown": [
       "\n",
       "| <!--/--> | Models | Priors2 | \n",
       "|---|---|---|---|---|---|---|\n",
       "| p=0.3 | 0.3          | 1.058677e-04 | \n",
       "| p=0.4 | 0.4          | 2.598554e-01 | \n",
       "| p=0.5 | 0.5          | 7.310261e-01 | \n",
       "| p=0.6 | 0.6          | 9.012579e-03 | \n",
       "| p=0.7 | 0.7          | 4.426143e-08 | \n",
       "| p=0.8 | 0.8          | 2.075539e-18 | \n",
       "| p=0.9 | 0.9          | 6.537443e-39 | \n",
       "\n",
       "\n"
      ],
      "text/plain": [
       "      Models Priors2     \n",
       "p=0.3 0.3    1.058677e-04\n",
       "p=0.4 0.4    2.598554e-01\n",
       "p=0.5 0.5    7.310261e-01\n",
       "p=0.6 0.6    9.012579e-03\n",
       "p=0.7 0.7    4.426143e-08\n",
       "p=0.8 0.8    2.075539e-18\n",
       "p=0.9 0.9    6.537443e-39"
      ]
     },
     "metadata": {},
     "output_type": "display_data"
    }
   ],
   "source": [
    "df2=df[c(\"Models\", \"Posterior\")]\n",
    "colnames(df2)[2]=\"Priors2\"\n",
    "df2"
   ]
  },
  {
   "cell_type": "markdown",
   "metadata": {},
   "source": [
    "We calculate the Liklihoods next based on the new survey results.\n",
    "Our new survey was sent to 100 people and 55 responded 'yes'. We calculate a new Liklihood for each model:"
   ]
  },
  {
   "cell_type": "code",
   "execution_count": 102,
   "metadata": {},
   "outputs": [
    {
     "data": {
      "text/html": [
       "<table>\n",
       "<thead><tr><th></th><th scope=col>Models</th><th scope=col>Priors2</th><th scope=col>Liklihood2</th><th scope=col>Product2</th><th scope=col>Posterior2</th></tr></thead>\n",
       "<tbody>\n",
       "\t<tr><th scope=row>p=0.3</th><td>0.3         </td><td>1.058677e-04</td><td>4.273205e-13</td><td>1.214382e-11</td><td>3.365585e-10</td></tr>\n",
       "\t<tr><th scope=row>p=0.4</th><td>0.4         </td><td>2.598554e-01</td><td>2.562323e-07</td><td>2.154510e-04</td><td>5.971095e-03</td></tr>\n",
       "\t<tr><th scope=row>p=0.5</th><td>0.5         </td><td>7.310261e-01</td><td>8.638557e-04</td><td>3.543598e-02</td><td>9.820867e-01</td></tr>\n",
       "\t<tr><th scope=row>p=0.6</th><td>0.6         </td><td>9.012579e-03</td><td>4.913282e-02</td><td>4.309020e-04</td><td>1.194219e-02</td></tr>\n",
       "\t<tr><th scope=row>p=0.7</th><td>0.7         </td><td>4.426143e-08</td><td>4.677968e-02</td><td>2.428763e-11</td><td>6.731170e-10</td></tr>\n",
       "\t<tr><th scope=row>p=0.8</th><td>0.8         </td><td>2.075539e-18</td><td>1.889469e-04</td><td>2.098656e-26</td><td>5.816297e-25</td></tr>\n",
       "\t<tr><th scope=row>p=0.9</th><td>0.9         </td><td>6.537443e-39</td><td>1.161994e-11</td><td>1.222523e-57</td><td>3.388148e-56</td></tr>\n",
       "</tbody>\n",
       "</table>\n"
      ],
      "text/latex": [
       "\\begin{tabular}{r|lllll}\n",
       "  & Models & Priors2 & Liklihood2 & Product2 & Posterior2\\\\\n",
       "\\hline\n",
       "\tp=0.3 & 0.3          & 1.058677e-04 & 4.273205e-13 & 1.214382e-11 & 3.365585e-10\\\\\n",
       "\tp=0.4 & 0.4          & 2.598554e-01 & 2.562323e-07 & 2.154510e-04 & 5.971095e-03\\\\\n",
       "\tp=0.5 & 0.5          & 7.310261e-01 & 8.638557e-04 & 3.543598e-02 & 9.820867e-01\\\\\n",
       "\tp=0.6 & 0.6          & 9.012579e-03 & 4.913282e-02 & 4.309020e-04 & 1.194219e-02\\\\\n",
       "\tp=0.7 & 0.7          & 4.426143e-08 & 4.677968e-02 & 2.428763e-11 & 6.731170e-10\\\\\n",
       "\tp=0.8 & 0.8          & 2.075539e-18 & 1.889469e-04 & 2.098656e-26 & 5.816297e-25\\\\\n",
       "\tp=0.9 & 0.9          & 6.537443e-39 & 1.161994e-11 & 1.222523e-57 & 3.388148e-56\\\\\n",
       "\\end{tabular}\n"
      ],
      "text/markdown": [
       "\n",
       "| <!--/--> | Models | Priors2 | Liklihood2 | Product2 | Posterior2 | \n",
       "|---|---|---|---|---|---|---|\n",
       "| p=0.3 | 0.3          | 1.058677e-04 | 4.273205e-13 | 1.214382e-11 | 3.365585e-10 | \n",
       "| p=0.4 | 0.4          | 2.598554e-01 | 2.562323e-07 | 2.154510e-04 | 5.971095e-03 | \n",
       "| p=0.5 | 0.5          | 7.310261e-01 | 8.638557e-04 | 3.543598e-02 | 9.820867e-01 | \n",
       "| p=0.6 | 0.6          | 9.012579e-03 | 4.913282e-02 | 4.309020e-04 | 1.194219e-02 | \n",
       "| p=0.7 | 0.7          | 4.426143e-08 | 4.677968e-02 | 2.428763e-11 | 6.731170e-10 | \n",
       "| p=0.8 | 0.8          | 2.075539e-18 | 1.889469e-04 | 2.098656e-26 | 5.816297e-25 | \n",
       "| p=0.9 | 0.9          | 6.537443e-39 | 1.161994e-11 | 1.222523e-57 | 3.388148e-56 | \n",
       "\n",
       "\n"
      ],
      "text/plain": [
       "      Models Priors2      Liklihood2   Product2     Posterior2  \n",
       "p=0.3 0.3    1.058677e-04 4.273205e-13 1.214382e-11 3.365585e-10\n",
       "p=0.4 0.4    2.598554e-01 2.562323e-07 2.154510e-04 5.971095e-03\n",
       "p=0.5 0.5    7.310261e-01 8.638557e-04 3.543598e-02 9.820867e-01\n",
       "p=0.6 0.6    9.012579e-03 4.913282e-02 4.309020e-04 1.194219e-02\n",
       "p=0.7 0.7    4.426143e-08 4.677968e-02 2.428763e-11 6.731170e-10\n",
       "p=0.8 0.8    2.075539e-18 1.889469e-04 2.098656e-26 5.816297e-25\n",
       "p=0.9 0.9    6.537443e-39 1.161994e-11 1.222523e-57 3.388148e-56"
      ]
     },
     "metadata": {},
     "output_type": "display_data"
    }
   ],
   "source": [
    "df2$Liklihood2=dbinom(65, size=100, prob=Models)\n",
    "df2"
   ]
  },
  {
   "cell_type": "code",
   "execution_count": null,
   "metadata": {},
   "outputs": [],
   "source": [
    "Now we recalculate the product and Posterior proabilities:"
   ]
  },
  {
   "cell_type": "code",
   "execution_count": 103,
   "metadata": {},
   "outputs": [
    {
     "data": {
      "text/html": [
       "<table>\n",
       "<thead><tr><th></th><th scope=col>Models</th><th scope=col>Priors2</th><th scope=col>Liklihood2</th><th scope=col>Product2</th><th scope=col>Posterior2</th></tr></thead>\n",
       "<tbody>\n",
       "\t<tr><th scope=row>p=0.3</th><td>0.3         </td><td>1.058677e-04</td><td>4.273205e-13</td><td>4.523942e-17</td><td>4.210734e-14</td></tr>\n",
       "\t<tr><th scope=row>p=0.4</th><td>0.4         </td><td>2.598554e-01</td><td>2.562323e-07</td><td>6.658335e-08</td><td>6.197356e-05</td></tr>\n",
       "\t<tr><th scope=row>p=0.5</th><td>0.5         </td><td>7.310261e-01</td><td>8.638557e-04</td><td>6.315011e-04</td><td>5.877801e-01</td></tr>\n",
       "\t<tr><th scope=row>p=0.6</th><td>0.6         </td><td>9.012579e-03</td><td>4.913282e-02</td><td>4.428135e-04</td><td>4.121560e-01</td></tr>\n",
       "\t<tr><th scope=row>p=0.7</th><td>0.7         </td><td>4.426143e-08</td><td>4.677968e-02</td><td>2.070536e-09</td><td>1.927185e-06</td></tr>\n",
       "\t<tr><th scope=row>p=0.8</th><td>0.8         </td><td>2.075539e-18</td><td>1.889469e-04</td><td>3.921667e-22</td><td>3.650157e-19</td></tr>\n",
       "\t<tr><th scope=row>p=0.9</th><td>0.9         </td><td>6.537443e-39</td><td>1.161994e-11</td><td>7.596469e-50</td><td>7.070540e-47</td></tr>\n",
       "</tbody>\n",
       "</table>\n"
      ],
      "text/latex": [
       "\\begin{tabular}{r|lllll}\n",
       "  & Models & Priors2 & Liklihood2 & Product2 & Posterior2\\\\\n",
       "\\hline\n",
       "\tp=0.3 & 0.3          & 1.058677e-04 & 4.273205e-13 & 4.523942e-17 & 4.210734e-14\\\\\n",
       "\tp=0.4 & 0.4          & 2.598554e-01 & 2.562323e-07 & 6.658335e-08 & 6.197356e-05\\\\\n",
       "\tp=0.5 & 0.5          & 7.310261e-01 & 8.638557e-04 & 6.315011e-04 & 5.877801e-01\\\\\n",
       "\tp=0.6 & 0.6          & 9.012579e-03 & 4.913282e-02 & 4.428135e-04 & 4.121560e-01\\\\\n",
       "\tp=0.7 & 0.7          & 4.426143e-08 & 4.677968e-02 & 2.070536e-09 & 1.927185e-06\\\\\n",
       "\tp=0.8 & 0.8          & 2.075539e-18 & 1.889469e-04 & 3.921667e-22 & 3.650157e-19\\\\\n",
       "\tp=0.9 & 0.9          & 6.537443e-39 & 1.161994e-11 & 7.596469e-50 & 7.070540e-47\\\\\n",
       "\\end{tabular}\n"
      ],
      "text/markdown": [
       "\n",
       "| <!--/--> | Models | Priors2 | Liklihood2 | Product2 | Posterior2 | \n",
       "|---|---|---|---|---|---|---|\n",
       "| p=0.3 | 0.3          | 1.058677e-04 | 4.273205e-13 | 4.523942e-17 | 4.210734e-14 | \n",
       "| p=0.4 | 0.4          | 2.598554e-01 | 2.562323e-07 | 6.658335e-08 | 6.197356e-05 | \n",
       "| p=0.5 | 0.5          | 7.310261e-01 | 8.638557e-04 | 6.315011e-04 | 5.877801e-01 | \n",
       "| p=0.6 | 0.6          | 9.012579e-03 | 4.913282e-02 | 4.428135e-04 | 4.121560e-01 | \n",
       "| p=0.7 | 0.7          | 4.426143e-08 | 4.677968e-02 | 2.070536e-09 | 1.927185e-06 | \n",
       "| p=0.8 | 0.8          | 2.075539e-18 | 1.889469e-04 | 3.921667e-22 | 3.650157e-19 | \n",
       "| p=0.9 | 0.9          | 6.537443e-39 | 1.161994e-11 | 7.596469e-50 | 7.070540e-47 | \n",
       "\n",
       "\n"
      ],
      "text/plain": [
       "      Models Priors2      Liklihood2   Product2     Posterior2  \n",
       "p=0.3 0.3    1.058677e-04 4.273205e-13 4.523942e-17 4.210734e-14\n",
       "p=0.4 0.4    2.598554e-01 2.562323e-07 6.658335e-08 6.197356e-05\n",
       "p=0.5 0.5    7.310261e-01 8.638557e-04 6.315011e-04 5.877801e-01\n",
       "p=0.6 0.6    9.012579e-03 4.913282e-02 4.428135e-04 4.121560e-01\n",
       "p=0.7 0.7    4.426143e-08 4.677968e-02 2.070536e-09 1.927185e-06\n",
       "p=0.8 0.8    2.075539e-18 1.889469e-04 3.921667e-22 3.650157e-19\n",
       "p=0.9 0.9    6.537443e-39 1.161994e-11 7.596469e-50 7.070540e-47"
      ]
     },
     "metadata": {},
     "output_type": "display_data"
    }
   ],
   "source": [
    "df2$Product2 = df2$Priors*df2$Liklihood2\n",
    "df2$Posterior2=df2$Product2/sum(df2$Product2)\n",
    "df2"
   ]
  },
  {
   "cell_type": "code",
   "execution_count": 104,
   "metadata": {},
   "outputs": [
    {
     "data": {},
     "metadata": {},
     "output_type": "display_data"
    },
    {
     "data": {
      "image/png": "[encoded data removed]",
      "text/plain": [
       "plot without title"
      ]
     },
     "metadata": {},
     "output_type": "display_data"
    }
   ],
   "source": [
    "df.long2=melt(df2, id=\"Models\")\n",
    "\n",
    "ggplot(data=subset(df.long2, variable%in% c(\"Priors2\", \"Posterior2\")), aes(x=as.factor(Models), y=value, fill=variable))+geom_bar(stat=\"identity\", position=\"dodge\")+plt.std+ylab(\"Probability\")+scale_fill_manual(values=color1, name=\"\")+xlab(\"Models\")+ggtitle(\"Probabilities after 2nd Survey\")"
   ]
  },
  {
   "cell_type": "markdown",
   "metadata": {},
   "source": [
    "Now, after the 2nd survey we are still confident the proprotion of Austin attending the concert will be 50%, but there is also a roughly 41% chance 60% of the town will show up. We'd like to be a bit more confident before placing our food order. But, we don't have time for another survey. We have some statistic nerds in the city planning group, and they suggest running simulations to approximate survey results and update our Posterior probabilities.\n",
    "\n",
    "That was a great example, but suppose we wanted to conduct more surveys to get an even better estimate? Or, if we didn't have enough resources, we could simulate survey results and update our Posterios."
   ]
  },
  {
   "cell_type": "markdown",
   "metadata": {},
   "source": [
    "A lot of times we have some knowledge or beliefs about something, and then we collect evidence and update our beliefs. This is the basic scientific method, and also sums up Baye's theory.\n",
    "\n",
    "Instead of knowing absolute probabilities of an event, we use the information we have at hand and our prior belief of the situation to update our belief (now called a posterior).\n",
    "\n",
    "Let's explore how Bayes makes use of these prior beliefs to help us better estimate things are are interested in.\n",
    "\n",
    "For example, we want to know the average height of women in the U.S. We have know prior knowledge in the area, so we assume that heights can be any positive value. We sample 10 women and the mean and standard devations of heights (in decimal feet 5.5 = 5'6\") are:\n"
   ]
  },
  {
   "cell_type": "code",
   "execution_count": null,
   "metadata": {},
   "outputs": [],
   "source": []
  },
  {
   "cell_type": "code",
   "execution_count": 4,
   "metadata": {},
   "outputs": [
    {
     "name": "stdout",
     "output_type": "stream",
     "text": [
      "package 'ggplot2' successfully unpacked and MD5 sums checked\n",
      "package 'dplyr' successfully unpacked and MD5 sums checked\n",
      "package 'sciplot' successfully unpacked and MD5 sums checked\n",
      "package 'repr' successfully unpacked and MD5 sums checked\n",
      "package 'VennDiagram' successfully unpacked and MD5 sums checked\n",
      "\n",
      "The downloaded binary packages are in\n",
      "\tC:\\Users\\nrb75\\AppData\\Local\\Temp\\RtmpSmnMwB\\downloaded_packages\n"
     ]
    },
    {
     "data": {
      "text/html": [
       "5.39"
      ],
      "text/latex": [
       "5.39"
      ],
      "text/markdown": [
       "5.39"
      ],
      "text/plain": [
       "[1] 5.39"
      ]
     },
     "metadata": {},
     "output_type": "display_data"
    },
    {
     "data": {
      "text/html": [
       "0.341402336775183"
      ],
      "text/latex": [
       "0.341402336775183"
      ],
      "text/markdown": [
       "0.341402336775183"
      ],
      "text/plain": [
       "[1] 0.3414023"
      ]
     },
     "metadata": {},
     "output_type": "display_data"
    }
   ],
   "source": [
    "options(repos = c('https://cloud.r-project.org/'))\n",
    "install.packages(c(\"ggplot2\", \"dplyr\", \"sciplot\", \"repr\", \"VennDiagram\"))\n",
    "\n",
    "heights=c(5,5.2,5.7,5.2,5.8,5.10,5.1,5.3,6.,5.5) #heights in ft decimal feet 5'6\" = 5.5 ft\n",
    "mean.height=mean(heights)\n",
    "sd.height=sd(heights)\n",
    "\n",
    "mean.height\n",
    "round(sd.height,2)"
   ]
  },
  {
   "cell_type": "markdown",
   "metadata": {},
   "source": [
    "Now, whats the probabiity of a certain height given these measurements? We can create a distribution for these heights"
   ]
  },
  {
   "cell_type": "markdown",
   "metadata": {},
   "source": [
    "\n",
    "For example, we believe that the average height of women is 5'5\" and that these heights are normally distributed. We collect some data from 10 women, and are now going to check our prior hypothesis and update it to a posterior estimate. We do this by creating a posterior distribution based on our belief the average is 5'5\" and liklihood of that being true based on our collected data.\n",
    "\n",
    "The measured mean height ="
   ]
  },
  {
   "cell_type": "markdown",
   "metadata": {},
   "source": [
    "the measured standard deviation of height ="
   ]
  }
 ],
 "metadata": {
  "kernelspec": {
   "display_name": "R",
   "language": "R",
   "name": "ir"
  },
  "language_info": {
   "codemirror_mode": "r",
   "file_extension": ".r",
   "mimetype": "text/x-r-source",
   "name": "R",
   "pygments_lexer": "r",
   "version": "3.4.3"
  }
 },
 "nbformat": 4,
 "nbformat_minor": 2
}
