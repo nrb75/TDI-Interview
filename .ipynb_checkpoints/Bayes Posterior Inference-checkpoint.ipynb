{
 "cells": [
  {
   "cell_type": "markdown",
   "metadata": {},
   "source": [
    "In many real world applications, we don't know the probability of events, but we would like to estimate this unknown probability based on our hypothesis and collected evidence. Seems rational, right? \n",
    "\n",
    "For example, how likely are our customers to open our promotional email? We have some knowledge from our previous email open rates, they ranged between 10-30% and followed a normal distribution. "
   ]
  },
  {
   "cell_type": "markdown",
   "metadata": {},
   "source": [
    "A lot of times we have some knowledge or beliefs about something, and then we collect evidence and update our beliefs. This is the basic scientific method, and also sums up Baye's theory.\n",
    "\n",
    "Instead of knowing absolute probabilities of an event, we use the information we have at hand and our prior belief of the situation to update our belief (now called a posterior).\n",
    "\n",
    "Let's explore how Bayes makes use of these prior beliefs to help us better estimate things are are interested in.\n",
    "\n",
    "For example, we want to know the average height of women in the U.S. We have know prior knowledge in the area, so we assume that heights can be any positive value. We sample 10 women and the mean and standard devations of heights (in decimal feet 5.5 = 5'6\") are:\n"
   ]
  },
  {
   "cell_type": "code",
   "execution_count": 4,
   "metadata": {},
   "outputs": [
    {
     "name": "stdout",
     "output_type": "stream",
     "text": [
      "package 'ggplot2' successfully unpacked and MD5 sums checked\n",
      "package 'dplyr' successfully unpacked and MD5 sums checked\n",
      "package 'sciplot' successfully unpacked and MD5 sums checked\n",
      "package 'repr' successfully unpacked and MD5 sums checked\n",
      "package 'VennDiagram' successfully unpacked and MD5 sums checked\n",
      "\n",
      "The downloaded binary packages are in\n",
      "\tC:\\Users\\nrb75\\AppData\\Local\\Temp\\RtmpSmnMwB\\downloaded_packages\n"
     ]
    },
    {
     "data": {
      "text/html": [
       "5.39"
      ],
      "text/latex": [
       "5.39"
      ],
      "text/markdown": [
       "5.39"
      ],
      "text/plain": [
       "[1] 5.39"
      ]
     },
     "metadata": {},
     "output_type": "display_data"
    },
    {
     "data": {
      "text/html": [
       "0.341402336775183"
      ],
      "text/latex": [
       "0.341402336775183"
      ],
      "text/markdown": [
       "0.341402336775183"
      ],
      "text/plain": [
       "[1] 0.3414023"
      ]
     },
     "metadata": {},
     "output_type": "display_data"
    }
   ],
   "source": [
    "options(repos = c('https://cloud.r-project.org/'))\n",
    "install.packages(c(\"ggplot2\", \"dplyr\", \"sciplot\", \"repr\", \"VennDiagram\"))\n",
    "\n",
    "heights=c(5,5.2,5.7,5.2,5.8,5.10,5.1,5.3,6.,5.5) #heights in ft decimal feet 5'6\" = 5.5 ft\n",
    "mean.height=mean(heights)\n",
    "sd.height=sd(heights)\n",
    "\n",
    "mean.height\n",
    "round(sd.height,2)"
   ]
  },
  {
   "cell_type": "markdown",
   "metadata": {},
   "source": [
    "Now, whats the probabiity of a certain height given these measurements? We can create a distribution for these heights"
   ]
  },
  {
   "cell_type": "markdown",
   "metadata": {},
   "source": [
    "\n",
    "For example, we believe that the average height of women is 5'5\" and that these heights are normally distributed. We collect some data from 10 women, and are now going to check our prior hypothesis and update it to a posterior estimate. We do this by creating a posterior distribution based on our belief the average is 5'5\" and liklihood of that being true based on our collected data.\n",
    "\n",
    "The measured mean height ="
   ]
  },
  {
   "cell_type": "markdown",
   "metadata": {},
   "source": [
    "the measured standard deviation of height ="
   ]
  }
 ],
 "metadata": {
  "kernelspec": {
   "display_name": "R",
   "language": "R",
   "name": "ir"
  },
  "language_info": {
   "codemirror_mode": "r",
   "file_extension": ".r",
   "mimetype": "text/x-r-source",
   "name": "R",
   "pygments_lexer": "r",
   "version": "3.4.3"
  }
 },
 "nbformat": 4,
 "nbformat_minor": 2
}
