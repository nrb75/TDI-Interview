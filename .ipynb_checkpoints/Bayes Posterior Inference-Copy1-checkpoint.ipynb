{
 "cells": [
  {
   "cell_type": "markdown",
   "metadata": {},
   "source": [
    "Bayesian posterior inference: Explain Bayes’ Rule. Write some code to actually perform posterior sampling. Work out an example using conjugate priors. How does this compare with hypothesis testing? What are the underlying assumptions?\n",
    "\n",
    "### In many real world applications, we don't know the probability of events, but we would like to estimate this unknown probability based on our hypothesis and collected evidence. Seems rational, right? \n",
    "\n",
    "#### This is the basis for Bayes' Rule, where we:\n",
    "1. Identify possible models and construct prior probabilities (based on our knowledge or beliefs)\n",
    "2. Collect data and create liklihoods, or the chance of getting this data given each model \n",
    "3. Use Bayes' rule to find posterior probabilities and update our knowledge so we can determine which model is likely to be correct\n"
   ]
  },
  {
   "cell_type": "markdown",
   "metadata": {},
   "source": [
    "The basic conditional probability equation is:"
   ]
  },
  {
   "cell_type": "markdown",
   "metadata": {},
   "source": [
    "$P(A|B) = \\frac{P(A\\cap B)}{P(B)}$"
   ]
  },
  {
   "cell_type": "markdown",
   "metadata": {},
   "source": [
    "The probability of A ${given}$ B is equal to the probability of both A and B occuring, normalized by the probability of B occuring. This is often written as:"
   ]
  },
  {
   "cell_type": "markdown",
   "metadata": {},
   "source": [
    "$P(A|B) = \\frac{P(B|A) P(A)}{P(B)}$"
   ]
  },
  {
   "cell_type": "markdown",
   "metadata": {},
   "source": [
    "Here we would say the Posterior probability P(A|B) is equal to the Likelihood P(B|A) multiplied by the Prior P(A) normalized by the probability of data P(B)."
   ]
  },
  {
   "cell_type": "markdown",
   "metadata": {},
   "source": [
    "#### Let's work through an example and describe some of the particulars as we go.\n",
    "Say you're the city manager of Austin planning a free concert. Woah big city! And a heck of a music scene! This seems like a big task, and you want to know about how many people will come so you can plan ahead and order the right amount of food. You don't need an exact headcount because ordering is done in bulk. So you would like to know the approximate proportion of the city that will show up in 10% groups (10%, 20%, 30%, etc). Because you've been the city manager for a few years, you have some prior knowledge of these concerts and believe at least 20% of the town will show up, but not more than 90%. You also believe the 60% and 70% groups are 2X as likely as the others. What is the estimated proportion of the city that will show up? \n",
    "\n",
    "You're pretty savvy, and send out an email asking if people will attend the concert. You send it out to 150 people and 70 respond 'yes' and 80 respond 'no'. You know this proportion of attendance (70/150 = 0.46) is not the real estimate because surveys are not always accurate and people do change their minds. So, you want to employ some statistics to help you estimate the most likely proportion of people that will come.\n",
    "\n",
    "Let's define this problem in Bayes terms.\n",
    "\n",
    "#### 1. Identify possible models and construct prior probabilities\n",
    "\n",
    "The models are the proportion of the town that will show up. We want to estimate the probability that each 'model' is true so we can determine the most likely scenario. The models are: p=0.3, p=0.4, p=0.5, p=0.6, p=0.6, p=0.8 and p=0.9\n",
    "Prior probabilities are based on what we know about concert attendance. In this case, we have 7 models (p=0.3 ... p=0.9), if the probability of each model being true were equal the 'prior probabilities' would = 1/7. However, we know that p=0.6 is 2X as likely. The sum of prior probabilities must sum to 1. Therefore the model and priors are:\n"
   ]
  },
  {
   "cell_type": "code",
   "execution_count": 44,
   "metadata": {},
   "outputs": [
    {
     "name": "stderr",
     "output_type": "stream",
     "text": [
      "Installing packages into 'C:/Users/nrb75/Documents/R/win-library/3.4'\n",
      "(as 'lib' is unspecified)\n"
     ]
    },
    {
     "name": "stdout",
     "output_type": "stream",
     "text": [
      "package 'ggplot2' successfully unpacked and MD5 sums checked\n",
      "package 'sciplot' successfully unpacked and MD5 sums checked\n",
      "package 'reshape' successfully unpacked and MD5 sums checked\n",
      "package 'dplyr' successfully unpacked and MD5 sums checked\n",
      "package 'TeachBayes' successfully unpacked and MD5 sums checked\n",
      "\n",
      "The downloaded binary packages are in\n",
      "\tC:\\Users\\nrb75\\AppData\\Local\\Temp\\RtmpWGroNL\\downloaded_packages\n"
     ]
    }
   ],
   "source": [
    "options(repos = c('https://cloud.r-project.org/'))\n",
    "options(digits=3)\n",
    "#install.packages(\"dplyr\", \"C:/Users/nrb75/AppData/Local/Continuum/anaconda3/Lib/R\")\n",
    "install.packages(c(\"ggplot2\", \"sciplot\", \"reshape\", \"dplyr\",\"TeachBayes\"))"
   ]
  },
  {
   "cell_type": "code",
   "execution_count": 45,
   "metadata": {},
   "outputs": [],
   "source": [
    "#library(TeachBayes)"
   ]
  },
  {
   "cell_type": "code",
   "execution_count": 46,
   "metadata": {},
   "outputs": [
    {
     "data": {
      "text/html": [
       "<table>\n",
       "<thead><tr><th></th><th scope=col>Models</th><th scope=col>Priors</th></tr></thead>\n",
       "<tbody>\n",
       "\t<tr><th scope=row>p=0.3</th><td>0.3 </td><td>0.12</td></tr>\n",
       "\t<tr><th scope=row>p=0.4</th><td>0.4 </td><td>0.12</td></tr>\n",
       "\t<tr><th scope=row>p=0.5</th><td>0.5 </td><td>0.12</td></tr>\n",
       "\t<tr><th scope=row>p=0.6</th><td>0.6 </td><td>0.25</td></tr>\n",
       "\t<tr><th scope=row>p=0.7</th><td>0.7 </td><td>0.12</td></tr>\n",
       "\t<tr><th scope=row>p=0.8</th><td>0.8 </td><td>0.12</td></tr>\n",
       "\t<tr><th scope=row>p=0.9</th><td>0.9 </td><td>0.12</td></tr>\n",
       "</tbody>\n",
       "</table>\n"
      ],
      "text/latex": [
       "\\begin{tabular}{r|ll}\n",
       "  & Models & Priors\\\\\n",
       "\\hline\n",
       "\tp=0.3 & 0.3  & 0.12\\\\\n",
       "\tp=0.4 & 0.4  & 0.12\\\\\n",
       "\tp=0.5 & 0.5  & 0.12\\\\\n",
       "\tp=0.6 & 0.6  & 0.25\\\\\n",
       "\tp=0.7 & 0.7  & 0.12\\\\\n",
       "\tp=0.8 & 0.8  & 0.12\\\\\n",
       "\tp=0.9 & 0.9  & 0.12\\\\\n",
       "\\end{tabular}\n"
      ],
      "text/markdown": [
       "\n",
       "| <!--/--> | Models | Priors | \n",
       "|---|---|---|---|---|---|---|\n",
       "| p=0.3 | 0.3  | 0.12 | \n",
       "| p=0.4 | 0.4  | 0.12 | \n",
       "| p=0.5 | 0.5  | 0.12 | \n",
       "| p=0.6 | 0.6  | 0.25 | \n",
       "| p=0.7 | 0.7  | 0.12 | \n",
       "| p=0.8 | 0.8  | 0.12 | \n",
       "| p=0.9 | 0.9  | 0.12 | \n",
       "\n",
       "\n"
      ],
      "text/plain": [
       "      Models Priors\n",
       "p=0.3 0.3    0.12  \n",
       "p=0.4 0.4    0.12  \n",
       "p=0.5 0.5    0.12  \n",
       "p=0.6 0.6    0.25  \n",
       "p=0.7 0.7    0.12  \n",
       "p=0.8 0.8    0.12  \n",
       "p=0.9 0.9    0.12  "
      ]
     },
     "metadata": {},
     "output_type": "display_data"
    }
   ],
   "source": [
    "Models=c(0.3, 0.4, 0.5, 0.6, 0.7, 0.8, 0.9)\n",
    "Priors=round(c(1/8, 1/8, 1/8, 2/8, 1/8, 1/8, 1/8),2)\n",
    "\n",
    "df=data.frame(Models, Priors)\n",
    "rownames(df)=c(\"p=0.3\", \"p=0.4\", \"p=0.5\", \"p=0.6\", \"p=0.7\", \"p=0.8\", \"p=0.9\")\n",
    "df"
   ]
  },
  {
   "cell_type": "markdown",
   "metadata": {},
   "source": [
    "#### 2. Collect Data and create liklihoods\n",
    "\n",
    "A liklihood is the probability of observing your result ${given}$ the model is true. In this scenario, the observed result is that from the survey. This is a binomial function where Success is defined as 'yes' I will attend the concert. Success=70, size = 150, and binomial probability of succes = models. Now we simply calculate the liklihood of observing the survey results, ${given}$ the model is true.\n",
    "\n",
    "For example, the liklihood that p=0.3:"
   ]
  },
  {
   "cell_type": "code",
   "execution_count": 47,
   "metadata": {},
   "outputs": [
    {
     "data": {
      "text/html": [
       "6.76225718888869e-06"
      ],
      "text/latex": [
       "6.76225718888869e-06"
      ],
      "text/markdown": [
       "6.76225718888869e-06"
      ],
      "text/plain": [
       "[1] 6.76e-06"
      ]
     },
     "metadata": {},
     "output_type": "display_data"
    }
   ],
   "source": [
    "dbinom(70, size=150, prob=0.3)"
   ]
  },
  {
   "cell_type": "markdown",
   "metadata": {},
   "source": [
    "This is a very low value! and it suggests the liklihood of observing this survey result, ${given}$ the actual probability of attendance is 0.3 is very low.\n",
    "\n",
    "Calculating the liklihood for the remaining models given the survey data is true:"
   ]
  },
  {
   "cell_type": "code",
   "execution_count": 48,
   "metadata": {},
   "outputs": [
    {
     "data": {
      "text/html": [
       "<table>\n",
       "<thead><tr><th></th><th scope=col>Models</th><th scope=col>Priors</th><th scope=col>Liklihood</th></tr></thead>\n",
       "<tbody>\n",
       "\t<tr><th scope=row>p=0.3</th><td>0.3     </td><td>0.12    </td><td>6.76e-06</td></tr>\n",
       "\t<tr><th scope=row>p=0.4</th><td>0.4     </td><td>0.12    </td><td>1.66e-02</td></tr>\n",
       "\t<tr><th scope=row>p=0.5</th><td>0.5     </td><td>0.12    </td><td>4.67e-02</td></tr>\n",
       "\t<tr><th scope=row>p=0.6</th><td>0.6     </td><td>0.25    </td><td>2.88e-04</td></tr>\n",
       "\t<tr><th scope=row>p=0.7</th><td>0.7     </td><td>0.12    </td><td>1.41e-09</td></tr>\n",
       "\t<tr><th scope=row>p=0.8</th><td>0.8     </td><td>0.12    </td><td>1.33e-19</td></tr>\n",
       "\t<tr><th scope=row>p=0.9</th><td>0.9     </td><td>0.12    </td><td>4.18e-40</td></tr>\n",
       "</tbody>\n",
       "</table>\n"
      ],
      "text/latex": [
       "\\begin{tabular}{r|lll}\n",
       "  & Models & Priors & Liklihood\\\\\n",
       "\\hline\n",
       "\tp=0.3 & 0.3      & 0.12     & 6.76e-06\\\\\n",
       "\tp=0.4 & 0.4      & 0.12     & 1.66e-02\\\\\n",
       "\tp=0.5 & 0.5      & 0.12     & 4.67e-02\\\\\n",
       "\tp=0.6 & 0.6      & 0.25     & 2.88e-04\\\\\n",
       "\tp=0.7 & 0.7      & 0.12     & 1.41e-09\\\\\n",
       "\tp=0.8 & 0.8      & 0.12     & 1.33e-19\\\\\n",
       "\tp=0.9 & 0.9      & 0.12     & 4.18e-40\\\\\n",
       "\\end{tabular}\n"
      ],
      "text/markdown": [
       "\n",
       "| <!--/--> | Models | Priors | Liklihood | \n",
       "|---|---|---|---|---|---|---|\n",
       "| p=0.3 | 0.3      | 0.12     | 6.76e-06 | \n",
       "| p=0.4 | 0.4      | 0.12     | 1.66e-02 | \n",
       "| p=0.5 | 0.5      | 0.12     | 4.67e-02 | \n",
       "| p=0.6 | 0.6      | 0.25     | 2.88e-04 | \n",
       "| p=0.7 | 0.7      | 0.12     | 1.41e-09 | \n",
       "| p=0.8 | 0.8      | 0.12     | 1.33e-19 | \n",
       "| p=0.9 | 0.9      | 0.12     | 4.18e-40 | \n",
       "\n",
       "\n"
      ],
      "text/plain": [
       "      Models Priors Liklihood\n",
       "p=0.3 0.3    0.12   6.76e-06 \n",
       "p=0.4 0.4    0.12   1.66e-02 \n",
       "p=0.5 0.5    0.12   4.67e-02 \n",
       "p=0.6 0.6    0.25   2.88e-04 \n",
       "p=0.7 0.7    0.12   1.41e-09 \n",
       "p=0.8 0.8    0.12   1.33e-19 \n",
       "p=0.9 0.9    0.12   4.18e-40 "
      ]
     },
     "metadata": {},
     "output_type": "display_data"
    }
   ],
   "source": [
    "df$Liklihood=dbinom(70, size=150, prob=Models)\n",
    "df\n"
   ]
  },
  {
   "cell_type": "markdown",
   "metadata": {},
   "source": [
    "#### 3. Now we want to update our prior probabilities with a posterior probability, which depends on our priors and the observed data.\n",
    "\n",
    "$Posterior\\ probability =\\frac{Prior\\ x\\ Liklihood} {\\sum(Prior\\ x\\ Liklihood)}$\n"
   ]
  },
  {
   "cell_type": "code",
   "execution_count": 49,
   "metadata": {},
   "outputs": [
    {
     "data": {
      "text/html": [
       "<table>\n",
       "<thead><tr><th></th><th scope=col>Models</th><th scope=col>Priors</th><th scope=col>Liklihood</th><th scope=col>Product</th><th scope=col>Posterior</th></tr></thead>\n",
       "<tbody>\n",
       "\t<tr><th scope=row>p=0.3</th><td>0.3     </td><td>0.12    </td><td>6.76e-06</td><td>8.11e-07</td><td>1.06e-04</td></tr>\n",
       "\t<tr><th scope=row>p=0.4</th><td>0.4     </td><td>0.12    </td><td>1.66e-02</td><td>1.99e-03</td><td>2.60e-01</td></tr>\n",
       "\t<tr><th scope=row>p=0.5</th><td>0.5     </td><td>0.12    </td><td>4.67e-02</td><td>5.60e-03</td><td>7.31e-01</td></tr>\n",
       "\t<tr><th scope=row>p=0.6</th><td>0.6     </td><td>0.25    </td><td>2.88e-04</td><td>7.20e-05</td><td>9.38e-03</td></tr>\n",
       "\t<tr><th scope=row>p=0.7</th><td>0.7     </td><td>0.12    </td><td>1.41e-09</td><td>1.70e-10</td><td>2.21e-08</td></tr>\n",
       "\t<tr><th scope=row>p=0.8</th><td>0.8     </td><td>0.12    </td><td>1.33e-19</td><td>1.59e-20</td><td>2.07e-18</td></tr>\n",
       "\t<tr><th scope=row>p=0.9</th><td>0.9     </td><td>0.12    </td><td>4.18e-40</td><td>5.01e-41</td><td>6.53e-39</td></tr>\n",
       "</tbody>\n",
       "</table>\n"
      ],
      "text/latex": [
       "\\begin{tabular}{r|lllll}\n",
       "  & Models & Priors & Liklihood & Product & Posterior\\\\\n",
       "\\hline\n",
       "\tp=0.3 & 0.3      & 0.12     & 6.76e-06 & 8.11e-07 & 1.06e-04\\\\\n",
       "\tp=0.4 & 0.4      & 0.12     & 1.66e-02 & 1.99e-03 & 2.60e-01\\\\\n",
       "\tp=0.5 & 0.5      & 0.12     & 4.67e-02 & 5.60e-03 & 7.31e-01\\\\\n",
       "\tp=0.6 & 0.6      & 0.25     & 2.88e-04 & 7.20e-05 & 9.38e-03\\\\\n",
       "\tp=0.7 & 0.7      & 0.12     & 1.41e-09 & 1.70e-10 & 2.21e-08\\\\\n",
       "\tp=0.8 & 0.8      & 0.12     & 1.33e-19 & 1.59e-20 & 2.07e-18\\\\\n",
       "\tp=0.9 & 0.9      & 0.12     & 4.18e-40 & 5.01e-41 & 6.53e-39\\\\\n",
       "\\end{tabular}\n"
      ],
      "text/markdown": [
       "\n",
       "| <!--/--> | Models | Priors | Liklihood | Product | Posterior | \n",
       "|---|---|---|---|---|---|---|\n",
       "| p=0.3 | 0.3      | 0.12     | 6.76e-06 | 8.11e-07 | 1.06e-04 | \n",
       "| p=0.4 | 0.4      | 0.12     | 1.66e-02 | 1.99e-03 | 2.60e-01 | \n",
       "| p=0.5 | 0.5      | 0.12     | 4.67e-02 | 5.60e-03 | 7.31e-01 | \n",
       "| p=0.6 | 0.6      | 0.25     | 2.88e-04 | 7.20e-05 | 9.38e-03 | \n",
       "| p=0.7 | 0.7      | 0.12     | 1.41e-09 | 1.70e-10 | 2.21e-08 | \n",
       "| p=0.8 | 0.8      | 0.12     | 1.33e-19 | 1.59e-20 | 2.07e-18 | \n",
       "| p=0.9 | 0.9      | 0.12     | 4.18e-40 | 5.01e-41 | 6.53e-39 | \n",
       "\n",
       "\n"
      ],
      "text/plain": [
       "      Models Priors Liklihood Product  Posterior\n",
       "p=0.3 0.3    0.12   6.76e-06  8.11e-07 1.06e-04 \n",
       "p=0.4 0.4    0.12   1.66e-02  1.99e-03 2.60e-01 \n",
       "p=0.5 0.5    0.12   4.67e-02  5.60e-03 7.31e-01 \n",
       "p=0.6 0.6    0.25   2.88e-04  7.20e-05 9.38e-03 \n",
       "p=0.7 0.7    0.12   1.41e-09  1.70e-10 2.21e-08 \n",
       "p=0.8 0.8    0.12   1.33e-19  1.59e-20 2.07e-18 \n",
       "p=0.9 0.9    0.12   4.18e-40  5.01e-41 6.53e-39 "
      ]
     },
     "metadata": {},
     "output_type": "display_data"
    }
   ],
   "source": [
    "df$Product = df$Priors*df$Liklihood\n",
    "df$Posterior=df$Product/sum(df$Product)\n",
    "df"
   ]
  },
  {
   "cell_type": "markdown",
   "metadata": {},
   "source": [
    "A good check is that the sum of the Posterior probabilities = 1."
   ]
  },
  {
   "cell_type": "code",
   "execution_count": 50,
   "metadata": {},
   "outputs": [
    {
     "data": {
      "text/html": [
       "1"
      ],
      "text/latex": [
       "1"
      ],
      "text/markdown": [
       "1"
      ],
      "text/plain": [
       "[1] 1"
      ]
     },
     "metadata": {},
     "output_type": "display_data"
    }
   ],
   "source": [
    "sum(df$Posterior)"
   ]
  },
  {
   "cell_type": "markdown",
   "metadata": {},
   "source": [
    "Good, the Posterior probabilities sum to 1. Now how are these Posterior Probabilities different than our Priors?"
   ]
  },
  {
   "cell_type": "code",
   "execution_count": 51,
   "metadata": {},
   "outputs": [
    {
     "ename": "ERROR",
     "evalue": "Error in melt(df, id = \"Models\"): could not find function \"melt\"\n",
     "output_type": "error",
     "traceback": [
      "Error in melt(df, id = \"Models\"): could not find function \"melt\"\nTraceback:\n"
     ]
    }
   ],
   "source": [
    "options(repr.plot.width=4.5, repr.plot.height=4.5)\n",
    "#library(reshape)\n",
    "#library(ggplot2)\n",
    "\n",
    "df.long=melt(df, id=\"Models\")\n",
    "\n",
    "plt.std=plt.std=theme(legend.position=\"top\", legend.text = element_text(size=12), axis.text.x = element_text(size=12),  axis.text.y = element_text(size=12), axis.title.y = element_text(size=14), strip.text.x = element_text(size=16), panel.background = element_rect(fill='white', colour='black'), legend.key = element_blank())\n",
    "color1=c(\"royalblue2\", \"red2\")\n",
    "ggplot(data=subset(df.long, variable%in% c(\"Priors\", \"Posterior\")), aes(x=as.factor(Models), y=value, fill=variable))+geom_bar(stat=\"identity\", position=\"dodge\")+ylab(\"Probability\")+scale_fill_manual(values=color1, name=\"\")+xlab(\"Models\")+ggtitle(\"Probabilities after 1st Survey\")+plt.std"
   ]
  },
  {
   "cell_type": "markdown",
   "metadata": {},
   "source": [
    "Origninally, the prior probabilities are more equally distributed across our models. But, with our beliefs and the survey data we see that it is far more likely the survey results came from a model where the proportion of town attandance is 0.5.\n",
    "\n",
    "This updates our probabilities and we would suggest the town manager order enough food for roughly 50% of Austin. $\\textbf{Now she is more confident that the attendance will be near 50%, when earlier she thought it was more likely that the attendance could be 60%.}$ She is now able to save money and not waste food. What a good reason to employ Bayes' Theorem!"
   ]
  },
  {
   "cell_type": "markdown",
   "metadata": {},
   "source": [
    "We're happy with these results, but suppose we wanted to send another survey closer to the concert date to give us a better estimate of the attendance. We would simply take the \"Posteriors\" from the results above and use them as our \"Priors\" in the calculations. "
   ]
  },
  {
   "cell_type": "code",
   "execution_count": null,
   "metadata": {},
   "outputs": [],
   "source": [
    "df2=df[c(\"Models\", \"Posterior\")]\n",
    "colnames(df2)[2]=\"Priors2\"\n",
    "df2"
   ]
  },
  {
   "cell_type": "markdown",
   "metadata": {},
   "source": [
    "We calculate the Liklihoods next based on the new survey results.\n",
    "Our new survey was sent to 100 people and 65 responded 'yes'. We calculate a new Liklihood for each model:"
   ]
  },
  {
   "cell_type": "code",
   "execution_count": null,
   "metadata": {},
   "outputs": [],
   "source": [
    "df2$Liklihood2=dbinom(65, size=100, prob=Models)\n",
    "df2"
   ]
  },
  {
   "cell_type": "markdown",
   "metadata": {},
   "source": [
    "Now we recalculate the product and Posterior proabilities:"
   ]
  },
  {
   "cell_type": "code",
   "execution_count": null,
   "metadata": {},
   "outputs": [],
   "source": [
    "df2$Product2 = df2$Priors*df2$Liklihood2\n",
    "df2$Posterior2=df2$Product2/sum(df2$Product2)\n",
    "df2"
   ]
  },
  {
   "cell_type": "code",
   "execution_count": null,
   "metadata": {},
   "outputs": [],
   "source": [
    "df.long2=melt(df2, id=\"Models\")\n",
    "\n",
    "ggplot(data=subset(df.long2, variable%in% c(\"Priors2\", \"Posterior2\")), aes(x=as.factor(Models), y=value, fill=variable))+geom_bar(stat=\"identity\", position=\"dodge\")+plt.std+ylab(\"Probability\")+scale_fill_manual(values=color1, name=\"\")+xlab(\"Models\")+ggtitle(\"Probabilities after 2nd Survey\")"
   ]
  },
  {
   "cell_type": "markdown",
   "metadata": {},
   "source": [
    "Now, after the 2nd survey we are still confident the proprotion of Austin attending the concert will be 50% (p=0.5), but there is also a roughly 42% chance that p=0.6. If we repeated this again and again and survey results came from a known distribution, we would converge on the true probabilities for each model.\n",
    "\n",
    "We'd like to be a bit more confident before placing our food order. But, we don't have time for more surveys. We have some statistic nerds in the city planning group, and they suggest running $\\textbf{simulations}$ to update our Posterior probabilities.\n"
   ]
  },
  {
   "cell_type": "markdown",
   "metadata": {},
   "source": [
    "### Using the same general idea as above, we'll construct a continuous Posterior distribution based on the Prior distribution.\n",
    "\n",
    "Our Likelihood function is a binomial distribution (success = attendance), and it turns out that when we select the Prior distribution to be a Beta distribution, the Posterior distribution is also a Beta distribution! These are called $conjugate distributions$. The Prior is called a conjugate prior for the Likelihood function.\n",
    "Thus, when we know our Liklihood function, we can cleverly select (or look up the known conjugates), the Prior distribution so we can determine the Posterior distribution. This helps simplify our ability to calculate the Posterior. "
   ]
  },
  {
   "cell_type": "markdown",
   "metadata": {},
   "source": [
    "$Posterior = \\frac{(Likelihood) * Prior}{Data}$ \n",
    "\n",
    "$P(A|B) = \\frac{P(B|A) P(A)}{P(B)}$ "
   ]
  },
  {
   "cell_type": "markdown",
   "metadata": {},
   "source": [
    "Because the denominator is a normalizing term (makes the probabilities sum to 1), we know that Posterior is proportional to Likelihood and Prior.  Think of this like chemistry with conjugate acids and bases. If we know the acid, we also know the conjugate base. If we know the Prior distribution, we also know the conjugate Posterior distribution.\n",
    "\n",
    "In this binomial example:\n",
    "\n",
    "$Posterior \\ Beta \\propto {(Binomial\\ Likelihood) * Beta\\ Prior}$\n",
    "\n",
    "We won't get into all the details of a Beta distribution, but think of it like a normal distribution and instead of being characterizied by the mean and standard deviation, it is paramaterized by two shape terms a and b."
   ]
  },
  {
   "cell_type": "markdown",
   "metadata": {},
   "source": [
    "In this example, we are trying to calculate the true proportion of people in Austin that will attend this concert. The stats nerds have looked at previous attendance records, they determine:\n",
    "\n",
    "1. Prior attendance proportion median value = 0.60 \n",
    "2. The attendance proportion follows a Beta distribution with $\\alpha$=2.9 and $\\beta$=2 (this is our Prior)"
   ]
  },
  {
   "cell_type": "code",
   "execution_count": null,
   "metadata": {},
   "outputs": [],
   "source": [
    "#library(dplyr)\n",
    "#library(TeachBayes)\n",
    "#Prior_beta=c(2.9,2)\n",
    "#beta_draw(PriorBeta)\n",
    "curve(dbeta(x,2.9,2),col = \"blue\", xlab = \"Proportion of Attendance\", ylab = \"Probability Density\")"
   ]
  },
  {
   "cell_type": "markdown",
   "metadata": {},
   "source": [
    "### We simulate data from the Posterior distribution (Beta).\n",
    "With a Beta distribution, this is pretty easy! The Posterior shape parameters are the Prior shape parameters scaled with the observed data.\n",
    "\n",
    "$\\alpha_{Posterior} = \\alpha + number\\ of\\ Successes$\n",
    "\n",
    "$\\beta_{Posterior} = \\beta + number\\ of\\ Failures$\n",
    "\n",
    "Our new Posterior distribution is a Beta distribution with shape parameters:\n",
    "\n",
    "$\\alpha=2.9+70 = 72.9$\n",
    "\n",
    "$\\beta=2.0+80 = 80$"
   ]
  },
  {
   "cell_type": "code",
   "execution_count": 52,
   "metadata": {},
   "outputs": [
    {
     "data": {
      "image/png": "[encoded data removed]",
      "text/plain": [
       "Plot with title \"Histogram of Posterior_sim\""
      ]
     },
     "metadata": {},
     "output_type": "display_data"
    }
   ],
   "source": [
    "a=2.9+70 \n",
    "\n",
    "b=2.0+80 \n",
    "options(repr.plot.width=4.5, repr.plot.height=4)\n",
    "Posterior_sim=rbeta(5000, a,b)\n",
    "hist(Posterior_sim, breaks=30, freq=F, xlim=c(0,1))\n",
    "#curve(dbeta(x,72.9,82),col = \"red\", xlab = \"Proportion of Attendance\", ylab = \"Probability Density\")"
   ]
  },
  {
   "cell_type": "markdown",
   "metadata": {},
   "source": [
    "First, note how this Posterior is much narrower than the Prior. This means we are more confident in our estimates with the Posterior, because we used our knowledge and Bayes' rule.\n",
    "\n",
    "Now we can make inferences with this Posterior distribution. \n",
    "\n",
    "Our boss (the Mayor!) wants us to order enough food so that there is a relatively small, 15%, chance we run out of food. We are looking for the 1-0.15 (85th) quantile, which is the point where we are 85% sure the proportion that will show up is smaller than this value."
   ]
  },
  {
   "cell_type": "code",
   "execution_count": 53,
   "metadata": {},
   "outputs": [
    {
     "data": {
      "text/html": [
       "<strong>85%:</strong> 0.51"
      ],
      "text/latex": [
       "\\textbf{85\\textbackslash{}\\%:} 0.51"
      ],
      "text/markdown": [
       "**85%:** 0.51"
      ],
      "text/plain": [
       " 85% \n",
       "0.51 "
      ]
     },
     "metadata": {},
     "output_type": "display_data"
    }
   ],
   "source": [
    "round(quantile(Posterior_sim, .85),2)"
   ]
  },
  {
   "cell_type": "markdown",
   "metadata": {},
   "source": [
    "Great! Now we only need to order enough food for 51% of Austin!"
   ]
  },
  {
   "cell_type": "markdown",
   "metadata": {},
   "source": [
    "The Mayor also wants to know the probability that less than 40% of Austin will show up. If there will be low attendance, she may want to cancel the concert. Using our simulated data we calculate the probability of having attendance below 0.4:\n",
    "\n",
    "$P(x<0.4) = \\sum(x<0.4)/total\\ observations$"
   ]
  },
  {
   "cell_type": "code",
   "execution_count": 54,
   "metadata": {},
   "outputs": [
    {
     "data": {
      "text/html": [
       "0.0386"
      ],
      "text/latex": [
       "0.0386"
      ],
      "text/markdown": [
       "0.0386"
      ],
      "text/plain": [
       "[1] 0.0386"
      ]
     },
     "metadata": {},
     "output_type": "display_data"
    }
   ],
   "source": [
    "sum(Posterior_sim<0.4)/length(Posterior_sim)"
   ]
  },
  {
   "cell_type": "code",
   "execution_count": 55,
   "metadata": {},
   "outputs": [
    {
     "data": {
      "image/png": "[encoded data removed]",
      "text/plain": [
       "Plot with title \"Prob of less than 40% of Town Attendance\""
      ]
     },
     "metadata": {},
     "output_type": "display_data"
    }
   ],
   "source": [
    "dens <- density(Posterior_sim) #desnity distribution of beta\n",
    "criticalvaluelow=quantile(Posterior_sim, .0386) #critical value of lower tail\n",
    "index=max(which(dens$x <=criticalvaluelow)) #critical value low\n",
    "left=max(which(dens$x<.311)) #end. The area between indexhigh and right should be 0.025\n",
    "\n",
    "plot(dens, xlim=c(0,1), xlab=\"\", main=\"Prob of less than 40% of Town Attendance\")\n",
    "with(dens, polygon(x=c(x[c(left,left:index,index)]), y= c(0, y[left:index], 0), col=\"gray85\")) #high tail"
   ]
  },
  {
   "cell_type": "markdown",
   "metadata": {},
   "source": [
    "This gray area represents the probability that the attendance will be less than 0.4, and is only a 3.8% chance, and thus there is a 96.4% chance that more than 40% of the city will show up! This is good news! The Show will go on!\n",
    "\n",
    "##### The Mayor is skeptical of these results. She wants a classical (Frequentist) analysis as well. In this case, we must use the original Beta distribution to estimate attendance.\n",
    "This probability is calculated as:"
   ]
  },
  {
   "cell_type": "code",
   "execution_count": 56,
   "metadata": {},
   "outputs": [
    {
     "data": {
      "text/html": [
       "0.192"
      ],
      "text/latex": [
       "0.192"
      ],
      "text/markdown": [
       "0.192"
      ],
      "text/plain": [
       "[1] 0.192"
      ]
     },
     "metadata": {},
     "output_type": "display_data"
    }
   ],
   "source": [
    "round(pbeta(.4, 2.9,2),3)"
   ]
  },
  {
   "cell_type": "markdown",
   "metadata": {},
   "source": [
    "The probability of having less than 40% of the town show up, according to classical methods, is almost 19%. This is much higher than our Bayes' approach.' But, it gives our boss peace of mind that we will likely have more than 40% of the city show up, even if we use the more conservative classical calculations."
   ]
  },
  {
   "cell_type": "code",
   "execution_count": null,
   "metadata": {},
   "outputs": [],
   "source": [
    "Posteior_beta=c(2.9+70, 2.0+80)\n",
    "\n",
    "beta_prior_post(Prior_beta, Posterior_beta)"
   ]
  }
 ],
 "metadata": {
  "kernelspec": {
   "display_name": "R",
   "language": "R",
   "name": "ir"
  },
  "language_info": {
   "codemirror_mode": "r",
   "file_extension": ".r",
   "mimetype": "text/x-r-source",
   "name": "R",
   "pygments_lexer": "r",
   "version": "3.5.0"
  }
 },
 "nbformat": 4,
 "nbformat_minor": 2
}
