{
 "cells": [
  {
   "cell_type": "markdown",
   "metadata": {},
   "source": [
    "## Bayesian posterior inference: Explain Bayes’ Rule.  Write some code to actually perform posterior sampling.  Work out an example using conjugate priors.  How does this compare with hypothesis testing?  What are the underlying assumptions?"
   ]
  },
  {
   "cell_type": "code",
   "execution_count": 43,
   "metadata": {},
   "outputs": [
    {
     "name": "stderr",
     "output_type": "stream",
     "text": [
      "Installing packages into 'C:/Users/nrb75/Documents/R/win-library/3.4'\n",
      "(as 'lib' is unspecified)\n",
      "Warning message:\n",
      "\"packages 'ggplot2', 'VennDiagram' are in use and will not be installed\""
     ]
    },
    {
     "name": "stdout",
     "output_type": "stream",
     "text": [
      "package 'dplyr' successfully unpacked and MD5 sums checked\n",
      "package 'sciplot' successfully unpacked and MD5 sums checked\n",
      "package 'repr' successfully unpacked and MD5 sums checked\n",
      "\n",
      "The downloaded binary packages are in\n",
      "\tC:\\Users\\nrb75\\AppData\\Local\\Temp\\Rtmps5fY9J\\downloaded_packages\n"
     ]
    }
   ],
   "source": [
    "options(repos = c('https://cloud.r-project.org/'))\n",
    "install.packages(c(\"ggplot2\", \"dplyr\", \"sciplot\", \"repr\", \"VennDiagram\"))\n",
    "library(\"ggplot2\")\n",
    "library(\"VennDiagram\")"
   ]
  },
  {
   "cell_type": "markdown",
   "metadata": {},
   "source": [
    "Have you ever wondered how likely something is given another event occured? Perhaps you're wondering how likely we are to see more manufacturing jobs in the US, $\\textit{given}$ Donald Trump is president. Or how likely the Winnipeg Jets are to win the Stanley Cup, $\\textit{given}$ their star player is hurt?\n",
    "\n",
    "If questions like these cross your mind, you may need a tool to determine the probability of one event given the other event occured. This is $\\textbf{Bayes' Rule}$ of conditional probability!\n",
    "\n",
    "The probability that the Jets win, $\\textit{given} their star is hurt is the overlapping area in the venn diagram (purple) below."
   ]
  },
  {
   "cell_type": "code",
   "execution_count": 44,
   "metadata": {},
   "outputs": [
    {
     "data": {
      "text/plain": [
       "(polygon[GRID.polygon.19], polygon[GRID.polygon.20], polygon[GRID.polygon.21], polygon[GRID.polygon.22], text[GRID.text.23], text[GRID.text.24], text[GRID.text.25], text[GRID.text.26], text[GRID.text.27]) "
      ]
     },
     "metadata": {},
     "output_type": "display_data"
    },
    {
     "data": {
      "image/png": "[encoded data removed]",
      "text/plain": [
       "plot without title"
      ]
     },
     "metadata": {},
     "output_type": "display_data"
    }
   ],
   "source": [
    "options(repr.plot.width=4, repr.plot.height=3.5)\n",
    "draw.pairwise.venn(15, 15, cross.area=5, category = c(\"Jets Win\", \"Star hurt\"), lty = rep(\"blank\", \n",
    "2), fill = c(\"blue\", \"red\"), alpha = rep(0.5, 2), cat.pos = c(0, \n",
    " 0), cat.dist = rep(0.025, 2), scaled = FALSE)"
   ]
  },
  {
   "cell_type": "markdown",
   "metadata": {},
   "source": [
    "Clearly the probability of the Jets winning is greater when their star is $\\textit{not}$ hurt, as the blue circle area (not includuing the purple overlap area) is much larger than the middle of the venn diagram where both the Jets win and the Star is hurt.\n",
    "\n",
    "A = probability of Jets winning\n",
    "\n",
    "B = probability star is hurt\n",
    "\n",
    "In probability, this is expressed as:"
   ]
  },
  {
   "cell_type": "markdown",
   "metadata": {},
   "source": [
    "$P(A|B) = \\frac{P(A\\cap B)}{P(B)}$"
   ]
  },
  {
   "cell_type": "markdown",
   "metadata": {},
   "source": [
    "The probability of A (Jets win) Given (|) B (star is hurt) = the probability of A and B both occuring, divided by the probability of B occuring. We know intuitively that the probability of 2 things happening together is lower than 1 thing happening on it's own. This is Bayes' Rule, you are trying to determine how likely event 'A' is given that B already happened. \n",
    "\n",
    "$P(A\\cap B) = P(B|A) P(A) $\n"
   ]
  },
  {
   "cell_type": "markdown",
   "metadata": {},
   "source": [
    "This same formula can be written as:\n",
    "\n",
    "$P(A|B) = \\frac{P(B|A) P(A)}{P(B)}$"
   ]
  },
  {
   "cell_type": "markdown",
   "metadata": {},
   "source": [
    "Let's try this hockey example out, we know the Jets have a high chance of winning at 60%, and the liklihood of getting hurt on the ice is 20%. The chances of them winning decrease by 20% if the star is hurt. If you heard the Jets won the Stanley Cup, what is the probability their star was hurt?\n",
    "\n",
    "\n",
    "P(Win) = 0.60\n",
    "\n",
    "P(Hurt) = 0.20\n",
    "\n",
    "P(Win|Hurt) = 0.40\n",
    "\n",
    "P(Hurt|Win) = ?\n",
    "\n",
    "\n",
    "$P(Hurt|Win) = \\frac{P(Hurt) P(Win|Hurt)}{P(Win)}$\n",
    "\n",
    "$P(Hurt|Win) = \\frac{0.2* 0.4}{0.6}$ = 0.133 = 13%"
   ]
  },
  {
   "cell_type": "markdown",
   "metadata": {},
   "source": [
    "This is the basic concept of Bayes' Theorem.\n",
    "\n",
    "But what if you have some idea about your paramater of interest, and then later you collect some data. Wouldn't it be great if we could update our probabilities with the new data?  This is possible with Bayes'. But, instead of calculating 1 probability, we'll create a distribution and summarize how likely something is."
   ]
  },
  {
   "cell_type": "markdown",
   "metadata": {},
   "source": [
    "#### It turns out Bayes' Theorem is often expressed in terms of 'Priors' and 'Posteriors'.\n",
    "\n",
    "Given a prior hypothesis $\\textbf{H}$, and some posterior evidence $\\textbf{E}$, the probabilty of the hypothesis distribution prior to any evidence $\\textbf{P(H)}$, and the posterior probability distribution of the hypothesis given some evidence $\\textbf{P(H|E)}$ is the same as conditional probability:\n",
    "\n",
    "$P(H|E) = \\frac{P(E|H) P(H)}{P(E)}$ \n",
    "\n",
    "\n",
    "$P(H|E)$ = Posterior probability\n",
    "\n",
    "$P(H)$ = Prior Probability\n",
    "\n",
    "$P(E|H)$ = Likelihood\n",
    "\n",
    "$P(E)$ = Evidence\n",
    "\n",
    "Bayes' Theorem now becomes: the Posterior probability distribution equals the Prior probability distribution multiplied by the Likelihood, and normalized by the Evidence (or data).\n",
    "\n",
    "This is particularily useful when you are training models to get better over time, or update values based on some conditions. For example, Amazon may suggest products to you given your previous purchases. As you make more purchases, the ability to predict what you may like increases."
   ]
  },
  {
   "cell_type": "markdown",
   "metadata": {},
   "source": [
    "Let's look at an example. We want to know the average crowd size at our favorite venue in Austin. We think the crowd is normally distributed with a mean size of 12 million people, and a standard deviation of 4 million, prior to observing actual data. The probability density function of our Prior is:"
   ]
  },
  {
   "cell_type": "code",
   "execution_count": 51,
   "metadata": {
    "scrolled": true
   },
   "outputs": [
    {
     "data": {
      "image/png": "[encoded data removed]",
      "text/plain": [
       "plot without title"
      ]
     },
     "metadata": {},
     "output_type": "display_data"
    }
   ],
   "source": [
    "x=seq(1,25, by=.2)\n",
    "prior_mean=12\n",
    "prior_sd=4\n",
    "Prior=dnorm(x, mean=prior_mean, sd=prior_sd)\n",
    "plot(x,Prior, type='l', ylab='Probability', xlab='Crowd Size (Millions)', ylim=c(0,.15))"
   ]
  },
  {
   "cell_type": "markdown",
   "metadata": {},
   "source": [
    "Now, we collect some data from the venue."
   ]
  },
  {
   "cell_type": "code",
   "execution_count": 52,
   "metadata": {},
   "outputs": [
    {
     "data": {
      "image/png": "[encoded data removed]",
      "text/plain": [
       "plot without title"
      ]
     },
     "metadata": {},
     "output_type": "display_data"
    }
   ],
   "source": [
    "size=sort(c(5,8,3,12,10,8,6,17,11,5,9,10,12,6,10))\n",
    "ysize=seq(0,0, length.out=15)\n",
    "plot(x,Prior, type='l', ylab='Probability', xlab='Crowd Size (Millions)' ,ylim=c(0,.15))\n",
    "points(size,ysize)"
   ]
  },
  {
   "cell_type": "markdown",
   "metadata": {},
   "source": [
    "Now, with this observed data we can calculate the Likelihood of observing these crowd sizes data given the distribution is normal:"
   ]
  },
  {
   "cell_type": "code",
   "execution_count": 53,
   "metadata": {},
   "outputs": [
    {
     "data": {
      "text/html": [
       "8.8"
      ],
      "text/latex": [
       "8.8"
      ],
      "text/markdown": [
       "8.8"
      ],
      "text/plain": [
       "[1] 8.8"
      ]
     },
     "metadata": {},
     "output_type": "display_data"
    },
    {
     "data": {
      "image/png": "[encoded data removed]",
      "text/plain": [
       "plot without title"
      ]
     },
     "metadata": {},
     "output_type": "display_data"
    }
   ],
   "source": [
    "data_mean=mean(size)\n",
    "data_sd=sd(size)\n",
    "\n",
    "data_mean\n",
    "\n",
    "x_size=seq(1,25, by=.2)\n",
    "Likelihood=dnorm(data_mean, mean=x, sd=data_sd) #based on observations\n",
    "\n",
    "plot(x,y, type='l', ylab='Probability', xlab='Crowd Size (Millions)', ylim=c(0,.15))\n",
    "lines(x_size, Likelihood, col='red')"
   ]
  },
  {
   "cell_type": "markdown",
   "metadata": {},
   "source": [
    "The Likelihood distribution is shown in red. It shows a range of crowd sizes (x axis) and the likelihood that that crowd size explains the data we observed. Likelihood is just a conditional probability (see the |) of the data given the hypothesis. In this case, if we hypothesized the average crowd size was 15 million, we have an approximately 0.025 chance that our observed data came from this hypothesized model. We have the best chance that our data came from a distribution where the true crowd mean is roughly 9 million."
   ]
  },
  {
   "cell_type": "markdown",
   "metadata": {},
   "source": [
    "#### Now this is where the magic happens! \n",
    "\n",
    "In Bayesian statistics, we can use the $Prior$ and the $Likelihood$ to determine the $Posterior$ distribution:\n",
    "\n",
    "Posterior = Prior x Likelihood\n",
    "\n",
    "The Prior is called a conjugate prior for the Likelihood function. Thus, when we know our Liklihood function, we can cleverly select (or look up the known conjugates), the Prior distribution so we can determine the Posterior distribution. These are called $conjugate\\ distributions$ This helps simplify our ability to calculate the Posterior.\n",
    "\n",
    "Posterior = Normal x Normal \n",
    "\n",
    "Posterior=Normal!\n",
    "\n",
    "This is not always the case, many conjugates are different distributions (i.e, binomial and beta conjugates). But in this example, all we need to know is that the Posterior distribution is also a Normal distribution. Using some fancy math, we can now calculate the Posterior."
   ]
  },
  {
   "cell_type": "code",
   "execution_count": 56,
   "metadata": {},
   "outputs": [
    {
     "data": {
      "image/png": "[encoded data removed]",
      "text/plain": [
       "plot without title"
      ]
     },
     "metadata": {},
     "output_type": "display_data"
    }
   ],
   "source": [
    "Prior_precision=1/(prior_sd^2)\n",
    "Data_precision=1/(data_sd^2)\n",
    "Posterior_precision=Prior_precision+Data_precision\n",
    "Posterior_sd=1/sqrt(Posterior_precision)\n",
    "Posterior_mean=((prior_mean*Prior_precision)+(data_mean*Data_precision))/(Prior_precision+Data_precision)\n",
    "\n",
    "Posterior=dnorm(x, mean=Posterior_mean, sd=Posterior_sd)\n",
    "\n",
    "plot(x,y, type='l', ylab='Probability', xlab='Crowd Size (Millions)', ylim=c(0,.15))\n",
    "lines(x_size, Likelihood, col='red')\n",
    "lines(x, Posterior, col='blue')"
   ]
  },
  {
   "cell_type": "code",
   "execution_count": null,
   "metadata": {},
   "outputs": [],
   "source": [
    "Start: specify the conditional distribution of the data given the paramaters\n",
    "\n",
    "End: find the conditional distribution of the paramaters given the data"
   ]
  },
  {
   "cell_type": "markdown",
   "metadata": {},
   "source": [
    "If you're interested in these types of problems, numerical solutions can be pretty tough! \n",
    "##### Luckily, we can approximate the posterior distribution with a Marcov-chain Monte-Carlo (MCMC) simulation. With the approximate posterior distribution, we can calculate the posterior probability P(H|E).\n",
    "\n",
    "In a nutshell, we use the Marcov-chain to simulate possible outcomes from a target distribution. Because we know the prior distribution, we also know the target posterior distribution, which is equal to the prior distribution.\n",
    "Then, we do a Monte-Carlo simulation (repeated sampling from the distributions) to approximate P(H|E).\n",
    "\n",
    "A Marcov-chain is a mathamatical system that represents the possible states of a system. For example, a person may have the states \"sleeping\", \"eating\", or \"working\". The Marcov chain will predict which state the person will move to next based soley on the current state. This is said to have no memory, as the next move is based soley on the current state. \n",
    "\n"
   ]
  },
  {
   "cell_type": "markdown",
   "metadata": {},
   "source": [
    "A Monte Carlo simulation works by allowing a paramater to vary about a distribution (i.e., normal, logistic etc.) and creates many, many results based on these range of values. Thereby the simulation creates a range of results. If the distribution is normal, the results will tend to center around the mean\n",
    "\n",
    "building models of possible results by substituting a range of values—a probability distribution—for any factor that has inherent uncertainty."
   ]
  },
  {
   "cell_type": "markdown",
   "metadata": {},
   "source": [
    "Posterior estimation is proporational to prior and liklihood. Sum up all prior*liklihoods then divide all individual prior*liklihood values by this sum to normalize them."
   ]
  },
  {
   "cell_type": "code",
   "execution_count": null,
   "metadata": {},
   "outputs": [],
   "source": [
    "posterior distribution is from same distribution as prior"
   ]
  }
 ],
 "metadata": {
  "kernelspec": {
   "display_name": "R",
   "language": "R",
   "name": "ir"
  },
  "language_info": {
   "codemirror_mode": "r",
   "file_extension": ".r",
   "mimetype": "text/x-r-source",
   "name": "R",
   "pygments_lexer": "r",
   "version": "3.4.3"
  }
 },
 "nbformat": 4,
 "nbformat_minor": 2
}
