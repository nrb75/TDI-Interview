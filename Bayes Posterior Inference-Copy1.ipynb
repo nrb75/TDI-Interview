{
 "cells": [
  {
   "cell_type": "markdown",
   "metadata": {},
   "source": [
    "Bayesian posterior inference: Explain Bayes’ Rule. Write some code to actually perform posterior sampling. Work out an example using conjugate priors. How does this compare with hypothesis testing? What are the underlying assumptions?\n",
    "\n",
    "### In many real world applications, we don't know the probability of events, but we would like to estimate this unknown probability based on our hypothesis and collected evidence. Seems rational, right? \n",
    "\n",
    "#### This is the basis for Bayes' Rule, where we:\n",
    "1. Identify possible models and construct prior probabilities (based on our knowledge or beliefs)\n",
    "2. Collect data and create liklihoods, or the chance of getting this data given each model \n",
    "3. Use Bayes' rule to find posterior probabilities and update our knowledge so we can determine which model is likely to be correct\n"
   ]
  },
  {
   "cell_type": "markdown",
   "metadata": {},
   "source": [
    "The basic conditional probability equation is:"
   ]
  },
  {
   "cell_type": "markdown",
   "metadata": {},
   "source": [
    "$P(A|B) = \\frac{P(A\\cap B)}{P(B)}$"
   ]
  },
  {
   "cell_type": "markdown",
   "metadata": {},
   "source": [
    "The probability of A ${given}$ B is equal to the probability of both A and B occuring, normalized by the probability of B occuring. This is often written as:"
   ]
  },
  {
   "cell_type": "markdown",
   "metadata": {},
   "source": [
    "$P(A|B) = \\frac{P(B|A) P(A)}{P(B)}$"
   ]
  },
  {
   "cell_type": "markdown",
   "metadata": {},
   "source": [
    "Here we would say the Posterior probability P(A|B) is equal to the Likelihood P(B|A) multiplied by the Prior P(A) normalized by the probability of data P(B)."
   ]
  },
  {
   "cell_type": "markdown",
   "metadata": {},
   "source": [
    "#### Let's work through an example and describe some of the particulars as we go.\n",
    "Say you're the city manager of Austin planning a free concert. Woah big city! And a heck of a music scene! This seems like a big task, and you want to know about how many people will come so you can plan ahead and order the right amount of food. You don't need an exact headcount because ordering is done in bulk. So you would like to know the approximate proportion of the city that will show up in 10% groups (10%, 20%, 30%, etc). Because you've been the city manager for a few years, you have some prior knowledge of these concerts and believe at least 20% of the town will show up, but not more than 90%. You also believe the 60% and 70% groups are 2X as likely as the others. What is the estimated proportion of the city that will show up? \n",
    "\n",
    "You're pretty savvy, and send out an email asking if people will attend the concert. You send it out to 150 people and 70 respond 'yes' and 80 respond 'no'. You know this proportion of attendance (70/150 = 0.46) is not the real estimate because surveys are not always accurate and people do change their minds. So, you want to employ some statistics to help you estimate the most likely proportion of people that will come.\n",
    "\n",
    "Let's define this problem in Bayes terms.\n",
    "\n",
    "#### 1. Identify possible models and construct prior probabilities\n",
    "\n",
    "The models are the proportion of the town that will show up. We want to estimate the probability that each 'model' is true so we can determine the most likely scenario. The models are: p=0.3, p=0.4, p=0.5, p=0.6, p=0.6, p=0.8 and p=0.9\n",
    "Prior probabilities are based on what we know about concert attendance. In this case, we have 7 models (p=0.3 ... p=0.9), if the probability of each model being true were equal the 'prior probabilities' would = 1/7. However, we know that p=0.6 is 2X as likely. The sum of prior probabilities must sum to 1. Therefore the model and priors are:\n"
   ]
  },
  {
   "cell_type": "code",
   "execution_count": 3,
   "metadata": {},
   "outputs": [],
   "source": [
    "options(repos = c('https://cloud.r-project.org/'))\n",
    "#update.packages(checkBuilt = TRUE)\n",
    "#install.packages(\"dplyr\", \"C:/Users/nrb75/AppData/Local/Continuum/anaconda3/Lib/R\")\n",
    "install.packages(c(\"ggplot2\", \"sciplot\", \"reshape\", \"TeachBayes\"))"
   ]
  },
  {
   "cell_type": "code",
   "execution_count": 4,
   "metadata": {},
   "outputs": [
    {
     "name": "stderr",
     "output_type": "stream",
     "text": [
      "Warning message:\n",
      "\"package 'TeachBayes' was built under R version 3.4.4\"Loading required package: dplyr\n",
      "Warning message:\n",
      "\"package 'dplyr' was built under R version 3.4.4\"Error: package or namespace load failed for 'dplyr' in loadNamespace(j <- i[[1L]], c(lib.loc, .libPaths()), versionCheck = vI[[j]]):\n",
      " namespace 'R6' 2.2.1 is being loaded, but >= 2.2.2 is required\n"
     ]
    },
    {
     "ename": "ERROR",
     "evalue": "Error: package 'dplyr' could not be loaded\n",
     "output_type": "error",
     "traceback": [
      "Error: package 'dplyr' could not be loaded\nTraceback:\n",
      "1. library(TeachBayes)",
      "2. .getRequiredPackages2(pkgInfo, quietly = quietly)",
      "3. stop(gettextf(\"package %s could not be loaded\", sQuote(pkg)), \n .     call. = FALSE, domain = NA)"
     ]
    }
   ],
   "source": [
    "library(TeachBayes)"
   ]
  },
  {
   "cell_type": "code",
   "execution_count": null,
   "metadata": {},
   "outputs": [],
   "source": [
    "Models=c(0.3, 0.4, 0.5, 0.6, 0.7, 0.8, 0.9)\n",
    "Priors=round(c(1/8, 1/8, 1/8, 2/8, 1/8, 1/8, 1/8),2)\n",
    "\n",
    "df=data.frame(Models, Priors)\n",
    "rownames(df)=c(\"p=0.3\", \"p=0.4\", \"p=0.5\", \"p=0.6\", \"p=0.7\", \"p=0.8\", \"p=0.9\")\n",
    "df"
   ]
  },
  {
   "cell_type": "markdown",
   "metadata": {},
   "source": [
    "#### 2. Collect Data and create liklihoods\n",
    "\n",
    "A liklihood is the probability of observing your result ${given}$ the model is true. In this scenario, the observed result is that from the survey. This is a binomial function where Success is defined as 'yes' I will attend the concert. Success=70, size = 150, and binomial probability of succes = models. Now we simply calculate the liklihood of observing the survey results, ${given}$ the model is true.\n",
    "\n",
    "For example, the liklihood that p=0.3:"
   ]
  },
  {
   "cell_type": "code",
   "execution_count": 22,
   "metadata": {},
   "outputs": [
    {
     "data": {
      "text/html": [
       "6.76225718888869e-06"
      ],
      "text/latex": [
       "6.76225718888869e-06"
      ],
      "text/markdown": [
       "6.76225718888869e-06"
      ],
      "text/plain": [
       "[1] 6.762257e-06"
      ]
     },
     "metadata": {},
     "output_type": "display_data"
    }
   ],
   "source": [
    "dbinom(70, size=150, prob=0.3)"
   ]
  },
  {
   "cell_type": "markdown",
   "metadata": {},
   "source": [
    "This is a very low value! and it suggests the liklihood of observing this survey result, ${given}$ the actual probability of attendance is 0.3 is very low.\n",
    "\n",
    "Calculating the liklihood for the remaining models given the survey data is true:"
   ]
  },
  {
   "cell_type": "code",
   "execution_count": 23,
   "metadata": {},
   "outputs": [
    {
     "data": {
      "text/html": [
       "<table>\n",
       "<thead><tr><th></th><th scope=col>Models</th><th scope=col>Priors</th><th scope=col>Liklihood</th></tr></thead>\n",
       "<tbody>\n",
       "\t<tr><th scope=row>p=0.3</th><td>0.3         </td><td>0.12        </td><td>6.762257e-06</td></tr>\n",
       "\t<tr><th scope=row>p=0.4</th><td>0.4         </td><td>0.12        </td><td>1.659816e-02</td></tr>\n",
       "\t<tr><th scope=row>p=0.5</th><td>0.5         </td><td>0.12        </td><td>4.669402e-02</td></tr>\n",
       "\t<tr><th scope=row>p=0.6</th><td>0.6         </td><td>0.25        </td><td>2.878376e-04</td></tr>\n",
       "\t<tr><th scope=row>p=0.7</th><td>0.7         </td><td>0.12        </td><td>1.413591e-09</td></tr>\n",
       "\t<tr><th scope=row>p=0.8</th><td>0.8         </td><td>0.12        </td><td>1.325743e-19</td></tr>\n",
       "\t<tr><th scope=row>p=0.9</th><td>0.9         </td><td>0.12        </td><td>4.175768e-40</td></tr>\n",
       "</tbody>\n",
       "</table>\n"
      ],
      "text/latex": [
       "\\begin{tabular}{r|lll}\n",
       "  & Models & Priors & Liklihood\\\\\n",
       "\\hline\n",
       "\tp=0.3 & 0.3          & 0.12         & 6.762257e-06\\\\\n",
       "\tp=0.4 & 0.4          & 0.12         & 1.659816e-02\\\\\n",
       "\tp=0.5 & 0.5          & 0.12         & 4.669402e-02\\\\\n",
       "\tp=0.6 & 0.6          & 0.25         & 2.878376e-04\\\\\n",
       "\tp=0.7 & 0.7          & 0.12         & 1.413591e-09\\\\\n",
       "\tp=0.8 & 0.8          & 0.12         & 1.325743e-19\\\\\n",
       "\tp=0.9 & 0.9          & 0.12         & 4.175768e-40\\\\\n",
       "\\end{tabular}\n"
      ],
      "text/markdown": [
       "\n",
       "| <!--/--> | Models | Priors | Liklihood | \n",
       "|---|---|---|---|---|---|---|\n",
       "| p=0.3 | 0.3          | 0.12         | 6.762257e-06 | \n",
       "| p=0.4 | 0.4          | 0.12         | 1.659816e-02 | \n",
       "| p=0.5 | 0.5          | 0.12         | 4.669402e-02 | \n",
       "| p=0.6 | 0.6          | 0.25         | 2.878376e-04 | \n",
       "| p=0.7 | 0.7          | 0.12         | 1.413591e-09 | \n",
       "| p=0.8 | 0.8          | 0.12         | 1.325743e-19 | \n",
       "| p=0.9 | 0.9          | 0.12         | 4.175768e-40 | \n",
       "\n",
       "\n"
      ],
      "text/plain": [
       "      Models Priors Liklihood   \n",
       "p=0.3 0.3    0.12   6.762257e-06\n",
       "p=0.4 0.4    0.12   1.659816e-02\n",
       "p=0.5 0.5    0.12   4.669402e-02\n",
       "p=0.6 0.6    0.25   2.878376e-04\n",
       "p=0.7 0.7    0.12   1.413591e-09\n",
       "p=0.8 0.8    0.12   1.325743e-19\n",
       "p=0.9 0.9    0.12   4.175768e-40"
      ]
     },
     "metadata": {},
     "output_type": "display_data"
    }
   ],
   "source": [
    "df$Liklihood=dbinom(70, size=150, prob=Models)\n",
    "df\n"
   ]
  },
  {
   "cell_type": "markdown",
   "metadata": {},
   "source": [
    "#### 3. Now we want to update our prior probabilities with a posterior probability, which depends on our priors and the observed data.\n",
    "\n",
    "$Posterior\\ probability =\\frac{Prior\\ x\\ Liklihood} {\\sum(Prior\\ x\\ Liklihood)}$\n"
   ]
  },
  {
   "cell_type": "code",
   "execution_count": 24,
   "metadata": {},
   "outputs": [
    {
     "data": {
      "text/html": [
       "<table>\n",
       "<thead><tr><th></th><th scope=col>Models</th><th scope=col>Priors</th><th scope=col>Liklihood</th><th scope=col>Product</th><th scope=col>Posterior</th></tr></thead>\n",
       "<tbody>\n",
       "\t<tr><th scope=row>p=0.3</th><td>0.3         </td><td>0.12        </td><td>6.762257e-06</td><td>8.114709e-07</td><td>1.058279e-04</td></tr>\n",
       "\t<tr><th scope=row>p=0.4</th><td>0.4         </td><td>0.12        </td><td>1.659816e-02</td><td>1.991780e-03</td><td>2.597578e-01</td></tr>\n",
       "\t<tr><th scope=row>p=0.5</th><td>0.5         </td><td>0.12        </td><td>4.669402e-02</td><td>5.603283e-03</td><td>7.307517e-01</td></tr>\n",
       "\t<tr><th scope=row>p=0.6</th><td>0.6         </td><td>0.25        </td><td>2.878376e-04</td><td>7.195939e-05</td><td>9.384579e-03</td></tr>\n",
       "\t<tr><th scope=row>p=0.7</th><td>0.7         </td><td>0.12        </td><td>1.413591e-09</td><td>1.696309e-10</td><td>2.212241e-08</td></tr>\n",
       "\t<tr><th scope=row>p=0.8</th><td>0.8         </td><td>0.12        </td><td>1.325743e-19</td><td>1.590892e-20</td><td>2.074760e-18</td></tr>\n",
       "\t<tr><th scope=row>p=0.9</th><td>0.9         </td><td>0.12        </td><td>4.175768e-40</td><td>5.010921e-41</td><td>6.534989e-39</td></tr>\n",
       "</tbody>\n",
       "</table>\n"
      ],
      "text/latex": [
       "\\begin{tabular}{r|lllll}\n",
       "  & Models & Priors & Liklihood & Product & Posterior\\\\\n",
       "\\hline\n",
       "\tp=0.3 & 0.3          & 0.12         & 6.762257e-06 & 8.114709e-07 & 1.058279e-04\\\\\n",
       "\tp=0.4 & 0.4          & 0.12         & 1.659816e-02 & 1.991780e-03 & 2.597578e-01\\\\\n",
       "\tp=0.5 & 0.5          & 0.12         & 4.669402e-02 & 5.603283e-03 & 7.307517e-01\\\\\n",
       "\tp=0.6 & 0.6          & 0.25         & 2.878376e-04 & 7.195939e-05 & 9.384579e-03\\\\\n",
       "\tp=0.7 & 0.7          & 0.12         & 1.413591e-09 & 1.696309e-10 & 2.212241e-08\\\\\n",
       "\tp=0.8 & 0.8          & 0.12         & 1.325743e-19 & 1.590892e-20 & 2.074760e-18\\\\\n",
       "\tp=0.9 & 0.9          & 0.12         & 4.175768e-40 & 5.010921e-41 & 6.534989e-39\\\\\n",
       "\\end{tabular}\n"
      ],
      "text/markdown": [
       "\n",
       "| <!--/--> | Models | Priors | Liklihood | Product | Posterior | \n",
       "|---|---|---|---|---|---|---|\n",
       "| p=0.3 | 0.3          | 0.12         | 6.762257e-06 | 8.114709e-07 | 1.058279e-04 | \n",
       "| p=0.4 | 0.4          | 0.12         | 1.659816e-02 | 1.991780e-03 | 2.597578e-01 | \n",
       "| p=0.5 | 0.5          | 0.12         | 4.669402e-02 | 5.603283e-03 | 7.307517e-01 | \n",
       "| p=0.6 | 0.6          | 0.25         | 2.878376e-04 | 7.195939e-05 | 9.384579e-03 | \n",
       "| p=0.7 | 0.7          | 0.12         | 1.413591e-09 | 1.696309e-10 | 2.212241e-08 | \n",
       "| p=0.8 | 0.8          | 0.12         | 1.325743e-19 | 1.590892e-20 | 2.074760e-18 | \n",
       "| p=0.9 | 0.9          | 0.12         | 4.175768e-40 | 5.010921e-41 | 6.534989e-39 | \n",
       "\n",
       "\n"
      ],
      "text/plain": [
       "      Models Priors Liklihood    Product      Posterior   \n",
       "p=0.3 0.3    0.12   6.762257e-06 8.114709e-07 1.058279e-04\n",
       "p=0.4 0.4    0.12   1.659816e-02 1.991780e-03 2.597578e-01\n",
       "p=0.5 0.5    0.12   4.669402e-02 5.603283e-03 7.307517e-01\n",
       "p=0.6 0.6    0.25   2.878376e-04 7.195939e-05 9.384579e-03\n",
       "p=0.7 0.7    0.12   1.413591e-09 1.696309e-10 2.212241e-08\n",
       "p=0.8 0.8    0.12   1.325743e-19 1.590892e-20 2.074760e-18\n",
       "p=0.9 0.9    0.12   4.175768e-40 5.010921e-41 6.534989e-39"
      ]
     },
     "metadata": {},
     "output_type": "display_data"
    }
   ],
   "source": [
    "df$Product = df$Priors*df$Liklihood\n",
    "df$Posterior=df$Product/sum(df$Product)\n",
    "df"
   ]
  },
  {
   "cell_type": "markdown",
   "metadata": {},
   "source": [
    "A good check is that the sum of the Posterior probabilities = 1."
   ]
  },
  {
   "cell_type": "code",
   "execution_count": 25,
   "metadata": {},
   "outputs": [
    {
     "data": {
      "text/html": [
       "1"
      ],
      "text/latex": [
       "1"
      ],
      "text/markdown": [
       "1"
      ],
      "text/plain": [
       "[1] 1"
      ]
     },
     "metadata": {},
     "output_type": "display_data"
    }
   ],
   "source": [
    "sum(df$Posterior)"
   ]
  },
  {
   "cell_type": "markdown",
   "metadata": {},
   "source": [
    "Good, the Posterior probabilities sum to 1. Now how are these Posterior Probabilities different than our Priors?"
   ]
  },
  {
   "cell_type": "code",
   "execution_count": 26,
   "metadata": {},
   "outputs": [
    {
     "data": {},
     "metadata": {},
     "output_type": "display_data"
    },
    {
     "data": {
      "image/png": "[encoded data removed]",
      "text/plain": [
       "plot without title"
      ]
     },
     "metadata": {},
     "output_type": "display_data"
    }
   ],
   "source": [
    "options(repr.plot.width=4.5, repr.plot.height=4.5)\n",
    "library(reshape)\n",
    "library(ggplot2)\n",
    "\n",
    "df.long=melt(df, id=\"Models\")\n",
    "\n",
    "plt.std=plt.std=theme(legend.position=\"top\", legend.text = element_text(size=12), axis.text.x = element_text(size=12),  axis.text.y = element_text(size=12), axis.title.y = element_text(size=14), strip.text.x = element_text(size=16), panel.background = element_rect(fill='white', colour='black'), legend.key = element_blank())\n",
    "color1=c(\"royalblue2\", \"red2\")\n",
    "ggplot(data=subset(df.long, variable%in% c(\"Priors\", \"Posterior\")), aes(x=as.factor(Models), y=value, fill=variable))+geom_bar(stat=\"identity\", position=\"dodge\")+ylab(\"Probability\")+scale_fill_manual(values=color1, name=\"\")+xlab(\"Models\")+ggtitle(\"Probabilities after 1st Survey\")+plt.std"
   ]
  },
  {
   "cell_type": "markdown",
   "metadata": {},
   "source": [
    "Origninally, the prior probabilities are more equally distributed across our models. But, with our beliefs and the survey data we see that it is far more likely the survey results came from a model where the proportion of town attandance is 0.5. \n",
    "\n",
    "This updates our probabilities and we would suggest the town manager order enough food for roughly 50% of Austin. $\\textbf{Now she is more confident that the attendance will be near 50%, when earlier she thought it was more likely that the attendance could be 60%.}$ She is now able to save money and not waste food. What a good reason to employ Bayes' Theorem!"
   ]
  },
  {
   "cell_type": "markdown",
   "metadata": {},
   "source": [
    "We're happy with these results, but suppose we wanted to send another survey closer to the concert date to give us a better estimate of the attendance. We would simply take the \"Posteriors\" from the results above and use them as our \"Priors\" in the calculations. "
   ]
  },
  {
   "cell_type": "code",
   "execution_count": 27,
   "metadata": {},
   "outputs": [
    {
     "data": {
      "text/html": [
       "<table>\n",
       "<thead><tr><th></th><th scope=col>Models</th><th scope=col>Priors2</th></tr></thead>\n",
       "<tbody>\n",
       "\t<tr><th scope=row>p=0.3</th><td>0.3         </td><td>1.058279e-04</td></tr>\n",
       "\t<tr><th scope=row>p=0.4</th><td>0.4         </td><td>2.597578e-01</td></tr>\n",
       "\t<tr><th scope=row>p=0.5</th><td>0.5         </td><td>7.307517e-01</td></tr>\n",
       "\t<tr><th scope=row>p=0.6</th><td>0.6         </td><td>9.384579e-03</td></tr>\n",
       "\t<tr><th scope=row>p=0.7</th><td>0.7         </td><td>2.212241e-08</td></tr>\n",
       "\t<tr><th scope=row>p=0.8</th><td>0.8         </td><td>2.074760e-18</td></tr>\n",
       "\t<tr><th scope=row>p=0.9</th><td>0.9         </td><td>6.534989e-39</td></tr>\n",
       "</tbody>\n",
       "</table>\n"
      ],
      "text/latex": [
       "\\begin{tabular}{r|ll}\n",
       "  & Models & Priors2\\\\\n",
       "\\hline\n",
       "\tp=0.3 & 0.3          & 1.058279e-04\\\\\n",
       "\tp=0.4 & 0.4          & 2.597578e-01\\\\\n",
       "\tp=0.5 & 0.5          & 7.307517e-01\\\\\n",
       "\tp=0.6 & 0.6          & 9.384579e-03\\\\\n",
       "\tp=0.7 & 0.7          & 2.212241e-08\\\\\n",
       "\tp=0.8 & 0.8          & 2.074760e-18\\\\\n",
       "\tp=0.9 & 0.9          & 6.534989e-39\\\\\n",
       "\\end{tabular}\n"
      ],
      "text/markdown": [
       "\n",
       "| <!--/--> | Models | Priors2 | \n",
       "|---|---|---|---|---|---|---|\n",
       "| p=0.3 | 0.3          | 1.058279e-04 | \n",
       "| p=0.4 | 0.4          | 2.597578e-01 | \n",
       "| p=0.5 | 0.5          | 7.307517e-01 | \n",
       "| p=0.6 | 0.6          | 9.384579e-03 | \n",
       "| p=0.7 | 0.7          | 2.212241e-08 | \n",
       "| p=0.8 | 0.8          | 2.074760e-18 | \n",
       "| p=0.9 | 0.9          | 6.534989e-39 | \n",
       "\n",
       "\n"
      ],
      "text/plain": [
       "      Models Priors2     \n",
       "p=0.3 0.3    1.058279e-04\n",
       "p=0.4 0.4    2.597578e-01\n",
       "p=0.5 0.5    7.307517e-01\n",
       "p=0.6 0.6    9.384579e-03\n",
       "p=0.7 0.7    2.212241e-08\n",
       "p=0.8 0.8    2.074760e-18\n",
       "p=0.9 0.9    6.534989e-39"
      ]
     },
     "metadata": {},
     "output_type": "display_data"
    }
   ],
   "source": [
    "df2=df[c(\"Models\", \"Posterior\")]\n",
    "colnames(df2)[2]=\"Priors2\"\n",
    "df2"
   ]
  },
  {
   "cell_type": "markdown",
   "metadata": {},
   "source": [
    "We calculate the Liklihoods next based on the new survey results.\n",
    "Our new survey was sent to 100 people and 55 responded 'yes'. We calculate a new Liklihood for each model:"
   ]
  },
  {
   "cell_type": "code",
   "execution_count": 28,
   "metadata": {},
   "outputs": [
    {
     "data": {
      "text/html": [
       "<table>\n",
       "<thead><tr><th></th><th scope=col>Models</th><th scope=col>Priors2</th><th scope=col>Liklihood2</th></tr></thead>\n",
       "<tbody>\n",
       "\t<tr><th scope=row>p=0.3</th><td>0.3         </td><td>1.058279e-04</td><td>4.273205e-13</td></tr>\n",
       "\t<tr><th scope=row>p=0.4</th><td>0.4         </td><td>2.597578e-01</td><td>2.562323e-07</td></tr>\n",
       "\t<tr><th scope=row>p=0.5</th><td>0.5         </td><td>7.307517e-01</td><td>8.638557e-04</td></tr>\n",
       "\t<tr><th scope=row>p=0.6</th><td>0.6         </td><td>9.384579e-03</td><td>4.913282e-02</td></tr>\n",
       "\t<tr><th scope=row>p=0.7</th><td>0.7         </td><td>2.212241e-08</td><td>4.677968e-02</td></tr>\n",
       "\t<tr><th scope=row>p=0.8</th><td>0.8         </td><td>2.074760e-18</td><td>1.889469e-04</td></tr>\n",
       "\t<tr><th scope=row>p=0.9</th><td>0.9         </td><td>6.534989e-39</td><td>1.161994e-11</td></tr>\n",
       "</tbody>\n",
       "</table>\n"
      ],
      "text/latex": [
       "\\begin{tabular}{r|lll}\n",
       "  & Models & Priors2 & Liklihood2\\\\\n",
       "\\hline\n",
       "\tp=0.3 & 0.3          & 1.058279e-04 & 4.273205e-13\\\\\n",
       "\tp=0.4 & 0.4          & 2.597578e-01 & 2.562323e-07\\\\\n",
       "\tp=0.5 & 0.5          & 7.307517e-01 & 8.638557e-04\\\\\n",
       "\tp=0.6 & 0.6          & 9.384579e-03 & 4.913282e-02\\\\\n",
       "\tp=0.7 & 0.7          & 2.212241e-08 & 4.677968e-02\\\\\n",
       "\tp=0.8 & 0.8          & 2.074760e-18 & 1.889469e-04\\\\\n",
       "\tp=0.9 & 0.9          & 6.534989e-39 & 1.161994e-11\\\\\n",
       "\\end{tabular}\n"
      ],
      "text/markdown": [
       "\n",
       "| <!--/--> | Models | Priors2 | Liklihood2 | \n",
       "|---|---|---|---|---|---|---|\n",
       "| p=0.3 | 0.3          | 1.058279e-04 | 4.273205e-13 | \n",
       "| p=0.4 | 0.4          | 2.597578e-01 | 2.562323e-07 | \n",
       "| p=0.5 | 0.5          | 7.307517e-01 | 8.638557e-04 | \n",
       "| p=0.6 | 0.6          | 9.384579e-03 | 4.913282e-02 | \n",
       "| p=0.7 | 0.7          | 2.212241e-08 | 4.677968e-02 | \n",
       "| p=0.8 | 0.8          | 2.074760e-18 | 1.889469e-04 | \n",
       "| p=0.9 | 0.9          | 6.534989e-39 | 1.161994e-11 | \n",
       "\n",
       "\n"
      ],
      "text/plain": [
       "      Models Priors2      Liklihood2  \n",
       "p=0.3 0.3    1.058279e-04 4.273205e-13\n",
       "p=0.4 0.4    2.597578e-01 2.562323e-07\n",
       "p=0.5 0.5    7.307517e-01 8.638557e-04\n",
       "p=0.6 0.6    9.384579e-03 4.913282e-02\n",
       "p=0.7 0.7    2.212241e-08 4.677968e-02\n",
       "p=0.8 0.8    2.074760e-18 1.889469e-04\n",
       "p=0.9 0.9    6.534989e-39 1.161994e-11"
      ]
     },
     "metadata": {},
     "output_type": "display_data"
    }
   ],
   "source": [
    "df2$Liklihood2=dbinom(65, size=100, prob=Models)\n",
    "df2"
   ]
  },
  {
   "cell_type": "code",
   "execution_count": 29,
   "metadata": {},
   "outputs": [
    {
     "ename": "ERROR",
     "evalue": "Error in parse(text = x, srcfile = src): <text>:1:5: unexpected symbol\n1: Now we\n        ^\n",
     "output_type": "error",
     "traceback": [
      "Error in parse(text = x, srcfile = src): <text>:1:5: unexpected symbol\n1: Now we\n        ^\nTraceback:\n"
     ]
    }
   ],
   "source": [
    "Now we recalculate the product and Posterior proabilities:"
   ]
  },
  {
   "cell_type": "code",
   "execution_count": null,
   "metadata": {},
   "outputs": [],
   "source": [
    "df2$Product2 = df2$Priors*df2$Liklihood2\n",
    "df2$Posterior2=df2$Product2/sum(df2$Product2)\n",
    "df2"
   ]
  },
  {
   "cell_type": "code",
   "execution_count": null,
   "metadata": {},
   "outputs": [],
   "source": [
    "df.long2=melt(df2, id=\"Models\")\n",
    "\n",
    "ggplot(data=subset(df.long2, variable%in% c(\"Priors2\", \"Posterior2\")), aes(x=as.factor(Models), y=value, fill=variable))+geom_bar(stat=\"identity\", position=\"dodge\")+plt.std+ylab(\"Probability\")+scale_fill_manual(values=color1, name=\"\")+xlab(\"Models\")+ggtitle(\"Probabilities after 2nd Survey\")"
   ]
  },
  {
   "cell_type": "markdown",
   "metadata": {},
   "source": [
    "Now, after the 2nd survey we are still confident the proprotion of Austin attending the concert will be 50% (p=0.5), but there is also a roughly 42% chance that p=0.6. If we repeated this again and again and survey results came from a known distribution, we would converge on the true probabilities for each model.\n",
    "\n",
    "We'd like to be a bit more confident before placing our food order. But, we don't have time for more surveys. We have some statistic nerds in the city planning group, and they suggest running simulations to approximate survey results and update our Posterior probabilities.\n"
   ]
  },
  {
   "cell_type": "markdown",
   "metadata": {},
   "source": [
    "Using the same general idea as above, we'll construct a continuous Posterior distribution based on the Prior distribution. If these two distributions are in the same family they are called $conjugates$. \n",
    "\n",
    "For the binomial distribution (our survey successes or failures), the conjugate is a beta distribution. Thus, when we know the Prior distribution we can determine the Posterior distribution, which is proportional to the Likelihood x Prior distribution. This helps simplify our ability to calculate the Posterior. "
   ]
  },
  {
   "cell_type": "markdown",
   "metadata": {},
   "source": [
    "$Posterior = \\frac{(Likelihood) * Prior}{Data}$ \n",
    "\n",
    "$P(A|B) = \\frac{P(B|A) P(A)}{P(B)}$ "
   ]
  },
  {
   "cell_type": "markdown",
   "metadata": {},
   "source": [
    "Because the denominator is a normalizing term (makes the probabilities sum to 1), we know that Posterior is proportional to Likelihood and Prior.  Think of this like chemistry with conjugate acids and bases. If we know 1, we can determine the other one we need to nuetralize our chemicals.\n",
    "\n",
    "\n",
    "In this binomial example:\n",
    "\n",
    "$Posterior Beta \\propto {(Binomial  Likelihood) * Beta Prior}$\n",
    "\n",
    "We won't get into all the details of a Beta distribution, but think of it like a normal distribution and instead of being characterizied by the mean and standard deviation, it is paramaterized by two shape terms a and b."
   ]
  },
  {
   "cell_type": "markdown",
   "metadata": {},
   "source": [
    "In this example, we are trying to calculate the true proportion of people in Austin that will attend this concert. The stats nerds have looked at previous attendance records, they determine:\n",
    "\n",
    "1. Prior attendance proportion median value = 0.60 \n",
    "2. The attendance proportion follows a beta distribution with a=2.9 and b=2 (this is our Prior)\n",
    "\n"
   ]
  },
  {
   "cell_type": "code",
   "execution_count": 7,
   "metadata": {},
   "outputs": [
    {
     "name": "stderr",
     "output_type": "stream",
     "text": [
      "Warning message:\n",
      "\"package 'dplyr' was built under R version 3.4.4\""
     ]
    },
    {
     "ename": "ERROR",
     "evalue": "Error: package or namespace load failed for 'dplyr' in loadNamespace(j <- i[[1L]], c(lib.loc, .libPaths()), versionCheck = vI[[j]]):\n namespace 'R6' 2.2.1 is being loaded, but >= 2.2.2 is required\n",
     "output_type": "error",
     "traceback": [
      "Error: package or namespace load failed for 'dplyr' in loadNamespace(j <- i[[1L]], c(lib.loc, .libPaths()), versionCheck = vI[[j]]):\n namespace 'R6' 2.2.1 is being loaded, but >= 2.2.2 is required\nTraceback:\n",
      "1. library(dplyr)",
      "2. tryCatch({\n .     attr(package, \"LibPath\") <- which.lib.loc\n .     ns <- loadNamespace(package, lib.loc)\n .     env <- attachNamespace(ns, pos = pos, deps)\n . }, error = function(e) {\n .     P <- if (!is.null(cc <- conditionCall(e))) \n .         paste(\" in\", deparse(cc)[1L])\n .     else \"\"\n .     msg <- gettextf(\"package or namespace load failed for %s%s:\\n %s\", \n .         sQuote(package), P, conditionMessage(e))\n .     if (logical.return) \n .         message(paste(\"Error:\", msg), domain = NA)\n .     else stop(msg, call. = FALSE, domain = NA)\n . })",
      "3. tryCatchList(expr, classes, parentenv, handlers)",
      "4. tryCatchOne(expr, names, parentenv, handlers[[1L]])",
      "5. value[[3L]](cond)",
      "6. stop(msg, call. = FALSE, domain = NA)"
     ]
    }
   ],
   "source": [
    "library(dplyr)\n",
    "library(TeachBayes)\n",
    "Prior_beta=c(2.9,2)\n",
    "beta_draw(PriorBeta)\n"
   ]
  },
  {
   "cell_type": "markdown",
   "metadata": {},
   "source": [
    "#### We simulate data from the Posterior distribution (Beta).\n",
    "With a Beta distribution, this is pretty easy! The Posterior shape parameters are the Prior shape parameters scaled with the observed data.\n",
    "\n",
    "a Posterior = a + # of successes (70 in our surveys)\n",
    "\n",
    "b Posterior = b + # of failures (80 in our surveys)\n",
    "\n",
    "Our new Posterior distribution is a Beta distribution with shape parameters:\n",
    "a=2.9+70 = 72.9\n",
    "\n",
    "b=2.0+80 = 80"
   ]
  },
  {
   "cell_type": "code",
   "execution_count": 14,
   "metadata": {},
   "outputs": [
    {
     "data": {
      "image/png": "[encoded data removed]",
      "text/plain": [
       "Plot with title \"Histogram of Posterior_sim\""
      ]
     },
     "metadata": {},
     "output_type": "display_data"
    }
   ],
   "source": [
    "a=2.9+70 \n",
    "\n",
    "b=2.0+80 \n",
    "Posterior_sim=rbeta(5000, a,b)\n",
    "hist(Posterior_sim, breaks=30)"
   ]
  },
  {
   "cell_type": "markdown",
   "metadata": {},
   "source": [
    "Now we can make inferences with this Posterior distribution. \n",
    "\n",
    "Our boss (the Mayor!) wants us to order enough food so that there is relatively small, 20%, chance we run out of food. We are looking for the 1-0.20 quantile, or the 80% probability that this proportion of the town, or smaller, shows up to the concert.\n",
    "\n",
    "Before our simulation, we would have used our prior knowledge to estimate this:\n"
   ]
  },
  {
   "cell_type": "code",
   "execution_count": 18,
   "metadata": {},
   "outputs": [
    {
     "data": {
      "text/html": [
       "0.78"
      ],
      "text/latex": [
       "0.78"
      ],
      "text/markdown": [
       "0.78"
      ],
      "text/plain": [
       "[1] 0.78"
      ]
     },
     "metadata": {},
     "output_type": "display_data"
    }
   ],
   "source": [
    "round(qbeta(0.8, 2.9,2 ),2)"
   ]
  },
  {
   "cell_type": "markdown",
   "metadata": {},
   "source": [
    "This implies that we would need to order enough food for 78% of Austin!\n",
    "\n",
    "With our updated Posterior, this quantile is:"
   ]
  },
  {
   "cell_type": "code",
   "execution_count": 19,
   "metadata": {},
   "outputs": [
    {
     "data": {
      "text/html": [
       "<strong>80%:</strong> 0.5"
      ],
      "text/latex": [
       "\\textbf{80\\textbackslash{}\\%:} 0.5"
      ],
      "text/markdown": [
       "**80%:** 0.5"
      ],
      "text/plain": [
       "80% \n",
       "0.5 "
      ]
     },
     "metadata": {},
     "output_type": "display_data"
    }
   ],
   "source": [
    "round(quantile(Posterior_sim, .8),2)"
   ]
  },
  {
   "cell_type": "markdown",
   "metadata": {},
   "source": [
    "Great! Now we only need to order enough food for 50% of Austin, but now we're more confident that this will be enough."
   ]
  },
  {
   "cell_type": "markdown",
   "metadata": {},
   "source": [
    "The Mayor also wants to know the probability that less than 40% of Austin will show up. If there will be low attendance, she may want to cancel the concert."
   ]
  },
  {
   "cell_type": "code",
   "execution_count": 23,
   "metadata": {},
   "outputs": [
    {
     "data": {
      "text/html": [
       "0.0362"
      ],
      "text/latex": [
       "0.0362"
      ],
      "text/markdown": [
       "0.0362"
      ],
      "text/plain": [
       "[1] 0.0362"
      ]
     },
     "metadata": {},
     "output_type": "display_data"
    },
    {
     "data": {
      "text/html": [
       "181"
      ],
      "text/latex": [
       "181"
      ],
      "text/markdown": [
       "181"
      ],
      "text/plain": [
       "[1] 181"
      ]
     },
     "metadata": {},
     "output_type": "display_data"
    },
    {
     "data": {
      "text/html": [
       "5000"
      ],
      "text/latex": [
       "5000"
      ],
      "text/markdown": [
       "5000"
      ],
      "text/plain": [
       "[1] 5000"
      ]
     },
     "metadata": {},
     "output_type": "display_data"
    }
   ],
   "source": [
    "sum(Posterior_sim<0.4)/length(Posterior_sim)"
   ]
  },
  {
   "cell_type": "markdown",
   "metadata": {},
   "source": [
    "This is only a 3.6% chance that less than 40% of Austin will show up, and thus a 96.4% chance that more than 40% of the city will show up! This is good news! The Show will go on!\n",
    "\n",
    "The Mayor is skeptical of these results. She wants a classical (Frequentist) analysis as well. In this case, we must use the survey data and the Binomial distribution. "
   ]
  },
  {
   "cell_type": "code",
   "execution_count": null,
   "metadata": {},
   "outputs": [],
   "source": []
  },
  {
   "cell_type": "code",
   "execution_count": null,
   "metadata": {},
   "outputs": [],
   "source": [
    "Here, \n",
    "n = number of trials = 150 surveys\n",
    "p = probability of success = 70/150 = 0.46\n",
    "x = x successful outcomes (less than 40% of the population = 0.4*150=60)"
   ]
  },
  {
   "cell_type": "code",
   "execution_count": 25,
   "metadata": {},
   "outputs": [
    {
     "data": {
      "text/html": [
       "0.0595390558679361"
      ],
      "text/latex": [
       "0.0595390558679361"
      ],
      "text/markdown": [
       "0.0595390558679361"
      ],
      "text/plain": [
       "[1] 0.05953906"
      ]
     },
     "metadata": {},
     "output_type": "display_data"
    }
   ],
   "source": [
    "x= .4*150\n",
    "p = 70/150\n",
    "n =150\n",
    "\n",
    "pbinom(x, size=n, prob=p)#probability of less than 40% of population showing up"
   ]
  },
  {
   "cell_type": "markdown",
   "metadata": {},
   "source": [
    "The probability of having less than 40% of the town show up, according to classical methods, is almost 6%. This is much higher than our Bayes' approach.' But, it gives our boss peace of mind that we will likely have more than 40% of the city show up, even if we use the more conservative classical calculations."
   ]
  },
  {
   "cell_type": "code",
   "execution_count": null,
   "metadata": {},
   "outputs": [],
   "source": [
    "Posteior_beta=c(2.9+70, 2.0+80)\n",
    "\n",
    "beta_prior_post(Prior_beta, Posterior_beta)"
   ]
  },
  {
   "cell_type": "markdown",
   "metadata": {},
   "source": [
    "Not we are much more confident that the true proportion of town attendance will be around 48% of the population. This is very helpful, and ensures we will not waste money on excess food. Our boss (the Mayor!) wants us to order enough food so we are sure to have enough for our expected audiance (mean) plus an additional 20% ,"
   ]
  },
  {
   "cell_type": "markdown",
   "metadata": {},
   "source": [
    "Why do we need the Priors are all, you may ask? Well, they help constrain our estimates. If we had no Priors, the Likelihood of observing each model ${given}$ the survey results, would be based soley on the survey results (yes and no responses for a binomial) and give no weight to the fact that usually 60% and 70% of the population attends a concert. Without these priors our estimated proportion of the town in attendance would be:"
   ]
  },
  {
   "cell_type": "markdown",
   "metadata": {},
   "source": [
    "The Monte Carlo methods are simulations instead of analytical solutions. In frequentist (or the more traditional) statistics, you would use a function to maximize a likelihood. Here we simulate results and determine which results would occur in greatest frequency."
   ]
  },
  {
   "cell_type": "code",
   "execution_count": null,
   "metadata": {},
   "outputs": [],
   "source": []
  }
 ],
 "metadata": {
  "kernelspec": {
   "display_name": "R",
   "language": "R",
   "name": "ir"
  },
  "language_info": {
   "codemirror_mode": "r",
   "file_extension": ".r",
   "mimetype": "text/x-r-source",
   "name": "R",
   "pygments_lexer": "r",
   "version": "3.4.3"
  }
 },
 "nbformat": 4,
 "nbformat_minor": 2
}
